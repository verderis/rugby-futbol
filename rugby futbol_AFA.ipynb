{
 "cells": [
  {
   "cell_type": "code",
   "execution_count": 1,
   "metadata": {},
   "outputs": [],
   "source": [
    "import arviz as az\n",
    "import matplotlib.pyplot as plt\n",
    "import numpy as np\n",
    "import pandas as pd\n",
    "import pymc as pm\n",
    "import pytensor.tensor as pt\n",
    "import seaborn as sns"
   ]
  },
  {
   "cell_type": "markdown",
   "metadata": {},
   "source": [
    "prepro datos futbol"
   ]
  },
  {
   "cell_type": "code",
   "execution_count": 2,
   "metadata": {},
   "outputs": [],
   "source": [
    "df_all = pd.read_csv(\"results_liga_argentina.csv\", index_col=0)"
   ]
  },
  {
   "cell_type": "code",
   "execution_count": 3,
   "metadata": {},
   "outputs": [
    {
     "data": {
      "text/html": [
       "<div>\n",
       "<style scoped>\n",
       "    .dataframe tbody tr th:only-of-type {\n",
       "        vertical-align: middle;\n",
       "    }\n",
       "\n",
       "    .dataframe tbody tr th {\n",
       "        vertical-align: top;\n",
       "    }\n",
       "\n",
       "    .dataframe thead th {\n",
       "        text-align: right;\n",
       "    }\n",
       "</style>\n",
       "<table border=\"1\" class=\"dataframe\">\n",
       "  <thead>\n",
       "    <tr style=\"text-align: right;\">\n",
       "      <th></th>\n",
       "      <th>date_name</th>\n",
       "      <th>local_team_id</th>\n",
       "      <th>local_team</th>\n",
       "      <th>local_result</th>\n",
       "      <th>visitor_result</th>\n",
       "      <th>visitor_team</th>\n",
       "      <th>visitor_team_id</th>\n",
       "    </tr>\n",
       "  </thead>\n",
       "  <tbody>\n",
       "    <tr>\n",
       "      <th>0</th>\n",
       "      <td>Nacional 1976 - Grupo C</td>\n",
       "      <td>1</td>\n",
       "      <td>All Boys</td>\n",
       "      <td>2</td>\n",
       "      <td>0</td>\n",
       "      <td>Aldosivi</td>\n",
       "      <td>0</td>\n",
       "    </tr>\n",
       "    <tr>\n",
       "      <th>1</th>\n",
       "      <td>Nacional 1976 - Grupo C</td>\n",
       "      <td>0</td>\n",
       "      <td>Aldosivi</td>\n",
       "      <td>4</td>\n",
       "      <td>0</td>\n",
       "      <td>All Boys</td>\n",
       "      <td>1</td>\n",
       "    </tr>\n",
       "    <tr>\n",
       "      <th>2</th>\n",
       "      <td>Superliga 2019/20 - Fecha 2</td>\n",
       "      <td>0</td>\n",
       "      <td>Aldosivi</td>\n",
       "      <td>0</td>\n",
       "      <td>0</td>\n",
       "      <td>Argentinos</td>\n",
       "      <td>7</td>\n",
       "    </tr>\n",
       "    <tr>\n",
       "      <th>3</th>\n",
       "      <td>Superliga 2018/19 - Fecha 15</td>\n",
       "      <td>7</td>\n",
       "      <td>Argentinos</td>\n",
       "      <td>1</td>\n",
       "      <td>2</td>\n",
       "      <td>Aldosivi</td>\n",
       "      <td>0</td>\n",
       "    </tr>\n",
       "    <tr>\n",
       "      <th>4</th>\n",
       "      <td>Torneo 2016 - Fecha 2</td>\n",
       "      <td>0</td>\n",
       "      <td>Aldosivi</td>\n",
       "      <td>3</td>\n",
       "      <td>2</td>\n",
       "      <td>Argentinos</td>\n",
       "      <td>7</td>\n",
       "    </tr>\n",
       "    <tr>\n",
       "      <th>...</th>\n",
       "      <td>...</td>\n",
       "      <td>...</td>\n",
       "      <td>...</td>\n",
       "      <td>...</td>\n",
       "      <td>...</td>\n",
       "      <td>...</td>\n",
       "      <td>...</td>\n",
       "    </tr>\n",
       "    <tr>\n",
       "      <th>32849</th>\n",
       "      <td>Nacional 1976 - Grupo C</td>\n",
       "      <td>93</td>\n",
       "      <td>Union</td>\n",
       "      <td>1</td>\n",
       "      <td>0</td>\n",
       "      <td>Velez</td>\n",
       "      <td>94</td>\n",
       "    </tr>\n",
       "    <tr>\n",
       "      <th>32850</th>\n",
       "      <td>Metropolitano 1975 - Fecha 36</td>\n",
       "      <td>94</td>\n",
       "      <td>Velez</td>\n",
       "      <td>0</td>\n",
       "      <td>0</td>\n",
       "      <td>Union</td>\n",
       "      <td>93</td>\n",
       "    </tr>\n",
       "    <tr>\n",
       "      <th>32851</th>\n",
       "      <td>Metropolitano 1975 - Fecha 17</td>\n",
       "      <td>93</td>\n",
       "      <td>Union</td>\n",
       "      <td>1</td>\n",
       "      <td>0</td>\n",
       "      <td>Velez</td>\n",
       "      <td>94</td>\n",
       "    </tr>\n",
       "    <tr>\n",
       "      <th>32852</th>\n",
       "      <td>Metropolitano 1970 - Fecha 16</td>\n",
       "      <td>93</td>\n",
       "      <td>Union</td>\n",
       "      <td>1</td>\n",
       "      <td>1</td>\n",
       "      <td>Velez</td>\n",
       "      <td>94</td>\n",
       "    </tr>\n",
       "    <tr>\n",
       "      <th>32853</th>\n",
       "      <td>Nacional 1969 - Fecha 7</td>\n",
       "      <td>93</td>\n",
       "      <td>Union</td>\n",
       "      <td>0</td>\n",
       "      <td>0</td>\n",
       "      <td>Velez</td>\n",
       "      <td>94</td>\n",
       "    </tr>\n",
       "  </tbody>\n",
       "</table>\n",
       "<p>32854 rows × 7 columns</p>\n",
       "</div>"
      ],
      "text/plain": [
       "                           date_name  local_team_id  local_team  local_result  \\\n",
       "0            Nacional 1976 - Grupo C              1    All Boys             2   \n",
       "1            Nacional 1976 - Grupo C              0    Aldosivi             4   \n",
       "2        Superliga 2019/20 - Fecha 2              0    Aldosivi             0   \n",
       "3       Superliga 2018/19 - Fecha 15              7  Argentinos             1   \n",
       "4              Torneo 2016 - Fecha 2              0    Aldosivi             3   \n",
       "...                              ...            ...         ...           ...   \n",
       "32849        Nacional 1976 - Grupo C             93       Union             1   \n",
       "32850  Metropolitano 1975 - Fecha 36             94       Velez             0   \n",
       "32851  Metropolitano 1975 - Fecha 17             93       Union             1   \n",
       "32852  Metropolitano 1970 - Fecha 16             93       Union             1   \n",
       "32853        Nacional 1969 - Fecha 7             93       Union             0   \n",
       "\n",
       "       visitor_result visitor_team  visitor_team_id  \n",
       "0                   0     Aldosivi                0  \n",
       "1                   0     All Boys                1  \n",
       "2                   0   Argentinos                7  \n",
       "3                   2     Aldosivi                0  \n",
       "4                   2   Argentinos                7  \n",
       "...               ...          ...              ...  \n",
       "32849               0        Velez               94  \n",
       "32850               0        Union               93  \n",
       "32851               0        Velez               94  \n",
       "32852               1        Velez               94  \n",
       "32853               0        Velez               94  \n",
       "\n",
       "[32854 rows x 7 columns]"
      ]
     },
     "execution_count": 3,
     "metadata": {},
     "output_type": "execute_result"
    }
   ],
   "source": [
    "df_all"
   ]
  },
  {
   "cell_type": "code",
   "execution_count": 4,
   "metadata": {},
   "outputs": [
    {
     "data": {
      "text/plain": [
       "0              Nacional 1976 - Grupo C\n",
       "1              Nacional 1976 - Grupo C\n",
       "2          Superliga 2019/20 - Fecha 2\n",
       "3         Superliga 2018/19 - Fecha 15\n",
       "4                Torneo 2016 - Fecha 2\n",
       "                     ...              \n",
       "32849          Nacional 1976 - Grupo C\n",
       "32850    Metropolitano 1975 - Fecha 36\n",
       "32851    Metropolitano 1975 - Fecha 17\n",
       "32852    Metropolitano 1970 - Fecha 16\n",
       "32853          Nacional 1969 - Fecha 7\n",
       "Name: date_name, Length: 32854, dtype: object"
      ]
     },
     "execution_count": 4,
     "metadata": {},
     "output_type": "execute_result"
    }
   ],
   "source": [
    "df_all.date_name"
   ]
  },
  {
   "cell_type": "markdown",
   "metadata": {},
   "source": [
    "defino un dataframe con los años de interes"
   ]
  },
  {
   "cell_type": "code",
   "execution_count": 5,
   "metadata": {},
   "outputs": [
    {
     "name": "stdout",
     "output_type": "stream",
     "text": [
      "2010: 384\n",
      "2011: 385\n",
      "2012: 384\n",
      "2013: 381\n",
      "2014: 380\n",
      "2015: 468\n",
      "2016: 692\n",
      "2017: 378\n",
      "2018: 325\n",
      "2019: 276\n",
      "2020: 0\n"
     ]
    }
   ],
   "source": [
    "df_new = pd.DataFrame(columns=df_all.columns)\n",
    "\n",
    "anios_interes = np.arange(2010, 2021, 1)\n",
    "for anio in anios_interes:\n",
    "    print(str(anio) + ': '+ str(df_all.date_name.str.contains(str(anio)).sum()))\n",
    "    df_new = pd.concat([df_new, df_all[df_all.date_name.str.contains(str(anio))]], ignore_index=True)"
   ]
  },
  {
   "cell_type": "code",
   "execution_count": 6,
   "metadata": {},
   "outputs": [
    {
     "data": {
      "text/html": [
       "<div>\n",
       "<style scoped>\n",
       "    .dataframe tbody tr th:only-of-type {\n",
       "        vertical-align: middle;\n",
       "    }\n",
       "\n",
       "    .dataframe tbody tr th {\n",
       "        vertical-align: top;\n",
       "    }\n",
       "\n",
       "    .dataframe thead th {\n",
       "        text-align: right;\n",
       "    }\n",
       "</style>\n",
       "<table border=\"1\" class=\"dataframe\">\n",
       "  <thead>\n",
       "    <tr style=\"text-align: right;\">\n",
       "      <th></th>\n",
       "      <th>date_name</th>\n",
       "      <th>local_team_id</th>\n",
       "      <th>local_team</th>\n",
       "      <th>local_result</th>\n",
       "      <th>visitor_result</th>\n",
       "      <th>visitor_team</th>\n",
       "      <th>visitor_team_id</th>\n",
       "    </tr>\n",
       "  </thead>\n",
       "  <tbody>\n",
       "    <tr>\n",
       "      <th>0</th>\n",
       "      <td>Torneo Apertura 2010 - Fecha 12</td>\n",
       "      <td>7</td>\n",
       "      <td>Argentinos</td>\n",
       "      <td>1</td>\n",
       "      <td>0</td>\n",
       "      <td>All Boys</td>\n",
       "      <td>1</td>\n",
       "    </tr>\n",
       "    <tr>\n",
       "      <th>1</th>\n",
       "      <td>Torneo Apertura 2010 - Fecha 14</td>\n",
       "      <td>8</td>\n",
       "      <td>Arsenal</td>\n",
       "      <td>0</td>\n",
       "      <td>0</td>\n",
       "      <td>All Boys</td>\n",
       "      <td>1</td>\n",
       "    </tr>\n",
       "    <tr>\n",
       "      <th>2</th>\n",
       "      <td>Torneo Apertura 2010 - Fecha 17</td>\n",
       "      <td>1</td>\n",
       "      <td>All Boys</td>\n",
       "      <td>2</td>\n",
       "      <td>1</td>\n",
       "      <td>Banfield</td>\n",
       "      <td>14</td>\n",
       "    </tr>\n",
       "    <tr>\n",
       "      <th>3</th>\n",
       "      <td>Torneo Apertura 2010 - Fecha 3</td>\n",
       "      <td>1</td>\n",
       "      <td>All Boys</td>\n",
       "      <td>2</td>\n",
       "      <td>0</td>\n",
       "      <td>Boca Juniors</td>\n",
       "      <td>17</td>\n",
       "    </tr>\n",
       "    <tr>\n",
       "      <th>4</th>\n",
       "      <td>Torneo Apertura 2010 - Fecha 6</td>\n",
       "      <td>25</td>\n",
       "      <td>Colon</td>\n",
       "      <td>1</td>\n",
       "      <td>1</td>\n",
       "      <td>All Boys</td>\n",
       "      <td>1</td>\n",
       "    </tr>\n",
       "    <tr>\n",
       "      <th>...</th>\n",
       "      <td>...</td>\n",
       "      <td>...</td>\n",
       "      <td>...</td>\n",
       "      <td>...</td>\n",
       "      <td>...</td>\n",
       "      <td>...</td>\n",
       "      <td>...</td>\n",
       "    </tr>\n",
       "    <tr>\n",
       "      <th>4048</th>\n",
       "      <td>Superliga 2019/20 - Fecha 5</td>\n",
       "      <td>77</td>\n",
       "      <td>San Lorenzo</td>\n",
       "      <td>2</td>\n",
       "      <td>1</td>\n",
       "      <td>Union</td>\n",
       "      <td>93</td>\n",
       "    </tr>\n",
       "    <tr>\n",
       "      <th>4049</th>\n",
       "      <td>Superliga 2019/20 - Fecha 19</td>\n",
       "      <td>77</td>\n",
       "      <td>San Lorenzo</td>\n",
       "      <td>1</td>\n",
       "      <td>0</td>\n",
       "      <td>Velez</td>\n",
       "      <td>94</td>\n",
       "    </tr>\n",
       "    <tr>\n",
       "      <th>4050</th>\n",
       "      <td>Superliga 2019/20 - Fecha 16</td>\n",
       "      <td>88</td>\n",
       "      <td>Talleres (C)</td>\n",
       "      <td>0</td>\n",
       "      <td>0</td>\n",
       "      <td>Union</td>\n",
       "      <td>93</td>\n",
       "    </tr>\n",
       "    <tr>\n",
       "      <th>4051</th>\n",
       "      <td>Superliga 2019/20 - Fecha 1</td>\n",
       "      <td>88</td>\n",
       "      <td>Talleres (C)</td>\n",
       "      <td>1</td>\n",
       "      <td>0</td>\n",
       "      <td>Velez</td>\n",
       "      <td>94</td>\n",
       "    </tr>\n",
       "    <tr>\n",
       "      <th>4052</th>\n",
       "      <td>Superliga 2019/20 - Fecha 23</td>\n",
       "      <td>93</td>\n",
       "      <td>Union</td>\n",
       "      <td>0</td>\n",
       "      <td>3</td>\n",
       "      <td>Velez</td>\n",
       "      <td>94</td>\n",
       "    </tr>\n",
       "  </tbody>\n",
       "</table>\n",
       "<p>4053 rows × 7 columns</p>\n",
       "</div>"
      ],
      "text/plain": [
       "                            date_name local_team_id    local_team  \\\n",
       "0     Torneo Apertura 2010 - Fecha 12             7    Argentinos   \n",
       "1     Torneo Apertura 2010 - Fecha 14             8       Arsenal   \n",
       "2     Torneo Apertura 2010 - Fecha 17             1      All Boys   \n",
       "3      Torneo Apertura 2010 - Fecha 3             1      All Boys   \n",
       "4      Torneo Apertura 2010 - Fecha 6            25         Colon   \n",
       "...                               ...           ...           ...   \n",
       "4048      Superliga 2019/20 - Fecha 5            77   San Lorenzo   \n",
       "4049     Superliga 2019/20 - Fecha 19            77   San Lorenzo   \n",
       "4050     Superliga 2019/20 - Fecha 16            88  Talleres (C)   \n",
       "4051      Superliga 2019/20 - Fecha 1            88  Talleres (C)   \n",
       "4052     Superliga 2019/20 - Fecha 23            93         Union   \n",
       "\n",
       "     local_result visitor_result  visitor_team visitor_team_id  \n",
       "0               1              0      All Boys               1  \n",
       "1               0              0      All Boys               1  \n",
       "2               2              1      Banfield              14  \n",
       "3               2              0  Boca Juniors              17  \n",
       "4               1              1      All Boys               1  \n",
       "...           ...            ...           ...             ...  \n",
       "4048            2              1         Union              93  \n",
       "4049            1              0         Velez              94  \n",
       "4050            0              0         Union              93  \n",
       "4051            1              0         Velez              94  \n",
       "4052            0              3         Velez              94  \n",
       "\n",
       "[4053 rows x 7 columns]"
      ]
     },
     "execution_count": 6,
     "metadata": {},
     "output_type": "execute_result"
    }
   ],
   "source": [
    "df_new"
   ]
  },
  {
   "cell_type": "code",
   "execution_count": 7,
   "metadata": {},
   "outputs": [
    {
     "data": {
      "text/plain": [
       "4053"
      ]
     },
     "execution_count": 7,
     "metadata": {},
     "output_type": "execute_result"
    }
   ],
   "source": [
    "len(df_new)"
   ]
  },
  {
   "cell_type": "code",
   "execution_count": 8,
   "metadata": {},
   "outputs": [
    {
     "data": {
      "text/plain": [
       "Index(['date_name', 'local_team_id', 'local_team', 'local_result',\n",
       "       'visitor_result', 'visitor_team', 'visitor_team_id'],\n",
       "      dtype='object')"
      ]
     },
     "execution_count": 8,
     "metadata": {},
     "output_type": "execute_result"
    }
   ],
   "source": [
    "df_new.columns"
   ]
  },
  {
   "cell_type": "markdown",
   "metadata": {},
   "source": [
    "que equipos quedaron?"
   ]
  },
  {
   "cell_type": "code",
   "execution_count": 9,
   "metadata": {},
   "outputs": [
    {
     "data": {
      "text/plain": [
       "array(['Argentinos', 'Arsenal', 'All Boys', 'Colon', 'Gimnasia (LP)',\n",
       "       'Huracan', 'Lanus', 'Quilmes', 'Racing Club', 'Rosario Central',\n",
       "       'San Lorenzo', 'Atl Tucuman', 'Banfield', 'Boca Juniors',\n",
       "       'Estudiantes (LP)', 'Independiente', 'Olimpo', 'River Plate',\n",
       "       'Tigre', 'Velez', 'Atl Rafaela', 'Chacarita', 'Godoy Cruz',\n",
       "       'Newells', 'San Martin (SJ)', 'Union', 'Belgrano', 'Instituto',\n",
       "       'Def y Justicia', 'Aldosivi', 'Crucero (M)', 'Nueva Chicago',\n",
       "       'Sarmiento (J)', 'Temperley', 'Patronato', 'Talleres (C)',\n",
       "       'San Martin (T)', 'Central Cba (SdE)'], dtype=object)"
      ]
     },
     "execution_count": 9,
     "metadata": {},
     "output_type": "execute_result"
    }
   ],
   "source": [
    "df_new.local_team.unique()"
   ]
  },
  {
   "cell_type": "code",
   "execution_count": 10,
   "metadata": {},
   "outputs": [],
   "source": [
    "df_all = df_new"
   ]
  },
  {
   "cell_type": "code",
   "execution_count": 11,
   "metadata": {},
   "outputs": [
    {
     "data": {
      "text/html": [
       "<div>\n",
       "<style scoped>\n",
       "    .dataframe tbody tr th:only-of-type {\n",
       "        vertical-align: middle;\n",
       "    }\n",
       "\n",
       "    .dataframe tbody tr th {\n",
       "        vertical-align: top;\n",
       "    }\n",
       "\n",
       "    .dataframe thead th {\n",
       "        text-align: right;\n",
       "    }\n",
       "</style>\n",
       "<table border=\"1\" class=\"dataframe\">\n",
       "  <thead>\n",
       "    <tr style=\"text-align: right;\">\n",
       "      <th></th>\n",
       "      <th>date_name</th>\n",
       "      <th>local_team_id</th>\n",
       "      <th>local_team</th>\n",
       "      <th>local_result</th>\n",
       "      <th>visitor_result</th>\n",
       "      <th>visitor_team</th>\n",
       "      <th>visitor_team_id</th>\n",
       "    </tr>\n",
       "  </thead>\n",
       "  <tbody>\n",
       "    <tr>\n",
       "      <th>count</th>\n",
       "      <td>4053</td>\n",
       "      <td>4053</td>\n",
       "      <td>4053</td>\n",
       "      <td>4053</td>\n",
       "      <td>4053</td>\n",
       "      <td>4053</td>\n",
       "      <td>4053</td>\n",
       "    </tr>\n",
       "    <tr>\n",
       "      <th>unique</th>\n",
       "      <td>350</td>\n",
       "      <td>38</td>\n",
       "      <td>38</td>\n",
       "      <td>7</td>\n",
       "      <td>7</td>\n",
       "      <td>38</td>\n",
       "      <td>38</td>\n",
       "    </tr>\n",
       "    <tr>\n",
       "      <th>top</th>\n",
       "      <td>Campeonato 2016/17 - Fecha 2</td>\n",
       "      <td>37</td>\n",
       "      <td>Estudiantes (LP)</td>\n",
       "      <td>1</td>\n",
       "      <td>0</td>\n",
       "      <td>Lanus</td>\n",
       "      <td>63</td>\n",
       "    </tr>\n",
       "    <tr>\n",
       "      <th>freq</th>\n",
       "      <td>15</td>\n",
       "      <td>173</td>\n",
       "      <td>173</td>\n",
       "      <td>1429</td>\n",
       "      <td>1567</td>\n",
       "      <td>173</td>\n",
       "      <td>173</td>\n",
       "    </tr>\n",
       "  </tbody>\n",
       "</table>\n",
       "</div>"
      ],
      "text/plain": [
       "                           date_name  local_team_id        local_team  \\\n",
       "count                           4053           4053              4053   \n",
       "unique                           350             38                38   \n",
       "top     Campeonato 2016/17 - Fecha 2             37  Estudiantes (LP)   \n",
       "freq                              15            173               173   \n",
       "\n",
       "        local_result  visitor_result visitor_team  visitor_team_id  \n",
       "count           4053            4053         4053             4053  \n",
       "unique             7               7           38               38  \n",
       "top                1               0        Lanus               63  \n",
       "freq            1429            1567          173              173  "
      ]
     },
     "execution_count": 11,
     "metadata": {},
     "output_type": "execute_result"
    }
   ],
   "source": [
    "df_all.describe()"
   ]
  },
  {
   "cell_type": "code",
   "execution_count": 12,
   "metadata": {},
   "outputs": [
    {
     "data": {
      "text/plain": [
       "Index(['date_name', 'local_team_id', 'local_team', 'local_result',\n",
       "       'visitor_result', 'visitor_team', 'visitor_team_id'],\n",
       "      dtype='object')"
      ]
     },
     "execution_count": 12,
     "metadata": {},
     "output_type": "execute_result"
    }
   ],
   "source": [
    "df_all.columns"
   ]
  },
  {
   "cell_type": "markdown",
   "metadata": {},
   "source": [
    "renombro para mantener la cordura"
   ]
  },
  {
   "cell_type": "code",
   "execution_count": 13,
   "metadata": {},
   "outputs": [],
   "source": [
    "# df_all = df_all.rename({'local_result': 'home_score', 'visitor_result': 'away_score'}).copy(True)\n",
    "\n",
    "df_all.rename(columns = {'local_result': 'home_score', 'visitor_result': 'away_score'}, inplace=True)"
   ]
  },
  {
   "cell_type": "code",
   "execution_count": 14,
   "metadata": {},
   "outputs": [],
   "source": [
    "df_all.rename(columns = {'local_team': 'home_team', 'visitor_team': 'away_team'}, inplace=True)"
   ]
  },
  {
   "cell_type": "code",
   "execution_count": 15,
   "metadata": {},
   "outputs": [
    {
     "data": {
      "text/plain": [
       "Index(['date_name', 'local_team_id', 'home_team', 'home_score', 'away_score',\n",
       "       'away_team', 'visitor_team_id'],\n",
       "      dtype='object')"
      ]
     },
     "execution_count": 15,
     "metadata": {},
     "output_type": "execute_result"
    }
   ],
   "source": [
    "df_all.columns"
   ]
  },
  {
   "cell_type": "markdown",
   "metadata": {},
   "source": [
    "calculo diferencia de goles"
   ]
  },
  {
   "cell_type": "code",
   "execution_count": 16,
   "metadata": {},
   "outputs": [],
   "source": [
    "df_all[\"difference\"] = np.abs(df_all[\"home_score\"] - df_all[\"away_score\"])\n",
    "df_all[\"difference_non_abs\"] = df_all[\"home_score\"] - df_all[\"away_score\"]"
   ]
  },
  {
   "cell_type": "code",
   "execution_count": 17,
   "metadata": {},
   "outputs": [],
   "source": [
    "#(\n",
    "#    df_all.pivot_table(\"difference_non_abs\", \"home_team\")\n",
    "#    .rename_axis(\"Home_Team\")\n",
    "#    .plot(kind=\"bar\", rot=45, legend=False)\n",
    "#    .set_ylabel(\"Score difference Home team and away team\")\n",
    "#);"
   ]
  },
  {
   "cell_type": "code",
   "execution_count": 18,
   "metadata": {},
   "outputs": [
    {
     "data": {
      "application/vnd.plotly.v1+json": {
       "config": {
        "plotlyServerURL": "https://plot.ly"
       },
       "data": [
        {
         "hovertemplate": "Home_Team=%{x}<br>Score difference Home team and away team=%{y}<extra></extra>",
         "legendgroup": "",
         "marker": {
          "color": "#636efa",
          "pattern": {
           "shape": ""
          }
         },
         "name": "",
         "orientation": "v",
         "showlegend": false,
         "textposition": "auto",
         "type": "bar",
         "x": [
          "Aldosivi",
          "All Boys",
          "Argentinos",
          "Arsenal",
          "Atl Rafaela",
          "Atl Tucuman",
          "Banfield",
          "Belgrano",
          "Boca Juniors",
          "Central Cba (SdE)",
          "Chacarita",
          "Colon",
          "Crucero (M)",
          "Def y Justicia",
          "Estudiantes (LP)",
          "Gimnasia (LP)",
          "Godoy Cruz",
          "Huracan",
          "Independiente",
          "Instituto",
          "Lanus",
          "Newells",
          "Nueva Chicago",
          "Olimpo",
          "Patronato",
          "Quilmes",
          "Racing Club",
          "River Plate",
          "Rosario Central",
          "San Lorenzo",
          "San Martin (SJ)",
          "San Martin (T)",
          "Sarmiento (J)",
          "Talleres (C)",
          "Temperley",
          "Tigre",
          "Union",
          "Velez"
         ],
         "xaxis": "x",
         "y": [
          -0.19047619047619047,
          0.2727272727272727,
          0.0273972602739726,
          0.17088607594936708,
          0.009433962264150943,
          0.352112676056338,
          0.0962962962962963,
          0.3308270676691729,
          0.9005847953216374,
          -0.18181818181818182,
          -0.34782608695652173,
          0.06172839506172839,
          -0.4666666666666667,
          0.4,
          0.5144508670520231,
          0.2074074074074074,
          0.32748538011695905,
          0.1346153846153846,
          0.487012987012987,
          -2,
          0.5697674418604651,
          0.6046511627906976,
          -0.06666666666666667,
          -0.00847457627118644,
          0.016666666666666666,
          -0.12380952380952381,
          0.622093023255814,
          0.5921052631578947,
          0.32456140350877194,
          0.3872832369942196,
          0.18269230769230768,
          -0.38461538461538464,
          -0.42105263157894735,
          0.4528301886792453,
          -0.11538461538461539,
          0.2795031055900621,
          0.12280701754385964,
          0.5321637426900585
         ],
         "yaxis": "y"
        }
       ],
       "layout": {
        "barmode": "relative",
        "legend": {
         "tracegroupgap": 0
        },
        "template": {
         "data": {
          "bar": [
           {
            "error_x": {
             "color": "#2a3f5f"
            },
            "error_y": {
             "color": "#2a3f5f"
            },
            "marker": {
             "line": {
              "color": "#E5ECF6",
              "width": 0.5
             },
             "pattern": {
              "fillmode": "overlay",
              "size": 10,
              "solidity": 0.2
             }
            },
            "type": "bar"
           }
          ],
          "barpolar": [
           {
            "marker": {
             "line": {
              "color": "#E5ECF6",
              "width": 0.5
             },
             "pattern": {
              "fillmode": "overlay",
              "size": 10,
              "solidity": 0.2
             }
            },
            "type": "barpolar"
           }
          ],
          "carpet": [
           {
            "aaxis": {
             "endlinecolor": "#2a3f5f",
             "gridcolor": "white",
             "linecolor": "white",
             "minorgridcolor": "white",
             "startlinecolor": "#2a3f5f"
            },
            "baxis": {
             "endlinecolor": "#2a3f5f",
             "gridcolor": "white",
             "linecolor": "white",
             "minorgridcolor": "white",
             "startlinecolor": "#2a3f5f"
            },
            "type": "carpet"
           }
          ],
          "choropleth": [
           {
            "colorbar": {
             "outlinewidth": 0,
             "ticks": ""
            },
            "type": "choropleth"
           }
          ],
          "contour": [
           {
            "colorbar": {
             "outlinewidth": 0,
             "ticks": ""
            },
            "colorscale": [
             [
              0,
              "#0d0887"
             ],
             [
              0.1111111111111111,
              "#46039f"
             ],
             [
              0.2222222222222222,
              "#7201a8"
             ],
             [
              0.3333333333333333,
              "#9c179e"
             ],
             [
              0.4444444444444444,
              "#bd3786"
             ],
             [
              0.5555555555555556,
              "#d8576b"
             ],
             [
              0.6666666666666666,
              "#ed7953"
             ],
             [
              0.7777777777777778,
              "#fb9f3a"
             ],
             [
              0.8888888888888888,
              "#fdca26"
             ],
             [
              1,
              "#f0f921"
             ]
            ],
            "type": "contour"
           }
          ],
          "contourcarpet": [
           {
            "colorbar": {
             "outlinewidth": 0,
             "ticks": ""
            },
            "type": "contourcarpet"
           }
          ],
          "heatmap": [
           {
            "colorbar": {
             "outlinewidth": 0,
             "ticks": ""
            },
            "colorscale": [
             [
              0,
              "#0d0887"
             ],
             [
              0.1111111111111111,
              "#46039f"
             ],
             [
              0.2222222222222222,
              "#7201a8"
             ],
             [
              0.3333333333333333,
              "#9c179e"
             ],
             [
              0.4444444444444444,
              "#bd3786"
             ],
             [
              0.5555555555555556,
              "#d8576b"
             ],
             [
              0.6666666666666666,
              "#ed7953"
             ],
             [
              0.7777777777777778,
              "#fb9f3a"
             ],
             [
              0.8888888888888888,
              "#fdca26"
             ],
             [
              1,
              "#f0f921"
             ]
            ],
            "type": "heatmap"
           }
          ],
          "histogram": [
           {
            "marker": {
             "pattern": {
              "fillmode": "overlay",
              "size": 10,
              "solidity": 0.2
             }
            },
            "type": "histogram"
           }
          ],
          "histogram2d": [
           {
            "colorbar": {
             "outlinewidth": 0,
             "ticks": ""
            },
            "colorscale": [
             [
              0,
              "#0d0887"
             ],
             [
              0.1111111111111111,
              "#46039f"
             ],
             [
              0.2222222222222222,
              "#7201a8"
             ],
             [
              0.3333333333333333,
              "#9c179e"
             ],
             [
              0.4444444444444444,
              "#bd3786"
             ],
             [
              0.5555555555555556,
              "#d8576b"
             ],
             [
              0.6666666666666666,
              "#ed7953"
             ],
             [
              0.7777777777777778,
              "#fb9f3a"
             ],
             [
              0.8888888888888888,
              "#fdca26"
             ],
             [
              1,
              "#f0f921"
             ]
            ],
            "type": "histogram2d"
           }
          ],
          "histogram2dcontour": [
           {
            "colorbar": {
             "outlinewidth": 0,
             "ticks": ""
            },
            "colorscale": [
             [
              0,
              "#0d0887"
             ],
             [
              0.1111111111111111,
              "#46039f"
             ],
             [
              0.2222222222222222,
              "#7201a8"
             ],
             [
              0.3333333333333333,
              "#9c179e"
             ],
             [
              0.4444444444444444,
              "#bd3786"
             ],
             [
              0.5555555555555556,
              "#d8576b"
             ],
             [
              0.6666666666666666,
              "#ed7953"
             ],
             [
              0.7777777777777778,
              "#fb9f3a"
             ],
             [
              0.8888888888888888,
              "#fdca26"
             ],
             [
              1,
              "#f0f921"
             ]
            ],
            "type": "histogram2dcontour"
           }
          ],
          "mesh3d": [
           {
            "colorbar": {
             "outlinewidth": 0,
             "ticks": ""
            },
            "type": "mesh3d"
           }
          ],
          "parcoords": [
           {
            "line": {
             "colorbar": {
              "outlinewidth": 0,
              "ticks": ""
             }
            },
            "type": "parcoords"
           }
          ],
          "pie": [
           {
            "automargin": true,
            "type": "pie"
           }
          ],
          "scatter": [
           {
            "fillpattern": {
             "fillmode": "overlay",
             "size": 10,
             "solidity": 0.2
            },
            "type": "scatter"
           }
          ],
          "scatter3d": [
           {
            "line": {
             "colorbar": {
              "outlinewidth": 0,
              "ticks": ""
             }
            },
            "marker": {
             "colorbar": {
              "outlinewidth": 0,
              "ticks": ""
             }
            },
            "type": "scatter3d"
           }
          ],
          "scattercarpet": [
           {
            "marker": {
             "colorbar": {
              "outlinewidth": 0,
              "ticks": ""
             }
            },
            "type": "scattercarpet"
           }
          ],
          "scattergeo": [
           {
            "marker": {
             "colorbar": {
              "outlinewidth": 0,
              "ticks": ""
             }
            },
            "type": "scattergeo"
           }
          ],
          "scattergl": [
           {
            "marker": {
             "colorbar": {
              "outlinewidth": 0,
              "ticks": ""
             }
            },
            "type": "scattergl"
           }
          ],
          "scattermap": [
           {
            "marker": {
             "colorbar": {
              "outlinewidth": 0,
              "ticks": ""
             }
            },
            "type": "scattermap"
           }
          ],
          "scattermapbox": [
           {
            "marker": {
             "colorbar": {
              "outlinewidth": 0,
              "ticks": ""
             }
            },
            "type": "scattermapbox"
           }
          ],
          "scatterpolar": [
           {
            "marker": {
             "colorbar": {
              "outlinewidth": 0,
              "ticks": ""
             }
            },
            "type": "scatterpolar"
           }
          ],
          "scatterpolargl": [
           {
            "marker": {
             "colorbar": {
              "outlinewidth": 0,
              "ticks": ""
             }
            },
            "type": "scatterpolargl"
           }
          ],
          "scatterternary": [
           {
            "marker": {
             "colorbar": {
              "outlinewidth": 0,
              "ticks": ""
             }
            },
            "type": "scatterternary"
           }
          ],
          "surface": [
           {
            "colorbar": {
             "outlinewidth": 0,
             "ticks": ""
            },
            "colorscale": [
             [
              0,
              "#0d0887"
             ],
             [
              0.1111111111111111,
              "#46039f"
             ],
             [
              0.2222222222222222,
              "#7201a8"
             ],
             [
              0.3333333333333333,
              "#9c179e"
             ],
             [
              0.4444444444444444,
              "#bd3786"
             ],
             [
              0.5555555555555556,
              "#d8576b"
             ],
             [
              0.6666666666666666,
              "#ed7953"
             ],
             [
              0.7777777777777778,
              "#fb9f3a"
             ],
             [
              0.8888888888888888,
              "#fdca26"
             ],
             [
              1,
              "#f0f921"
             ]
            ],
            "type": "surface"
           }
          ],
          "table": [
           {
            "cells": {
             "fill": {
              "color": "#EBF0F8"
             },
             "line": {
              "color": "white"
             }
            },
            "header": {
             "fill": {
              "color": "#C8D4E3"
             },
             "line": {
              "color": "white"
             }
            },
            "type": "table"
           }
          ]
         },
         "layout": {
          "annotationdefaults": {
           "arrowcolor": "#2a3f5f",
           "arrowhead": 0,
           "arrowwidth": 1
          },
          "autotypenumbers": "strict",
          "coloraxis": {
           "colorbar": {
            "outlinewidth": 0,
            "ticks": ""
           }
          },
          "colorscale": {
           "diverging": [
            [
             0,
             "#8e0152"
            ],
            [
             0.1,
             "#c51b7d"
            ],
            [
             0.2,
             "#de77ae"
            ],
            [
             0.3,
             "#f1b6da"
            ],
            [
             0.4,
             "#fde0ef"
            ],
            [
             0.5,
             "#f7f7f7"
            ],
            [
             0.6,
             "#e6f5d0"
            ],
            [
             0.7,
             "#b8e186"
            ],
            [
             0.8,
             "#7fbc41"
            ],
            [
             0.9,
             "#4d9221"
            ],
            [
             1,
             "#276419"
            ]
           ],
           "sequential": [
            [
             0,
             "#0d0887"
            ],
            [
             0.1111111111111111,
             "#46039f"
            ],
            [
             0.2222222222222222,
             "#7201a8"
            ],
            [
             0.3333333333333333,
             "#9c179e"
            ],
            [
             0.4444444444444444,
             "#bd3786"
            ],
            [
             0.5555555555555556,
             "#d8576b"
            ],
            [
             0.6666666666666666,
             "#ed7953"
            ],
            [
             0.7777777777777778,
             "#fb9f3a"
            ],
            [
             0.8888888888888888,
             "#fdca26"
            ],
            [
             1,
             "#f0f921"
            ]
           ],
           "sequentialminus": [
            [
             0,
             "#0d0887"
            ],
            [
             0.1111111111111111,
             "#46039f"
            ],
            [
             0.2222222222222222,
             "#7201a8"
            ],
            [
             0.3333333333333333,
             "#9c179e"
            ],
            [
             0.4444444444444444,
             "#bd3786"
            ],
            [
             0.5555555555555556,
             "#d8576b"
            ],
            [
             0.6666666666666666,
             "#ed7953"
            ],
            [
             0.7777777777777778,
             "#fb9f3a"
            ],
            [
             0.8888888888888888,
             "#fdca26"
            ],
            [
             1,
             "#f0f921"
            ]
           ]
          },
          "colorway": [
           "#636efa",
           "#EF553B",
           "#00cc96",
           "#ab63fa",
           "#FFA15A",
           "#19d3f3",
           "#FF6692",
           "#B6E880",
           "#FF97FF",
           "#FECB52"
          ],
          "font": {
           "color": "#2a3f5f"
          },
          "geo": {
           "bgcolor": "white",
           "lakecolor": "white",
           "landcolor": "#E5ECF6",
           "showlakes": true,
           "showland": true,
           "subunitcolor": "white"
          },
          "hoverlabel": {
           "align": "left"
          },
          "hovermode": "closest",
          "mapbox": {
           "style": "light"
          },
          "paper_bgcolor": "white",
          "plot_bgcolor": "#E5ECF6",
          "polar": {
           "angularaxis": {
            "gridcolor": "white",
            "linecolor": "white",
            "ticks": ""
           },
           "bgcolor": "#E5ECF6",
           "radialaxis": {
            "gridcolor": "white",
            "linecolor": "white",
            "ticks": ""
           }
          },
          "scene": {
           "xaxis": {
            "backgroundcolor": "#E5ECF6",
            "gridcolor": "white",
            "gridwidth": 2,
            "linecolor": "white",
            "showbackground": true,
            "ticks": "",
            "zerolinecolor": "white"
           },
           "yaxis": {
            "backgroundcolor": "#E5ECF6",
            "gridcolor": "white",
            "gridwidth": 2,
            "linecolor": "white",
            "showbackground": true,
            "ticks": "",
            "zerolinecolor": "white"
           },
           "zaxis": {
            "backgroundcolor": "#E5ECF6",
            "gridcolor": "white",
            "gridwidth": 2,
            "linecolor": "white",
            "showbackground": true,
            "ticks": "",
            "zerolinecolor": "white"
           }
          },
          "shapedefaults": {
           "line": {
            "color": "#2a3f5f"
           }
          },
          "ternary": {
           "aaxis": {
            "gridcolor": "white",
            "linecolor": "white",
            "ticks": ""
           },
           "baxis": {
            "gridcolor": "white",
            "linecolor": "white",
            "ticks": ""
           },
           "bgcolor": "#E5ECF6",
           "caxis": {
            "gridcolor": "white",
            "linecolor": "white",
            "ticks": ""
           }
          },
          "title": {
           "x": 0.05
          },
          "xaxis": {
           "automargin": true,
           "gridcolor": "white",
           "linecolor": "white",
           "ticks": "",
           "title": {
            "standoff": 15
           },
           "zerolinecolor": "white",
           "zerolinewidth": 2
          },
          "yaxis": {
           "automargin": true,
           "gridcolor": "white",
           "linecolor": "white",
           "ticks": "",
           "title": {
            "standoff": 15
           },
           "zerolinecolor": "white",
           "zerolinewidth": 2
          }
         }
        },
        "title": {
         "text": "Score Difference by Home Team"
        },
        "xaxis": {
         "anchor": "y",
         "domain": [
          0,
          1
         ],
         "tickangle": -45,
         "title": {
          "text": "Home_Team"
         }
        },
        "yaxis": {
         "anchor": "x",
         "domain": [
          0,
          1
         ],
         "title": {
          "text": "Score difference Home team and away team"
         }
        }
       }
      }
     },
     "metadata": {},
     "output_type": "display_data"
    }
   ],
   "source": [
    "import plotly.express as px\n",
    "\n",
    "# Create the pivoted DataFrame\n",
    "df_pivot = df_all.pivot_table(\"difference_non_abs\", \"home_team\").reset_index()\n",
    "df_pivot.columns = [\"Home_Team\", \"Score_Difference\"]\n",
    "\n",
    "# Plot using Plotly\n",
    "fig = px.bar(\n",
    "    df_pivot,\n",
    "    x=\"Home_Team\",\n",
    "    y=\"Score_Difference\",\n",
    "    labels={\"Score_Difference\": \"Score difference Home team and away team\"},\n",
    "    title=\"Score Difference by Home Team\"\n",
    ")\n",
    "\n",
    "# Customize rotation of x-axis labels\n",
    "fig.update_layout(xaxis_tickangle=-45)\n",
    "\n",
    "fig.show()"
   ]
  },
  {
   "cell_type": "code",
   "execution_count": 19,
   "metadata": {},
   "outputs": [
    {
     "data": {
      "application/vnd.plotly.v1+json": {
       "config": {
        "plotlyServerURL": "https://plot.ly"
       },
       "data": [
        {
         "hovertemplate": "away_team=%{x}<br>Score difference Home team and away team=%{y}<extra></extra>",
         "legendgroup": "",
         "marker": {
          "color": "#636efa",
          "pattern": {
           "shape": ""
          }
         },
         "name": "",
         "orientation": "v",
         "showlegend": false,
         "textposition": "auto",
         "type": "bar",
         "x": [
          "Aldosivi",
          "All Boys",
          "Argentinos",
          "Arsenal",
          "Atl Rafaela",
          "Atl Tucuman",
          "Banfield",
          "Belgrano",
          "Boca Juniors",
          "Central Cba (SdE)",
          "Chacarita",
          "Colon",
          "Crucero (M)",
          "Def y Justicia",
          "Estudiantes (LP)",
          "Gimnasia (LP)",
          "Godoy Cruz",
          "Huracan",
          "Independiente",
          "Instituto",
          "Lanus",
          "Newells",
          "Nueva Chicago",
          "Olimpo",
          "Patronato",
          "Quilmes",
          "Racing Club",
          "River Plate",
          "Rosario Central",
          "San Lorenzo",
          "San Martin (SJ)",
          "San Martin (T)",
          "Sarmiento (J)",
          "Talleres (C)",
          "Temperley",
          "Tigre",
          "Union",
          "Velez"
         ],
         "xaxis": "x",
         "y": [
          0.671875,
          0.6753246753246753,
          0.3469387755102041,
          0.44936708860759494,
          0.6,
          0.42028985507246375,
          0.2781954887218045,
          0.3007518796992481,
          -0.07647058823529412,
          0.5,
          0.8695652173913043,
          0.49693251533742333,
          1.8,
          0.023529411764705882,
          -0.01744186046511628,
          0.4855072463768116,
          0.30994152046783624,
          0.6285714285714286,
          0.09210526315789473,
          0,
          0.10404624277456648,
          0.34502923976608185,
          0.5333333333333333,
          0.6694214876033058,
          0.6721311475409836,
          0.6190476190476191,
          0.029069767441860465,
          -0.3137254901960784,
          0.358974358974359,
          0.05847953216374269,
          0.5523809523809524,
          0.6666666666666666,
          0.5789473684210527,
          0.019230769230769232,
          0.8431372549019608,
          0.34810126582278483,
          0.47368421052631576,
          -0.05263157894736842
         ],
         "yaxis": "y"
        }
       ],
       "layout": {
        "barmode": "relative",
        "legend": {
         "tracegroupgap": 0
        },
        "template": {
         "data": {
          "bar": [
           {
            "error_x": {
             "color": "#2a3f5f"
            },
            "error_y": {
             "color": "#2a3f5f"
            },
            "marker": {
             "line": {
              "color": "#E5ECF6",
              "width": 0.5
             },
             "pattern": {
              "fillmode": "overlay",
              "size": 10,
              "solidity": 0.2
             }
            },
            "type": "bar"
           }
          ],
          "barpolar": [
           {
            "marker": {
             "line": {
              "color": "#E5ECF6",
              "width": 0.5
             },
             "pattern": {
              "fillmode": "overlay",
              "size": 10,
              "solidity": 0.2
             }
            },
            "type": "barpolar"
           }
          ],
          "carpet": [
           {
            "aaxis": {
             "endlinecolor": "#2a3f5f",
             "gridcolor": "white",
             "linecolor": "white",
             "minorgridcolor": "white",
             "startlinecolor": "#2a3f5f"
            },
            "baxis": {
             "endlinecolor": "#2a3f5f",
             "gridcolor": "white",
             "linecolor": "white",
             "minorgridcolor": "white",
             "startlinecolor": "#2a3f5f"
            },
            "type": "carpet"
           }
          ],
          "choropleth": [
           {
            "colorbar": {
             "outlinewidth": 0,
             "ticks": ""
            },
            "type": "choropleth"
           }
          ],
          "contour": [
           {
            "colorbar": {
             "outlinewidth": 0,
             "ticks": ""
            },
            "colorscale": [
             [
              0,
              "#0d0887"
             ],
             [
              0.1111111111111111,
              "#46039f"
             ],
             [
              0.2222222222222222,
              "#7201a8"
             ],
             [
              0.3333333333333333,
              "#9c179e"
             ],
             [
              0.4444444444444444,
              "#bd3786"
             ],
             [
              0.5555555555555556,
              "#d8576b"
             ],
             [
              0.6666666666666666,
              "#ed7953"
             ],
             [
              0.7777777777777778,
              "#fb9f3a"
             ],
             [
              0.8888888888888888,
              "#fdca26"
             ],
             [
              1,
              "#f0f921"
             ]
            ],
            "type": "contour"
           }
          ],
          "contourcarpet": [
           {
            "colorbar": {
             "outlinewidth": 0,
             "ticks": ""
            },
            "type": "contourcarpet"
           }
          ],
          "heatmap": [
           {
            "colorbar": {
             "outlinewidth": 0,
             "ticks": ""
            },
            "colorscale": [
             [
              0,
              "#0d0887"
             ],
             [
              0.1111111111111111,
              "#46039f"
             ],
             [
              0.2222222222222222,
              "#7201a8"
             ],
             [
              0.3333333333333333,
              "#9c179e"
             ],
             [
              0.4444444444444444,
              "#bd3786"
             ],
             [
              0.5555555555555556,
              "#d8576b"
             ],
             [
              0.6666666666666666,
              "#ed7953"
             ],
             [
              0.7777777777777778,
              "#fb9f3a"
             ],
             [
              0.8888888888888888,
              "#fdca26"
             ],
             [
              1,
              "#f0f921"
             ]
            ],
            "type": "heatmap"
           }
          ],
          "histogram": [
           {
            "marker": {
             "pattern": {
              "fillmode": "overlay",
              "size": 10,
              "solidity": 0.2
             }
            },
            "type": "histogram"
           }
          ],
          "histogram2d": [
           {
            "colorbar": {
             "outlinewidth": 0,
             "ticks": ""
            },
            "colorscale": [
             [
              0,
              "#0d0887"
             ],
             [
              0.1111111111111111,
              "#46039f"
             ],
             [
              0.2222222222222222,
              "#7201a8"
             ],
             [
              0.3333333333333333,
              "#9c179e"
             ],
             [
              0.4444444444444444,
              "#bd3786"
             ],
             [
              0.5555555555555556,
              "#d8576b"
             ],
             [
              0.6666666666666666,
              "#ed7953"
             ],
             [
              0.7777777777777778,
              "#fb9f3a"
             ],
             [
              0.8888888888888888,
              "#fdca26"
             ],
             [
              1,
              "#f0f921"
             ]
            ],
            "type": "histogram2d"
           }
          ],
          "histogram2dcontour": [
           {
            "colorbar": {
             "outlinewidth": 0,
             "ticks": ""
            },
            "colorscale": [
             [
              0,
              "#0d0887"
             ],
             [
              0.1111111111111111,
              "#46039f"
             ],
             [
              0.2222222222222222,
              "#7201a8"
             ],
             [
              0.3333333333333333,
              "#9c179e"
             ],
             [
              0.4444444444444444,
              "#bd3786"
             ],
             [
              0.5555555555555556,
              "#d8576b"
             ],
             [
              0.6666666666666666,
              "#ed7953"
             ],
             [
              0.7777777777777778,
              "#fb9f3a"
             ],
             [
              0.8888888888888888,
              "#fdca26"
             ],
             [
              1,
              "#f0f921"
             ]
            ],
            "type": "histogram2dcontour"
           }
          ],
          "mesh3d": [
           {
            "colorbar": {
             "outlinewidth": 0,
             "ticks": ""
            },
            "type": "mesh3d"
           }
          ],
          "parcoords": [
           {
            "line": {
             "colorbar": {
              "outlinewidth": 0,
              "ticks": ""
             }
            },
            "type": "parcoords"
           }
          ],
          "pie": [
           {
            "automargin": true,
            "type": "pie"
           }
          ],
          "scatter": [
           {
            "fillpattern": {
             "fillmode": "overlay",
             "size": 10,
             "solidity": 0.2
            },
            "type": "scatter"
           }
          ],
          "scatter3d": [
           {
            "line": {
             "colorbar": {
              "outlinewidth": 0,
              "ticks": ""
             }
            },
            "marker": {
             "colorbar": {
              "outlinewidth": 0,
              "ticks": ""
             }
            },
            "type": "scatter3d"
           }
          ],
          "scattercarpet": [
           {
            "marker": {
             "colorbar": {
              "outlinewidth": 0,
              "ticks": ""
             }
            },
            "type": "scattercarpet"
           }
          ],
          "scattergeo": [
           {
            "marker": {
             "colorbar": {
              "outlinewidth": 0,
              "ticks": ""
             }
            },
            "type": "scattergeo"
           }
          ],
          "scattergl": [
           {
            "marker": {
             "colorbar": {
              "outlinewidth": 0,
              "ticks": ""
             }
            },
            "type": "scattergl"
           }
          ],
          "scattermap": [
           {
            "marker": {
             "colorbar": {
              "outlinewidth": 0,
              "ticks": ""
             }
            },
            "type": "scattermap"
           }
          ],
          "scattermapbox": [
           {
            "marker": {
             "colorbar": {
              "outlinewidth": 0,
              "ticks": ""
             }
            },
            "type": "scattermapbox"
           }
          ],
          "scatterpolar": [
           {
            "marker": {
             "colorbar": {
              "outlinewidth": 0,
              "ticks": ""
             }
            },
            "type": "scatterpolar"
           }
          ],
          "scatterpolargl": [
           {
            "marker": {
             "colorbar": {
              "outlinewidth": 0,
              "ticks": ""
             }
            },
            "type": "scatterpolargl"
           }
          ],
          "scatterternary": [
           {
            "marker": {
             "colorbar": {
              "outlinewidth": 0,
              "ticks": ""
             }
            },
            "type": "scatterternary"
           }
          ],
          "surface": [
           {
            "colorbar": {
             "outlinewidth": 0,
             "ticks": ""
            },
            "colorscale": [
             [
              0,
              "#0d0887"
             ],
             [
              0.1111111111111111,
              "#46039f"
             ],
             [
              0.2222222222222222,
              "#7201a8"
             ],
             [
              0.3333333333333333,
              "#9c179e"
             ],
             [
              0.4444444444444444,
              "#bd3786"
             ],
             [
              0.5555555555555556,
              "#d8576b"
             ],
             [
              0.6666666666666666,
              "#ed7953"
             ],
             [
              0.7777777777777778,
              "#fb9f3a"
             ],
             [
              0.8888888888888888,
              "#fdca26"
             ],
             [
              1,
              "#f0f921"
             ]
            ],
            "type": "surface"
           }
          ],
          "table": [
           {
            "cells": {
             "fill": {
              "color": "#EBF0F8"
             },
             "line": {
              "color": "white"
             }
            },
            "header": {
             "fill": {
              "color": "#C8D4E3"
             },
             "line": {
              "color": "white"
             }
            },
            "type": "table"
           }
          ]
         },
         "layout": {
          "annotationdefaults": {
           "arrowcolor": "#2a3f5f",
           "arrowhead": 0,
           "arrowwidth": 1
          },
          "autotypenumbers": "strict",
          "coloraxis": {
           "colorbar": {
            "outlinewidth": 0,
            "ticks": ""
           }
          },
          "colorscale": {
           "diverging": [
            [
             0,
             "#8e0152"
            ],
            [
             0.1,
             "#c51b7d"
            ],
            [
             0.2,
             "#de77ae"
            ],
            [
             0.3,
             "#f1b6da"
            ],
            [
             0.4,
             "#fde0ef"
            ],
            [
             0.5,
             "#f7f7f7"
            ],
            [
             0.6,
             "#e6f5d0"
            ],
            [
             0.7,
             "#b8e186"
            ],
            [
             0.8,
             "#7fbc41"
            ],
            [
             0.9,
             "#4d9221"
            ],
            [
             1,
             "#276419"
            ]
           ],
           "sequential": [
            [
             0,
             "#0d0887"
            ],
            [
             0.1111111111111111,
             "#46039f"
            ],
            [
             0.2222222222222222,
             "#7201a8"
            ],
            [
             0.3333333333333333,
             "#9c179e"
            ],
            [
             0.4444444444444444,
             "#bd3786"
            ],
            [
             0.5555555555555556,
             "#d8576b"
            ],
            [
             0.6666666666666666,
             "#ed7953"
            ],
            [
             0.7777777777777778,
             "#fb9f3a"
            ],
            [
             0.8888888888888888,
             "#fdca26"
            ],
            [
             1,
             "#f0f921"
            ]
           ],
           "sequentialminus": [
            [
             0,
             "#0d0887"
            ],
            [
             0.1111111111111111,
             "#46039f"
            ],
            [
             0.2222222222222222,
             "#7201a8"
            ],
            [
             0.3333333333333333,
             "#9c179e"
            ],
            [
             0.4444444444444444,
             "#bd3786"
            ],
            [
             0.5555555555555556,
             "#d8576b"
            ],
            [
             0.6666666666666666,
             "#ed7953"
            ],
            [
             0.7777777777777778,
             "#fb9f3a"
            ],
            [
             0.8888888888888888,
             "#fdca26"
            ],
            [
             1,
             "#f0f921"
            ]
           ]
          },
          "colorway": [
           "#636efa",
           "#EF553B",
           "#00cc96",
           "#ab63fa",
           "#FFA15A",
           "#19d3f3",
           "#FF6692",
           "#B6E880",
           "#FF97FF",
           "#FECB52"
          ],
          "font": {
           "color": "#2a3f5f"
          },
          "geo": {
           "bgcolor": "white",
           "lakecolor": "white",
           "landcolor": "#E5ECF6",
           "showlakes": true,
           "showland": true,
           "subunitcolor": "white"
          },
          "hoverlabel": {
           "align": "left"
          },
          "hovermode": "closest",
          "mapbox": {
           "style": "light"
          },
          "paper_bgcolor": "white",
          "plot_bgcolor": "#E5ECF6",
          "polar": {
           "angularaxis": {
            "gridcolor": "white",
            "linecolor": "white",
            "ticks": ""
           },
           "bgcolor": "#E5ECF6",
           "radialaxis": {
            "gridcolor": "white",
            "linecolor": "white",
            "ticks": ""
           }
          },
          "scene": {
           "xaxis": {
            "backgroundcolor": "#E5ECF6",
            "gridcolor": "white",
            "gridwidth": 2,
            "linecolor": "white",
            "showbackground": true,
            "ticks": "",
            "zerolinecolor": "white"
           },
           "yaxis": {
            "backgroundcolor": "#E5ECF6",
            "gridcolor": "white",
            "gridwidth": 2,
            "linecolor": "white",
            "showbackground": true,
            "ticks": "",
            "zerolinecolor": "white"
           },
           "zaxis": {
            "backgroundcolor": "#E5ECF6",
            "gridcolor": "white",
            "gridwidth": 2,
            "linecolor": "white",
            "showbackground": true,
            "ticks": "",
            "zerolinecolor": "white"
           }
          },
          "shapedefaults": {
           "line": {
            "color": "#2a3f5f"
           }
          },
          "ternary": {
           "aaxis": {
            "gridcolor": "white",
            "linecolor": "white",
            "ticks": ""
           },
           "baxis": {
            "gridcolor": "white",
            "linecolor": "white",
            "ticks": ""
           },
           "bgcolor": "#E5ECF6",
           "caxis": {
            "gridcolor": "white",
            "linecolor": "white",
            "ticks": ""
           }
          },
          "title": {
           "x": 0.05
          },
          "xaxis": {
           "automargin": true,
           "gridcolor": "white",
           "linecolor": "white",
           "ticks": "",
           "title": {
            "standoff": 15
           },
           "zerolinecolor": "white",
           "zerolinewidth": 2
          },
          "yaxis": {
           "automargin": true,
           "gridcolor": "white",
           "linecolor": "white",
           "ticks": "",
           "title": {
            "standoff": 15
           },
           "zerolinecolor": "white",
           "zerolinewidth": 2
          }
         }
        },
        "title": {
         "text": "Score Difference by Home Team"
        },
        "xaxis": {
         "anchor": "y",
         "domain": [
          0,
          1
         ],
         "tickangle": -45,
         "title": {
          "text": "away_team"
         }
        },
        "yaxis": {
         "anchor": "x",
         "domain": [
          0,
          1
         ],
         "title": {
          "text": "Score difference Home team and away team"
         }
        }
       }
      }
     },
     "metadata": {},
     "output_type": "display_data"
    }
   ],
   "source": [
    "#\n",
    "#    df_all.pivot_table(\"difference_non_abs\", \"away_team\")\n",
    "#    .rename_axis(\"Away_Team\")\n",
    "#    .plot(kind=\"bar\", rot=0, legend=False)\n",
    "#    .set_ylabel(\"Score difference Home team and away team\")\n",
    "#);\n",
    "\n",
    "# Create the pivoted DataFrame\n",
    "df_pivot = df_all.pivot_table(\"difference_non_abs\", \"away_team\").reset_index()\n",
    "df_pivot.columns = [\"away_team\", \"Score_Difference\"]\n",
    "\n",
    "# Plot using Plotly\n",
    "fig = px.bar(\n",
    "    df_pivot,\n",
    "    x=\"away_team\",\n",
    "    y=\"Score_Difference\",\n",
    "    labels={\"Score_Difference\": \"Score difference Home team and away team\"},\n",
    "    title=\"Score Difference by Home Team\"\n",
    ")\n",
    "\n",
    "# Customize rotation of x-axis labels\n",
    "fig.update_layout(xaxis_tickangle=-45)\n",
    "\n",
    "fig.show()"
   ]
  },
  {
   "cell_type": "code",
   "execution_count": null,
   "metadata": {},
   "outputs": [],
   "source": []
  },
  {
   "cell_type": "markdown",
   "metadata": {},
   "source": [
    "trato de extraer la fecha (no salio facil)"
   ]
  },
  {
   "cell_type": "code",
   "execution_count": 22,
   "metadata": {},
   "outputs": [
    {
     "data": {
      "text/plain": [
       "\" \\ndf_all['date_name']\\ndf_all['date_name'].iloc[0].split(' ')[2]\\ndf_all['year'] = df_all['date_name'].apply(lambda x: int(x.split(' ')[2]))\\n\""
      ]
     },
     "execution_count": 22,
     "metadata": {},
     "output_type": "execute_result"
    }
   ],
   "source": [
    "''' \n",
    "df_all['date_name']\n",
    "df_all['date_name'].iloc[0].split(' ')[2]\n",
    "df_all['year'] = df_all['date_name'].apply(lambda x: int(x.split(' ')[2]))\n",
    "'''"
   ]
  },
  {
   "cell_type": "code",
   "execution_count": null,
   "metadata": {},
   "outputs": [],
   "source": [
    "#g = sns.FacetGrid(df_all, col=\"home_team\", col_wrap=2, height=5)\n",
    "#g.map(sns.scatterplot, \"year\", \"difference_non_abs\")\n",
    "#g.fig.autofmt_xdate()"
   ]
  },
  {
   "cell_type": "markdown",
   "metadata": {},
   "source": [
    "datos completos"
   ]
  },
  {
   "cell_type": "markdown",
   "metadata": {},
   "source": [
    "histograma goles"
   ]
  },
  {
   "cell_type": "code",
   "execution_count": 21,
   "metadata": {},
   "outputs": [
    {
     "data": {
      "text/plain": [
       "(array([0.27732544, 0.35257834, 0.22329139, 0.10831483, 0.03084135,\n",
       "        0.00616827, 0.00148038, 0.        ]),\n",
       " array([0., 1., 2., 3., 4., 5., 6., 7., 8.]),\n",
       " <BarContainer object of 8 artists>)"
      ]
     },
     "execution_count": 21,
     "metadata": {},
     "output_type": "execute_result"
    },
    {
     "data": {
      "image/png": "[encoded data removed]",
      "text/plain": [
       "<Figure size 640x480 with 1 Axes>"
      ]
     },
     "metadata": {},
     "output_type": "display_data"
    }
   ],
   "source": [
    "plt.hist(df_all[\"home_score\"].values, bins=[0, 1, 2, 3, 4, 5, 6, 7, 8], density=True)"
   ]
  },
  {
   "cell_type": "code",
   "execution_count": 23,
   "metadata": {},
   "outputs": [
    {
     "data": {
      "text/plain": [
       "(array([0.38662719, 0.35529238, 0.17049099, 0.0656304 , 0.01776462,\n",
       "        0.00296077, 0.00123365, 0.        ]),\n",
       " array([0., 1., 2., 3., 4., 5., 6., 7., 8.]),\n",
       " <BarContainer object of 8 artists>)"
      ]
     },
     "execution_count": 23,
     "metadata": {},
     "output_type": "execute_result"
    },
    {
     "data": {
      "image/png": "[encoded data removed]",
      "text/plain": [
       "<Figure size 640x480 with 1 Axes>"
      ]
     },
     "metadata": {},
     "output_type": "display_data"
    }
   ],
   "source": [
    "plt.hist(df_all[\"away_score\"].values, bins=[0, 1, 2, 3, 4, 5, 6, 7, 8], density=True)"
   ]
  },
  {
   "cell_type": "code",
   "execution_count": null,
   "metadata": {},
   "outputs": [],
   "source": []
  },
  {
   "cell_type": "code",
   "execution_count": 24,
   "metadata": {},
   "outputs": [],
   "source": [
    "home_idx, teams = pd.factorize(df_all[\"home_team\"], sort=True)\n",
    "away_idx, _ = pd.factorize(df_all[\"away_team\"], sort=True)\n",
    "coords = {\"team\": teams}"
   ]
  },
  {
   "cell_type": "code",
   "execution_count": 133,
   "metadata": {},
   "outputs": [
    {
     "data": {
      "text/plain": [
       "array([ 2,  3,  1, ..., 33, 33, 36], shape=(4053,))"
      ]
     },
     "execution_count": 133,
     "metadata": {},
     "output_type": "execute_result"
    }
   ],
   "source": [
    "home_idx"
   ]
  },
  {
   "cell_type": "code",
   "execution_count": 25,
   "metadata": {},
   "outputs": [
    {
     "data": {
      "text/plain": [
       "Index(['Aldosivi', 'All Boys', 'Argentinos', 'Arsenal', 'Atl Rafaela',\n",
       "       'Atl Tucuman', 'Banfield', 'Belgrano', 'Boca Juniors',\n",
       "       'Central Cba (SdE)', 'Chacarita', 'Colon', 'Crucero (M)',\n",
       "       'Def y Justicia', 'Estudiantes (LP)', 'Gimnasia (LP)', 'Godoy Cruz',\n",
       "       'Huracan', 'Independiente', 'Instituto', 'Lanus', 'Newells',\n",
       "       'Nueva Chicago', 'Olimpo', 'Patronato', 'Quilmes', 'Racing Club',\n",
       "       'River Plate', 'Rosario Central', 'San Lorenzo', 'San Martin (SJ)',\n",
       "       'San Martin (T)', 'Sarmiento (J)', 'Talleres (C)', 'Temperley', 'Tigre',\n",
       "       'Union', 'Velez'],\n",
       "      dtype='object')"
      ]
     },
     "execution_count": 25,
     "metadata": {},
     "output_type": "execute_result"
    }
   ],
   "source": [
    "teams"
   ]
  },
  {
   "cell_type": "code",
   "execution_count": 26,
   "metadata": {},
   "outputs": [],
   "source": [
    "with pm.Model(coords=coords) as model:\n",
    "    # constant data\n",
    "    home_team = pm.Data(\"home_team\", home_idx, dims=\"match\")\n",
    "    away_team = pm.Data(\"away_team\", away_idx, dims=\"match\")\n",
    "\n",
    "    # global model parameters\n",
    "    home = pm.Normal(\"home\", mu=0, sigma=1)\n",
    "    sd_att = pm.HalfNormal(\"sd_att\", sigma=2)\n",
    "    sd_def = pm.HalfNormal(\"sd_def\", sigma=2)\n",
    "    # intercept = pm.Normal(\"intercept\", mu=3, sigma=1)\n",
    "\n",
    "    # team-specific model parameters\n",
    "    atts_star = pm.Normal(\"atts_star\", mu=0, sigma=sd_att, dims=\"team\")\n",
    "    defs_star = pm.Normal(\"defs_star\", mu=0, sigma=sd_def, dims=\"team\")\n",
    "\n",
    "    atts = pm.Deterministic(\"atts\", atts_star - pt.mean(atts_star), dims=\"team\")\n",
    "    defs = pm.Deterministic(\"defs\", defs_star - pt.mean(defs_star), dims=\"team\")\n",
    "    home_theta = pt.exp(home + atts[home_idx] + defs[away_idx]) #intercept + \n",
    "    away_theta = pt.exp(atts[away_idx] + defs[home_idx])\n",
    "\n",
    "    # likelihood of observed data\n",
    "    home_points = pm.Poisson(\n",
    "        \"home_points\",\n",
    "        mu=home_theta,\n",
    "        observed=df_all[\"home_score\"].values.astype(int),\n",
    "        dims=(\"match\"),\n",
    "    )\n",
    "    away_points = pm.Poisson(\n",
    "        \"away_points\",\n",
    "        mu=away_theta,\n",
    "        observed=df_all[\"away_score\"].values.astype(int),\n",
    "        dims=(\"match\"),\n",
    "    )"
   ]
  },
  {
   "cell_type": "code",
   "execution_count": null,
   "metadata": {},
   "outputs": [],
   "source": [
    "# debug\n",
    "''' \n",
    "with model:\n",
    "    a = away_theta.eval()\n",
    "\n",
    "print(a.max())\n",
    "'''"
   ]
  },
  {
   "cell_type": "code",
   "execution_count": null,
   "metadata": {},
   "outputs": [],
   "source": [
    "#for i in df_all[\"home_score\"].values:\n",
    "#    print(i, type(i))"
   ]
  },
  {
   "cell_type": "code",
   "execution_count": 27,
   "metadata": {},
   "outputs": [
    {
     "name": "stderr",
     "output_type": "stream",
     "text": [
      "Initializing NUTS using jitter+adapt_diag...\n",
      "Multiprocess sampling (4 chains in 4 jobs)\n",
      "NUTS: [home, sd_att, sd_def, atts_star, defs_star]\n"
     ]
    },
    {
     "data": {
      "application/vnd.jupyter.widget-view+json": {
       "model_id": "71bd4debc5734842bf3020767abebba2",
       "version_major": 2,
       "version_minor": 0
      },
      "text/plain": [
       "Output()"
      ]
     },
     "metadata": {},
     "output_type": "display_data"
    },
    {
     "data": {
      "text/html": [
       "<pre style=\"white-space:pre;overflow-x:auto;line-height:normal;font-family:Menlo,'DejaVu Sans Mono',consolas,'Courier New',monospace\"></pre>\n"
      ],
      "text/plain": []
     },
     "metadata": {},
     "output_type": "display_data"
    },
    {
     "name": "stderr",
     "output_type": "stream",
     "text": [
      "Sampling 4 chains for 1_500 tune and 3_000 draw iterations (6_000 + 12_000 draws total) took 42 seconds.\n"
     ]
    }
   ],
   "source": [
    "with model:    \n",
    "    trace = pm.sample(3000, tune=1500, cores=4)"
   ]
  },
  {
   "cell_type": "code",
   "execution_count": 28,
   "metadata": {},
   "outputs": [
    {
     "data": {
      "image/png": "[encoded data removed]",
      "text/plain": [
       "<Figure size 1200x600 with 6 Axes>"
      ]
     },
     "metadata": {},
     "output_type": "display_data"
    }
   ],
   "source": [
    "az.plot_trace(trace, var_names=[\"home\", \"sd_att\", \"sd_def\"], compact=False); #\"intercept\", "
   ]
  },
  {
   "cell_type": "code",
   "execution_count": 29,
   "metadata": {},
   "outputs": [
    {
     "data": {
      "text/html": [
       "<div>\n",
       "<style scoped>\n",
       "    .dataframe tbody tr th:only-of-type {\n",
       "        vertical-align: middle;\n",
       "    }\n",
       "\n",
       "    .dataframe tbody tr th {\n",
       "        vertical-align: top;\n",
       "    }\n",
       "\n",
       "    .dataframe thead th {\n",
       "        text-align: right;\n",
       "    }\n",
       "</style>\n",
       "<table border=\"1\" class=\"dataframe\">\n",
       "  <thead>\n",
       "    <tr style=\"text-align: right;\">\n",
       "      <th></th>\n",
       "      <th>mcse_mean</th>\n",
       "      <th>mcse_sd</th>\n",
       "      <th>ess_bulk</th>\n",
       "      <th>ess_tail</th>\n",
       "      <th>r_hat</th>\n",
       "    </tr>\n",
       "  </thead>\n",
       "  <tbody>\n",
       "    <tr>\n",
       "      <th>home</th>\n",
       "      <td>0.000</td>\n",
       "      <td>0.000</td>\n",
       "      <td>10927.0</td>\n",
       "      <td>9293.0</td>\n",
       "      <td>1.0</td>\n",
       "    </tr>\n",
       "    <tr>\n",
       "      <th>atts_star[Aldosivi]</th>\n",
       "      <td>0.001</td>\n",
       "      <td>0.001</td>\n",
       "      <td>14852.0</td>\n",
       "      <td>8028.0</td>\n",
       "      <td>1.0</td>\n",
       "    </tr>\n",
       "    <tr>\n",
       "      <th>atts_star[All Boys]</th>\n",
       "      <td>0.001</td>\n",
       "      <td>0.001</td>\n",
       "      <td>11305.0</td>\n",
       "      <td>8562.0</td>\n",
       "      <td>1.0</td>\n",
       "    </tr>\n",
       "    <tr>\n",
       "      <th>atts_star[Argentinos]</th>\n",
       "      <td>0.001</td>\n",
       "      <td>0.001</td>\n",
       "      <td>11366.0</td>\n",
       "      <td>8157.0</td>\n",
       "      <td>1.0</td>\n",
       "    </tr>\n",
       "    <tr>\n",
       "      <th>atts_star[Arsenal]</th>\n",
       "      <td>0.000</td>\n",
       "      <td>0.000</td>\n",
       "      <td>11462.0</td>\n",
       "      <td>8631.0</td>\n",
       "      <td>1.0</td>\n",
       "    </tr>\n",
       "    <tr>\n",
       "      <th>...</th>\n",
       "      <td>...</td>\n",
       "      <td>...</td>\n",
       "      <td>...</td>\n",
       "      <td>...</td>\n",
       "      <td>...</td>\n",
       "    </tr>\n",
       "    <tr>\n",
       "      <th>defs[Talleres (C)]</th>\n",
       "      <td>0.001</td>\n",
       "      <td>0.001</td>\n",
       "      <td>16650.0</td>\n",
       "      <td>8072.0</td>\n",
       "      <td>1.0</td>\n",
       "    </tr>\n",
       "    <tr>\n",
       "      <th>defs[Temperley]</th>\n",
       "      <td>0.001</td>\n",
       "      <td>0.001</td>\n",
       "      <td>15843.0</td>\n",
       "      <td>8561.0</td>\n",
       "      <td>1.0</td>\n",
       "    </tr>\n",
       "    <tr>\n",
       "      <th>defs[Tigre]</th>\n",
       "      <td>0.000</td>\n",
       "      <td>0.001</td>\n",
       "      <td>18902.0</td>\n",
       "      <td>7627.0</td>\n",
       "      <td>1.0</td>\n",
       "    </tr>\n",
       "    <tr>\n",
       "      <th>defs[Union]</th>\n",
       "      <td>0.000</td>\n",
       "      <td>0.001</td>\n",
       "      <td>18085.0</td>\n",
       "      <td>9323.0</td>\n",
       "      <td>1.0</td>\n",
       "    </tr>\n",
       "    <tr>\n",
       "      <th>defs[Velez]</th>\n",
       "      <td>0.000</td>\n",
       "      <td>0.000</td>\n",
       "      <td>17339.0</td>\n",
       "      <td>9351.0</td>\n",
       "      <td>1.0</td>\n",
       "    </tr>\n",
       "  </tbody>\n",
       "</table>\n",
       "<p>155 rows × 5 columns</p>\n",
       "</div>"
      ],
      "text/plain": [
       "                       mcse_mean  mcse_sd  ess_bulk  ess_tail  r_hat\n",
       "home                       0.000    0.000   10927.0    9293.0    1.0\n",
       "atts_star[Aldosivi]        0.001    0.001   14852.0    8028.0    1.0\n",
       "atts_star[All Boys]        0.001    0.001   11305.0    8562.0    1.0\n",
       "atts_star[Argentinos]      0.001    0.001   11366.0    8157.0    1.0\n",
       "atts_star[Arsenal]         0.000    0.000   11462.0    8631.0    1.0\n",
       "...                          ...      ...       ...       ...    ...\n",
       "defs[Talleres (C)]         0.001    0.001   16650.0    8072.0    1.0\n",
       "defs[Temperley]            0.001    0.001   15843.0    8561.0    1.0\n",
       "defs[Tigre]                0.000    0.001   18902.0    7627.0    1.0\n",
       "defs[Union]                0.000    0.001   18085.0    9323.0    1.0\n",
       "defs[Velez]                0.000    0.000   17339.0    9351.0    1.0\n",
       "\n",
       "[155 rows x 5 columns]"
      ]
     },
     "execution_count": 29,
     "metadata": {},
     "output_type": "execute_result"
    }
   ],
   "source": [
    "az.summary(trace, kind=\"diagnostics\")"
   ]
  },
  {
   "cell_type": "code",
   "execution_count": 30,
   "metadata": {},
   "outputs": [
    {
     "data": {
      "text/html": [
       "<div><svg style=\"position: absolute; width: 0; height: 0; overflow: hidden\">\n",
       "<defs>\n",
       "<symbol id=\"icon-database\" viewBox=\"0 0 32 32\">\n",
       "<path d=\"M16 0c-8.837 0-16 2.239-16 5v4c0 2.761 7.163 5 16 5s16-2.239 16-5v-4c0-2.761-7.163-5-16-5z\"></path>\n",
       "<path d=\"M16 17c-8.837 0-16-2.239-16-5v6c0 2.761 7.163 5 16 5s16-2.239 16-5v-6c0 2.761-7.163 5-16 5z\"></path>\n",
       "<path d=\"M16 26c-8.837 0-16-2.239-16-5v6c0 2.761 7.163 5 16 5s16-2.239 16-5v-6c0 2.761-7.163 5-16 5z\"></path>\n",
       "</symbol>\n",
       "<symbol id=\"icon-file-text2\" viewBox=\"0 0 32 32\">\n",
       "<path d=\"M28.681 7.159c-0.694-0.947-1.662-2.053-2.724-3.116s-2.169-2.030-3.116-2.724c-1.612-1.182-2.393-1.319-2.841-1.319h-15.5c-1.378 0-2.5 1.121-2.5 2.5v27c0 1.378 1.122 2.5 2.5 2.5h23c1.378 0 2.5-1.122 2.5-2.5v-19.5c0-0.448-0.137-1.23-1.319-2.841zM24.543 5.457c0.959 0.959 1.712 1.825 2.268 2.543h-4.811v-4.811c0.718 0.556 1.584 1.309 2.543 2.268zM28 29.5c0 0.271-0.229 0.5-0.5 0.5h-23c-0.271 0-0.5-0.229-0.5-0.5v-27c0-0.271 0.229-0.5 0.5-0.5 0 0 15.499-0 15.5 0v7c0 0.552 0.448 1 1 1h7v19.5z\"></path>\n",
       "<path d=\"M23 26h-14c-0.552 0-1-0.448-1-1s0.448-1 1-1h14c0.552 0 1 0.448 1 1s-0.448 1-1 1z\"></path>\n",
       "<path d=\"M23 22h-14c-0.552 0-1-0.448-1-1s0.448-1 1-1h14c0.552 0 1 0.448 1 1s-0.448 1-1 1z\"></path>\n",
       "<path d=\"M23 18h-14c-0.552 0-1-0.448-1-1s0.448-1 1-1h14c0.552 0 1 0.448 1 1s-0.448 1-1 1z\"></path>\n",
       "</symbol>\n",
       "</defs>\n",
       "</svg>\n",
       "<style>/* CSS stylesheet for displaying xarray objects in jupyterlab.\n",
       " *\n",
       " */\n",
       "\n",
       ":root {\n",
       "  --xr-font-color0: var(--jp-content-font-color0, rgba(0, 0, 0, 1));\n",
       "  --xr-font-color2: var(--jp-content-font-color2, rgba(0, 0, 0, 0.54));\n",
       "  --xr-font-color3: var(--jp-content-font-color3, rgba(0, 0, 0, 0.38));\n",
       "  --xr-border-color: var(--jp-border-color2, #e0e0e0);\n",
       "  --xr-disabled-color: var(--jp-layout-color3, #bdbdbd);\n",
       "  --xr-background-color: var(--jp-layout-color0, white);\n",
       "  --xr-background-color-row-even: var(--jp-layout-color1, white);\n",
       "  --xr-background-color-row-odd: var(--jp-layout-color2, #eeeeee);\n",
       "}\n",
       "\n",
       "html[theme=\"dark\"],\n",
       "html[data-theme=\"dark\"],\n",
       "body[data-theme=\"dark\"],\n",
       "body.vscode-dark {\n",
       "  --xr-font-color0: rgba(255, 255, 255, 1);\n",
       "  --xr-font-color2: rgba(255, 255, 255, 0.54);\n",
       "  --xr-font-color3: rgba(255, 255, 255, 0.38);\n",
       "  --xr-border-color: #1f1f1f;\n",
       "  --xr-disabled-color: #515151;\n",
       "  --xr-background-color: #111111;\n",
       "  --xr-background-color-row-even: #111111;\n",
       "  --xr-background-color-row-odd: #313131;\n",
       "}\n",
       "\n",
       ".xr-wrap {\n",
       "  display: block !important;\n",
       "  min-width: 300px;\n",
       "  max-width: 700px;\n",
       "}\n",
       "\n",
       ".xr-text-repr-fallback {\n",
       "  /* fallback to plain text repr when CSS is not injected (untrusted notebook) */\n",
       "  display: none;\n",
       "}\n",
       "\n",
       ".xr-header {\n",
       "  padding-top: 6px;\n",
       "  padding-bottom: 6px;\n",
       "  margin-bottom: 4px;\n",
       "  border-bottom: solid 1px var(--xr-border-color);\n",
       "}\n",
       "\n",
       ".xr-header > div,\n",
       ".xr-header > ul {\n",
       "  display: inline;\n",
       "  margin-top: 0;\n",
       "  margin-bottom: 0;\n",
       "}\n",
       "\n",
       ".xr-obj-type,\n",
       ".xr-array-name {\n",
       "  margin-left: 2px;\n",
       "  margin-right: 10px;\n",
       "}\n",
       "\n",
       ".xr-obj-type {\n",
       "  color: var(--xr-font-color2);\n",
       "}\n",
       "\n",
       ".xr-sections {\n",
       "  padding-left: 0 !important;\n",
       "  display: grid;\n",
       "  grid-template-columns: 150px auto auto 1fr 0 20px 0 20px;\n",
       "}\n",
       "\n",
       ".xr-section-item {\n",
       "  display: contents;\n",
       "}\n",
       "\n",
       ".xr-section-item input {\n",
       "  display: inline-block;\n",
       "  opacity: 0;\n",
       "  height: 0;\n",
       "}\n",
       "\n",
       ".xr-section-item input + label {\n",
       "  color: var(--xr-disabled-color);\n",
       "}\n",
       "\n",
       ".xr-section-item input:enabled + label {\n",
       "  cursor: pointer;\n",
       "  color: var(--xr-font-color2);\n",
       "}\n",
       "\n",
       ".xr-section-item input:focus + label {\n",
       "  border: 2px solid var(--xr-font-color0);\n",
       "}\n",
       "\n",
       ".xr-section-item input:enabled + label:hover {\n",
       "  color: var(--xr-font-color0);\n",
       "}\n",
       "\n",
       ".xr-section-summary {\n",
       "  grid-column: 1;\n",
       "  color: var(--xr-font-color2);\n",
       "  font-weight: 500;\n",
       "}\n",
       "\n",
       ".xr-section-summary > span {\n",
       "  display: inline-block;\n",
       "  padding-left: 0.5em;\n",
       "}\n",
       "\n",
       ".xr-section-summary-in:disabled + label {\n",
       "  color: var(--xr-font-color2);\n",
       "}\n",
       "\n",
       ".xr-section-summary-in + label:before {\n",
       "  display: inline-block;\n",
       "  content: \"►\";\n",
       "  font-size: 11px;\n",
       "  width: 15px;\n",
       "  text-align: center;\n",
       "}\n",
       "\n",
       ".xr-section-summary-in:disabled + label:before {\n",
       "  color: var(--xr-disabled-color);\n",
       "}\n",
       "\n",
       ".xr-section-summary-in:checked + label:before {\n",
       "  content: \"▼\";\n",
       "}\n",
       "\n",
       ".xr-section-summary-in:checked + label > span {\n",
       "  display: none;\n",
       "}\n",
       "\n",
       ".xr-section-summary,\n",
       ".xr-section-inline-details {\n",
       "  padding-top: 4px;\n",
       "  padding-bottom: 4px;\n",
       "}\n",
       "\n",
       ".xr-section-inline-details {\n",
       "  grid-column: 2 / -1;\n",
       "}\n",
       "\n",
       ".xr-section-details {\n",
       "  display: none;\n",
       "  grid-column: 1 / -1;\n",
       "  margin-bottom: 5px;\n",
       "}\n",
       "\n",
       ".xr-section-summary-in:checked ~ .xr-section-details {\n",
       "  display: contents;\n",
       "}\n",
       "\n",
       ".xr-array-wrap {\n",
       "  grid-column: 1 / -1;\n",
       "  display: grid;\n",
       "  grid-template-columns: 20px auto;\n",
       "}\n",
       "\n",
       ".xr-array-wrap > label {\n",
       "  grid-column: 1;\n",
       "  vertical-align: top;\n",
       "}\n",
       "\n",
       ".xr-preview {\n",
       "  color: var(--xr-font-color3);\n",
       "}\n",
       "\n",
       ".xr-array-preview,\n",
       ".xr-array-data {\n",
       "  padding: 0 5px !important;\n",
       "  grid-column: 2;\n",
       "}\n",
       "\n",
       ".xr-array-data,\n",
       ".xr-array-in:checked ~ .xr-array-preview {\n",
       "  display: none;\n",
       "}\n",
       "\n",
       ".xr-array-in:checked ~ .xr-array-data,\n",
       ".xr-array-preview {\n",
       "  display: inline-block;\n",
       "}\n",
       "\n",
       ".xr-dim-list {\n",
       "  display: inline-block !important;\n",
       "  list-style: none;\n",
       "  padding: 0 !important;\n",
       "  margin: 0;\n",
       "}\n",
       "\n",
       ".xr-dim-list li {\n",
       "  display: inline-block;\n",
       "  padding: 0;\n",
       "  margin: 0;\n",
       "}\n",
       "\n",
       ".xr-dim-list:before {\n",
       "  content: \"(\";\n",
       "}\n",
       "\n",
       ".xr-dim-list:after {\n",
       "  content: \")\";\n",
       "}\n",
       "\n",
       ".xr-dim-list li:not(:last-child):after {\n",
       "  content: \",\";\n",
       "  padding-right: 5px;\n",
       "}\n",
       "\n",
       ".xr-has-index {\n",
       "  font-weight: bold;\n",
       "}\n",
       "\n",
       ".xr-var-list,\n",
       ".xr-var-item {\n",
       "  display: contents;\n",
       "}\n",
       "\n",
       ".xr-var-item > div,\n",
       ".xr-var-item label,\n",
       ".xr-var-item > .xr-var-name span {\n",
       "  background-color: var(--xr-background-color-row-even);\n",
       "  margin-bottom: 0;\n",
       "}\n",
       "\n",
       ".xr-var-item > .xr-var-name:hover span {\n",
       "  padding-right: 5px;\n",
       "}\n",
       "\n",
       ".xr-var-list > li:nth-child(odd) > div,\n",
       ".xr-var-list > li:nth-child(odd) > label,\n",
       ".xr-var-list > li:nth-child(odd) > .xr-var-name span {\n",
       "  background-color: var(--xr-background-color-row-odd);\n",
       "}\n",
       "\n",
       ".xr-var-name {\n",
       "  grid-column: 1;\n",
       "}\n",
       "\n",
       ".xr-var-dims {\n",
       "  grid-column: 2;\n",
       "}\n",
       "\n",
       ".xr-var-dtype {\n",
       "  grid-column: 3;\n",
       "  text-align: right;\n",
       "  color: var(--xr-font-color2);\n",
       "}\n",
       "\n",
       ".xr-var-preview {\n",
       "  grid-column: 4;\n",
       "}\n",
       "\n",
       ".xr-index-preview {\n",
       "  grid-column: 2 / 5;\n",
       "  color: var(--xr-font-color2);\n",
       "}\n",
       "\n",
       ".xr-var-name,\n",
       ".xr-var-dims,\n",
       ".xr-var-dtype,\n",
       ".xr-preview,\n",
       ".xr-attrs dt {\n",
       "  white-space: nowrap;\n",
       "  overflow: hidden;\n",
       "  text-overflow: ellipsis;\n",
       "  padding-right: 10px;\n",
       "}\n",
       "\n",
       ".xr-var-name:hover,\n",
       ".xr-var-dims:hover,\n",
       ".xr-var-dtype:hover,\n",
       ".xr-attrs dt:hover {\n",
       "  overflow: visible;\n",
       "  width: auto;\n",
       "  z-index: 1;\n",
       "}\n",
       "\n",
       ".xr-var-attrs,\n",
       ".xr-var-data,\n",
       ".xr-index-data {\n",
       "  display: none;\n",
       "  background-color: var(--xr-background-color) !important;\n",
       "  padding-bottom: 5px !important;\n",
       "}\n",
       "\n",
       ".xr-var-attrs-in:checked ~ .xr-var-attrs,\n",
       ".xr-var-data-in:checked ~ .xr-var-data,\n",
       ".xr-index-data-in:checked ~ .xr-index-data {\n",
       "  display: block;\n",
       "}\n",
       "\n",
       ".xr-var-data > table {\n",
       "  float: right;\n",
       "}\n",
       "\n",
       ".xr-var-name span,\n",
       ".xr-var-data,\n",
       ".xr-index-name div,\n",
       ".xr-index-data,\n",
       ".xr-attrs {\n",
       "  padding-left: 25px !important;\n",
       "}\n",
       "\n",
       ".xr-attrs,\n",
       ".xr-var-attrs,\n",
       ".xr-var-data,\n",
       ".xr-index-data {\n",
       "  grid-column: 1 / -1;\n",
       "}\n",
       "\n",
       "dl.xr-attrs {\n",
       "  padding: 0;\n",
       "  margin: 0;\n",
       "  display: grid;\n",
       "  grid-template-columns: 125px auto;\n",
       "}\n",
       "\n",
       ".xr-attrs dt,\n",
       ".xr-attrs dd {\n",
       "  padding: 0;\n",
       "  margin: 0;\n",
       "  float: left;\n",
       "  padding-right: 10px;\n",
       "  width: auto;\n",
       "}\n",
       "\n",
       ".xr-attrs dt {\n",
       "  font-weight: normal;\n",
       "  grid-column: 1;\n",
       "}\n",
       "\n",
       ".xr-attrs dt:hover span {\n",
       "  display: inline-block;\n",
       "  background: var(--xr-background-color);\n",
       "  padding-right: 10px;\n",
       "}\n",
       "\n",
       ".xr-attrs dd {\n",
       "  grid-column: 2;\n",
       "  white-space: pre-wrap;\n",
       "  word-break: break-all;\n",
       "}\n",
       "\n",
       ".xr-icon-database,\n",
       ".xr-icon-file-text2,\n",
       ".xr-no-icon {\n",
       "  display: inline-block;\n",
       "  vertical-align: middle;\n",
       "  width: 1em;\n",
       "  height: 1.5em !important;\n",
       "  stroke-width: 0;\n",
       "  stroke: currentColor;\n",
       "  fill: currentColor;\n",
       "}\n",
       "</style><pre class='xr-text-repr-fallback'>&lt;xarray.DataArray &#x27;atts&#x27; (team: 38, hdi: 2)&gt; Size: 608B\n",
       "array([[-0.24865207,  0.01618727],\n",
       "       [-0.21719022,  0.02516393],\n",
       "       [-0.20859247, -0.01245724],\n",
       "       [-0.06335175,  0.11560123],\n",
       "       [-0.08772836,  0.12069058],\n",
       "       [-0.09354159,  0.15055926],\n",
       "       [-0.10132586,  0.08890081],\n",
       "       [-0.16374316,  0.02695428],\n",
       "       [ 0.14262546,  0.30730862],\n",
       "       [-0.21226745,  0.15692782],\n",
       "       [-0.19531216,  0.13356439],\n",
       "       [-0.16542645,  0.01608927],\n",
       "       [-0.28940147,  0.07305675],\n",
       "       [-0.06650289,  0.1584945 ],\n",
       "       [-0.04269353,  0.12846916],\n",
       "       [-0.14223629,  0.04962224],\n",
       "       [ 0.0073417 ,  0.17689351],\n",
       "       [-0.18450185,  0.03204198],\n",
       "       [-0.00988702,  0.16804107],\n",
       "       [-0.19572834,  0.22255781],\n",
       "       [ 0.00700927,  0.17797515],\n",
       "       [-0.0428714 ,  0.13046226],\n",
       "       [-0.21026992,  0.14169556],\n",
       "       [-0.23302877, -0.02187753],\n",
       "       [-0.16358696,  0.09531525],\n",
       "       [-0.19263355,  0.02751597],\n",
       "       [ 0.0762325 ,  0.24359153],\n",
       "       [ 0.09397108,  0.27436712],\n",
       "       [-0.08532349,  0.11574205],\n",
       "       [-0.03253883,  0.14123948],\n",
       "       [-0.11095114,  0.10034937],\n",
       "       [-0.19394466,  0.1621479 ],\n",
       "       [-0.27658979,  0.02546933],\n",
       "       [-0.07634787,  0.18616632],\n",
       "       [-0.30191685, -0.01319225],\n",
       "       [-0.01748865,  0.15671737],\n",
       "       [-0.14006441,  0.06457072],\n",
       "       [ 0.04080621,  0.21311524]])\n",
       "Coordinates:\n",
       "  * team     (team) &lt;U17 3kB &#x27;Aldosivi&#x27; &#x27;All Boys&#x27; ... &#x27;Union&#x27; &#x27;Velez&#x27;\n",
       "  * hdi      (hdi) &lt;U6 48B &#x27;lower&#x27; &#x27;higher&#x27;</pre><div class='xr-wrap' style='display:none'><div class='xr-header'><div class='xr-obj-type'>xarray.DataArray</div><div class='xr-array-name'>'atts'</div><ul class='xr-dim-list'><li><span class='xr-has-index'>team</span>: 38</li><li><span class='xr-has-index'>hdi</span>: 2</li></ul></div><ul class='xr-sections'><li class='xr-section-item'><div class='xr-array-wrap'><input id='section-5c6ef0a3-f7ec-4958-9348-b9e53ebd1bba' class='xr-array-in' type='checkbox' checked><label for='section-5c6ef0a3-f7ec-4958-9348-b9e53ebd1bba' title='Show/hide data repr'><svg class='icon xr-icon-database'><use xlink:href='#icon-database'></use></svg></label><div class='xr-array-preview xr-preview'><span>-0.2487 0.01619 -0.2172 0.02516 ... -0.1401 0.06457 0.04081 0.2131</span></div><div class='xr-array-data'><pre>array([[-0.24865207,  0.01618727],\n",
       "       [-0.21719022,  0.02516393],\n",
       "       [-0.20859247, -0.01245724],\n",
       "       [-0.06335175,  0.11560123],\n",
       "       [-0.08772836,  0.12069058],\n",
       "       [-0.09354159,  0.15055926],\n",
       "       [-0.10132586,  0.08890081],\n",
       "       [-0.16374316,  0.02695428],\n",
       "       [ 0.14262546,  0.30730862],\n",
       "       [-0.21226745,  0.15692782],\n",
       "       [-0.19531216,  0.13356439],\n",
       "       [-0.16542645,  0.01608927],\n",
       "       [-0.28940147,  0.07305675],\n",
       "       [-0.06650289,  0.1584945 ],\n",
       "       [-0.04269353,  0.12846916],\n",
       "       [-0.14223629,  0.04962224],\n",
       "       [ 0.0073417 ,  0.17689351],\n",
       "       [-0.18450185,  0.03204198],\n",
       "       [-0.00988702,  0.16804107],\n",
       "       [-0.19572834,  0.22255781],\n",
       "       [ 0.00700927,  0.17797515],\n",
       "       [-0.0428714 ,  0.13046226],\n",
       "       [-0.21026992,  0.14169556],\n",
       "       [-0.23302877, -0.02187753],\n",
       "       [-0.16358696,  0.09531525],\n",
       "       [-0.19263355,  0.02751597],\n",
       "       [ 0.0762325 ,  0.24359153],\n",
       "       [ 0.09397108,  0.27436712],\n",
       "       [-0.08532349,  0.11574205],\n",
       "       [-0.03253883,  0.14123948],\n",
       "       [-0.11095114,  0.10034937],\n",
       "       [-0.19394466,  0.1621479 ],\n",
       "       [-0.27658979,  0.02546933],\n",
       "       [-0.07634787,  0.18616632],\n",
       "       [-0.30191685, -0.01319225],\n",
       "       [-0.01748865,  0.15671737],\n",
       "       [-0.14006441,  0.06457072],\n",
       "       [ 0.04080621,  0.21311524]])</pre></div></div></li><li class='xr-section-item'><input id='section-500ce7a8-698a-49a5-984d-cd0489dfa8ad' class='xr-section-summary-in' type='checkbox'  checked><label for='section-500ce7a8-698a-49a5-984d-cd0489dfa8ad' class='xr-section-summary' >Coordinates: <span>(2)</span></label><div class='xr-section-inline-details'></div><div class='xr-section-details'><ul class='xr-var-list'><li class='xr-var-item'><div class='xr-var-name'><span class='xr-has-index'>team</span></div><div class='xr-var-dims'>(team)</div><div class='xr-var-dtype'>&lt;U17</div><div class='xr-var-preview xr-preview'>&#x27;Aldosivi&#x27; &#x27;All Boys&#x27; ... &#x27;Velez&#x27;</div><input id='attrs-3f848ffd-faee-4472-a2fa-ae32d831ec98' class='xr-var-attrs-in' type='checkbox' disabled><label for='attrs-3f848ffd-faee-4472-a2fa-ae32d831ec98' title='Show/Hide attributes'><svg class='icon xr-icon-file-text2'><use xlink:href='#icon-file-text2'></use></svg></label><input id='data-5a4ef8af-c4b3-4574-ac70-5fd4daf5f352' class='xr-var-data-in' type='checkbox'><label for='data-5a4ef8af-c4b3-4574-ac70-5fd4daf5f352' title='Show/Hide data repr'><svg class='icon xr-icon-database'><use xlink:href='#icon-database'></use></svg></label><div class='xr-var-attrs'><dl class='xr-attrs'></dl></div><div class='xr-var-data'><pre>array([&#x27;Aldosivi&#x27;, &#x27;All Boys&#x27;, &#x27;Argentinos&#x27;, &#x27;Arsenal&#x27;, &#x27;Atl Rafaela&#x27;,\n",
       "       &#x27;Atl Tucuman&#x27;, &#x27;Banfield&#x27;, &#x27;Belgrano&#x27;, &#x27;Boca Juniors&#x27;,\n",
       "       &#x27;Central Cba (SdE)&#x27;, &#x27;Chacarita&#x27;, &#x27;Colon&#x27;, &#x27;Crucero (M)&#x27;,\n",
       "       &#x27;Def y Justicia&#x27;, &#x27;Estudiantes (LP)&#x27;, &#x27;Gimnasia (LP)&#x27;, &#x27;Godoy Cruz&#x27;,\n",
       "       &#x27;Huracan&#x27;, &#x27;Independiente&#x27;, &#x27;Instituto&#x27;, &#x27;Lanus&#x27;, &#x27;Newells&#x27;,\n",
       "       &#x27;Nueva Chicago&#x27;, &#x27;Olimpo&#x27;, &#x27;Patronato&#x27;, &#x27;Quilmes&#x27;, &#x27;Racing Club&#x27;,\n",
       "       &#x27;River Plate&#x27;, &#x27;Rosario Central&#x27;, &#x27;San Lorenzo&#x27;, &#x27;San Martin (SJ)&#x27;,\n",
       "       &#x27;San Martin (T)&#x27;, &#x27;Sarmiento (J)&#x27;, &#x27;Talleres (C)&#x27;, &#x27;Temperley&#x27;, &#x27;Tigre&#x27;,\n",
       "       &#x27;Union&#x27;, &#x27;Velez&#x27;], dtype=&#x27;&lt;U17&#x27;)</pre></div></li><li class='xr-var-item'><div class='xr-var-name'><span class='xr-has-index'>hdi</span></div><div class='xr-var-dims'>(hdi)</div><div class='xr-var-dtype'>&lt;U6</div><div class='xr-var-preview xr-preview'>&#x27;lower&#x27; &#x27;higher&#x27;</div><input id='attrs-c7dc5f40-76bf-456d-86e7-bc354b256db0' class='xr-var-attrs-in' type='checkbox' ><label for='attrs-c7dc5f40-76bf-456d-86e7-bc354b256db0' title='Show/Hide attributes'><svg class='icon xr-icon-file-text2'><use xlink:href='#icon-file-text2'></use></svg></label><input id='data-1cd649c7-1fc5-4050-9cb6-35cd8a22bd11' class='xr-var-data-in' type='checkbox'><label for='data-1cd649c7-1fc5-4050-9cb6-35cd8a22bd11' title='Show/Hide data repr'><svg class='icon xr-icon-database'><use xlink:href='#icon-database'></use></svg></label><div class='xr-var-attrs'><dl class='xr-attrs'><dt><span>hdi_prob :</span></dt><dd>0.94</dd></dl></div><div class='xr-var-data'><pre>array([&#x27;lower&#x27;, &#x27;higher&#x27;], dtype=&#x27;&lt;U6&#x27;)</pre></div></li></ul></div></li><li class='xr-section-item'><input id='section-e91595e9-1891-48aa-baf1-0362bb0cc2ad' class='xr-section-summary-in' type='checkbox'  ><label for='section-e91595e9-1891-48aa-baf1-0362bb0cc2ad' class='xr-section-summary' >Indexes: <span>(2)</span></label><div class='xr-section-inline-details'></div><div class='xr-section-details'><ul class='xr-var-list'><li class='xr-var-item'><div class='xr-index-name'><div>team</div></div><div class='xr-index-preview'>PandasIndex</div><input type='checkbox' disabled/><label></label><input id='index-16510ec3-b1c9-42c1-9d87-b18f693615ce' class='xr-index-data-in' type='checkbox'/><label for='index-16510ec3-b1c9-42c1-9d87-b18f693615ce' title='Show/Hide index repr'><svg class='icon xr-icon-database'><use xlink:href='#icon-database'></use></svg></label><div class='xr-index-data'><pre>PandasIndex(Index([&#x27;Aldosivi&#x27;, &#x27;All Boys&#x27;, &#x27;Argentinos&#x27;, &#x27;Arsenal&#x27;, &#x27;Atl Rafaela&#x27;,\n",
       "       &#x27;Atl Tucuman&#x27;, &#x27;Banfield&#x27;, &#x27;Belgrano&#x27;, &#x27;Boca Juniors&#x27;,\n",
       "       &#x27;Central Cba (SdE)&#x27;, &#x27;Chacarita&#x27;, &#x27;Colon&#x27;, &#x27;Crucero (M)&#x27;,\n",
       "       &#x27;Def y Justicia&#x27;, &#x27;Estudiantes (LP)&#x27;, &#x27;Gimnasia (LP)&#x27;, &#x27;Godoy Cruz&#x27;,\n",
       "       &#x27;Huracan&#x27;, &#x27;Independiente&#x27;, &#x27;Instituto&#x27;, &#x27;Lanus&#x27;, &#x27;Newells&#x27;,\n",
       "       &#x27;Nueva Chicago&#x27;, &#x27;Olimpo&#x27;, &#x27;Patronato&#x27;, &#x27;Quilmes&#x27;, &#x27;Racing Club&#x27;,\n",
       "       &#x27;River Plate&#x27;, &#x27;Rosario Central&#x27;, &#x27;San Lorenzo&#x27;, &#x27;San Martin (SJ)&#x27;,\n",
       "       &#x27;San Martin (T)&#x27;, &#x27;Sarmiento (J)&#x27;, &#x27;Talleres (C)&#x27;, &#x27;Temperley&#x27;, &#x27;Tigre&#x27;,\n",
       "       &#x27;Union&#x27;, &#x27;Velez&#x27;],\n",
       "      dtype=&#x27;object&#x27;, name=&#x27;team&#x27;))</pre></div></li><li class='xr-var-item'><div class='xr-index-name'><div>hdi</div></div><div class='xr-index-preview'>PandasIndex</div><input type='checkbox' disabled/><label></label><input id='index-9044d790-8af9-4ac8-98dd-c7e74cd383c9' class='xr-index-data-in' type='checkbox'/><label for='index-9044d790-8af9-4ac8-98dd-c7e74cd383c9' title='Show/Hide index repr'><svg class='icon xr-icon-database'><use xlink:href='#icon-database'></use></svg></label><div class='xr-index-data'><pre>PandasIndex(Index([&#x27;lower&#x27;, &#x27;higher&#x27;], dtype=&#x27;object&#x27;, name=&#x27;hdi&#x27;))</pre></div></li></ul></div></li><li class='xr-section-item'><input id='section-5173f070-4212-49a6-afea-583f50aca7a6' class='xr-section-summary-in' type='checkbox' disabled ><label for='section-5173f070-4212-49a6-afea-583f50aca7a6' class='xr-section-summary'  title='Expand/collapse section'>Attributes: <span>(0)</span></label><div class='xr-section-inline-details'></div><div class='xr-section-details'><dl class='xr-attrs'></dl></div></li></ul></div></div>"
      ],
      "text/plain": [
       "<xarray.DataArray 'atts' (team: 38, hdi: 2)> Size: 608B\n",
       "array([[-0.24865207,  0.01618727],\n",
       "       [-0.21719022,  0.02516393],\n",
       "       [-0.20859247, -0.01245724],\n",
       "       [-0.06335175,  0.11560123],\n",
       "       [-0.08772836,  0.12069058],\n",
       "       [-0.09354159,  0.15055926],\n",
       "       [-0.10132586,  0.08890081],\n",
       "       [-0.16374316,  0.02695428],\n",
       "       [ 0.14262546,  0.30730862],\n",
       "       [-0.21226745,  0.15692782],\n",
       "       [-0.19531216,  0.13356439],\n",
       "       [-0.16542645,  0.01608927],\n",
       "       [-0.28940147,  0.07305675],\n",
       "       [-0.06650289,  0.1584945 ],\n",
       "       [-0.04269353,  0.12846916],\n",
       "       [-0.14223629,  0.04962224],\n",
       "       [ 0.0073417 ,  0.17689351],\n",
       "       [-0.18450185,  0.03204198],\n",
       "       [-0.00988702,  0.16804107],\n",
       "       [-0.19572834,  0.22255781],\n",
       "       [ 0.00700927,  0.17797515],\n",
       "       [-0.0428714 ,  0.13046226],\n",
       "       [-0.21026992,  0.14169556],\n",
       "       [-0.23302877, -0.02187753],\n",
       "       [-0.16358696,  0.09531525],\n",
       "       [-0.19263355,  0.02751597],\n",
       "       [ 0.0762325 ,  0.24359153],\n",
       "       [ 0.09397108,  0.27436712],\n",
       "       [-0.08532349,  0.11574205],\n",
       "       [-0.03253883,  0.14123948],\n",
       "       [-0.11095114,  0.10034937],\n",
       "       [-0.19394466,  0.1621479 ],\n",
       "       [-0.27658979,  0.02546933],\n",
       "       [-0.07634787,  0.18616632],\n",
       "       [-0.30191685, -0.01319225],\n",
       "       [-0.01748865,  0.15671737],\n",
       "       [-0.14006441,  0.06457072],\n",
       "       [ 0.04080621,  0.21311524]])\n",
       "Coordinates:\n",
       "  * team     (team) <U17 3kB 'Aldosivi' 'All Boys' ... 'Union' 'Velez'\n",
       "  * hdi      (hdi) <U6 48B 'lower' 'higher'"
      ]
     },
     "execution_count": 30,
     "metadata": {},
     "output_type": "execute_result"
    }
   ],
   "source": [
    "trace_hdi = az.hdi(trace)\n",
    "trace_hdi[\"atts\"]"
   ]
  },
  {
   "cell_type": "markdown",
   "metadata": {},
   "source": [
    "segun entiendo, esta es la mediano del valor de ataque por equipo"
   ]
  },
  {
   "cell_type": "code",
   "execution_count": 31,
   "metadata": {},
   "outputs": [
    {
     "data": {
      "text/html": [
       "<div><svg style=\"position: absolute; width: 0; height: 0; overflow: hidden\">\n",
       "<defs>\n",
       "<symbol id=\"icon-database\" viewBox=\"0 0 32 32\">\n",
       "<path d=\"M16 0c-8.837 0-16 2.239-16 5v4c0 2.761 7.163 5 16 5s16-2.239 16-5v-4c0-2.761-7.163-5-16-5z\"></path>\n",
       "<path d=\"M16 17c-8.837 0-16-2.239-16-5v6c0 2.761 7.163 5 16 5s16-2.239 16-5v-6c0 2.761-7.163 5-16 5z\"></path>\n",
       "<path d=\"M16 26c-8.837 0-16-2.239-16-5v6c0 2.761 7.163 5 16 5s16-2.239 16-5v-6c0 2.761-7.163 5-16 5z\"></path>\n",
       "</symbol>\n",
       "<symbol id=\"icon-file-text2\" viewBox=\"0 0 32 32\">\n",
       "<path d=\"M28.681 7.159c-0.694-0.947-1.662-2.053-2.724-3.116s-2.169-2.030-3.116-2.724c-1.612-1.182-2.393-1.319-2.841-1.319h-15.5c-1.378 0-2.5 1.121-2.5 2.5v27c0 1.378 1.122 2.5 2.5 2.5h23c1.378 0 2.5-1.122 2.5-2.5v-19.5c0-0.448-0.137-1.23-1.319-2.841zM24.543 5.457c0.959 0.959 1.712 1.825 2.268 2.543h-4.811v-4.811c0.718 0.556 1.584 1.309 2.543 2.268zM28 29.5c0 0.271-0.229 0.5-0.5 0.5h-23c-0.271 0-0.5-0.229-0.5-0.5v-27c0-0.271 0.229-0.5 0.5-0.5 0 0 15.499-0 15.5 0v7c0 0.552 0.448 1 1 1h7v19.5z\"></path>\n",
       "<path d=\"M23 26h-14c-0.552 0-1-0.448-1-1s0.448-1 1-1h14c0.552 0 1 0.448 1 1s-0.448 1-1 1z\"></path>\n",
       "<path d=\"M23 22h-14c-0.552 0-1-0.448-1-1s0.448-1 1-1h14c0.552 0 1 0.448 1 1s-0.448 1-1 1z\"></path>\n",
       "<path d=\"M23 18h-14c-0.552 0-1-0.448-1-1s0.448-1 1-1h14c0.552 0 1 0.448 1 1s-0.448 1-1 1z\"></path>\n",
       "</symbol>\n",
       "</defs>\n",
       "</svg>\n",
       "<style>/* CSS stylesheet for displaying xarray objects in jupyterlab.\n",
       " *\n",
       " */\n",
       "\n",
       ":root {\n",
       "  --xr-font-color0: var(--jp-content-font-color0, rgba(0, 0, 0, 1));\n",
       "  --xr-font-color2: var(--jp-content-font-color2, rgba(0, 0, 0, 0.54));\n",
       "  --xr-font-color3: var(--jp-content-font-color3, rgba(0, 0, 0, 0.38));\n",
       "  --xr-border-color: var(--jp-border-color2, #e0e0e0);\n",
       "  --xr-disabled-color: var(--jp-layout-color3, #bdbdbd);\n",
       "  --xr-background-color: var(--jp-layout-color0, white);\n",
       "  --xr-background-color-row-even: var(--jp-layout-color1, white);\n",
       "  --xr-background-color-row-odd: var(--jp-layout-color2, #eeeeee);\n",
       "}\n",
       "\n",
       "html[theme=\"dark\"],\n",
       "html[data-theme=\"dark\"],\n",
       "body[data-theme=\"dark\"],\n",
       "body.vscode-dark {\n",
       "  --xr-font-color0: rgba(255, 255, 255, 1);\n",
       "  --xr-font-color2: rgba(255, 255, 255, 0.54);\n",
       "  --xr-font-color3: rgba(255, 255, 255, 0.38);\n",
       "  --xr-border-color: #1f1f1f;\n",
       "  --xr-disabled-color: #515151;\n",
       "  --xr-background-color: #111111;\n",
       "  --xr-background-color-row-even: #111111;\n",
       "  --xr-background-color-row-odd: #313131;\n",
       "}\n",
       "\n",
       ".xr-wrap {\n",
       "  display: block !important;\n",
       "  min-width: 300px;\n",
       "  max-width: 700px;\n",
       "}\n",
       "\n",
       ".xr-text-repr-fallback {\n",
       "  /* fallback to plain text repr when CSS is not injected (untrusted notebook) */\n",
       "  display: none;\n",
       "}\n",
       "\n",
       ".xr-header {\n",
       "  padding-top: 6px;\n",
       "  padding-bottom: 6px;\n",
       "  margin-bottom: 4px;\n",
       "  border-bottom: solid 1px var(--xr-border-color);\n",
       "}\n",
       "\n",
       ".xr-header > div,\n",
       ".xr-header > ul {\n",
       "  display: inline;\n",
       "  margin-top: 0;\n",
       "  margin-bottom: 0;\n",
       "}\n",
       "\n",
       ".xr-obj-type,\n",
       ".xr-array-name {\n",
       "  margin-left: 2px;\n",
       "  margin-right: 10px;\n",
       "}\n",
       "\n",
       ".xr-obj-type {\n",
       "  color: var(--xr-font-color2);\n",
       "}\n",
       "\n",
       ".xr-sections {\n",
       "  padding-left: 0 !important;\n",
       "  display: grid;\n",
       "  grid-template-columns: 150px auto auto 1fr 0 20px 0 20px;\n",
       "}\n",
       "\n",
       ".xr-section-item {\n",
       "  display: contents;\n",
       "}\n",
       "\n",
       ".xr-section-item input {\n",
       "  display: inline-block;\n",
       "  opacity: 0;\n",
       "  height: 0;\n",
       "}\n",
       "\n",
       ".xr-section-item input + label {\n",
       "  color: var(--xr-disabled-color);\n",
       "}\n",
       "\n",
       ".xr-section-item input:enabled + label {\n",
       "  cursor: pointer;\n",
       "  color: var(--xr-font-color2);\n",
       "}\n",
       "\n",
       ".xr-section-item input:focus + label {\n",
       "  border: 2px solid var(--xr-font-color0);\n",
       "}\n",
       "\n",
       ".xr-section-item input:enabled + label:hover {\n",
       "  color: var(--xr-font-color0);\n",
       "}\n",
       "\n",
       ".xr-section-summary {\n",
       "  grid-column: 1;\n",
       "  color: var(--xr-font-color2);\n",
       "  font-weight: 500;\n",
       "}\n",
       "\n",
       ".xr-section-summary > span {\n",
       "  display: inline-block;\n",
       "  padding-left: 0.5em;\n",
       "}\n",
       "\n",
       ".xr-section-summary-in:disabled + label {\n",
       "  color: var(--xr-font-color2);\n",
       "}\n",
       "\n",
       ".xr-section-summary-in + label:before {\n",
       "  display: inline-block;\n",
       "  content: \"►\";\n",
       "  font-size: 11px;\n",
       "  width: 15px;\n",
       "  text-align: center;\n",
       "}\n",
       "\n",
       ".xr-section-summary-in:disabled + label:before {\n",
       "  color: var(--xr-disabled-color);\n",
       "}\n",
       "\n",
       ".xr-section-summary-in:checked + label:before {\n",
       "  content: \"▼\";\n",
       "}\n",
       "\n",
       ".xr-section-summary-in:checked + label > span {\n",
       "  display: none;\n",
       "}\n",
       "\n",
       ".xr-section-summary,\n",
       ".xr-section-inline-details {\n",
       "  padding-top: 4px;\n",
       "  padding-bottom: 4px;\n",
       "}\n",
       "\n",
       ".xr-section-inline-details {\n",
       "  grid-column: 2 / -1;\n",
       "}\n",
       "\n",
       ".xr-section-details {\n",
       "  display: none;\n",
       "  grid-column: 1 / -1;\n",
       "  margin-bottom: 5px;\n",
       "}\n",
       "\n",
       ".xr-section-summary-in:checked ~ .xr-section-details {\n",
       "  display: contents;\n",
       "}\n",
       "\n",
       ".xr-array-wrap {\n",
       "  grid-column: 1 / -1;\n",
       "  display: grid;\n",
       "  grid-template-columns: 20px auto;\n",
       "}\n",
       "\n",
       ".xr-array-wrap > label {\n",
       "  grid-column: 1;\n",
       "  vertical-align: top;\n",
       "}\n",
       "\n",
       ".xr-preview {\n",
       "  color: var(--xr-font-color3);\n",
       "}\n",
       "\n",
       ".xr-array-preview,\n",
       ".xr-array-data {\n",
       "  padding: 0 5px !important;\n",
       "  grid-column: 2;\n",
       "}\n",
       "\n",
       ".xr-array-data,\n",
       ".xr-array-in:checked ~ .xr-array-preview {\n",
       "  display: none;\n",
       "}\n",
       "\n",
       ".xr-array-in:checked ~ .xr-array-data,\n",
       ".xr-array-preview {\n",
       "  display: inline-block;\n",
       "}\n",
       "\n",
       ".xr-dim-list {\n",
       "  display: inline-block !important;\n",
       "  list-style: none;\n",
       "  padding: 0 !important;\n",
       "  margin: 0;\n",
       "}\n",
       "\n",
       ".xr-dim-list li {\n",
       "  display: inline-block;\n",
       "  padding: 0;\n",
       "  margin: 0;\n",
       "}\n",
       "\n",
       ".xr-dim-list:before {\n",
       "  content: \"(\";\n",
       "}\n",
       "\n",
       ".xr-dim-list:after {\n",
       "  content: \")\";\n",
       "}\n",
       "\n",
       ".xr-dim-list li:not(:last-child):after {\n",
       "  content: \",\";\n",
       "  padding-right: 5px;\n",
       "}\n",
       "\n",
       ".xr-has-index {\n",
       "  font-weight: bold;\n",
       "}\n",
       "\n",
       ".xr-var-list,\n",
       ".xr-var-item {\n",
       "  display: contents;\n",
       "}\n",
       "\n",
       ".xr-var-item > div,\n",
       ".xr-var-item label,\n",
       ".xr-var-item > .xr-var-name span {\n",
       "  background-color: var(--xr-background-color-row-even);\n",
       "  margin-bottom: 0;\n",
       "}\n",
       "\n",
       ".xr-var-item > .xr-var-name:hover span {\n",
       "  padding-right: 5px;\n",
       "}\n",
       "\n",
       ".xr-var-list > li:nth-child(odd) > div,\n",
       ".xr-var-list > li:nth-child(odd) > label,\n",
       ".xr-var-list > li:nth-child(odd) > .xr-var-name span {\n",
       "  background-color: var(--xr-background-color-row-odd);\n",
       "}\n",
       "\n",
       ".xr-var-name {\n",
       "  grid-column: 1;\n",
       "}\n",
       "\n",
       ".xr-var-dims {\n",
       "  grid-column: 2;\n",
       "}\n",
       "\n",
       ".xr-var-dtype {\n",
       "  grid-column: 3;\n",
       "  text-align: right;\n",
       "  color: var(--xr-font-color2);\n",
       "}\n",
       "\n",
       ".xr-var-preview {\n",
       "  grid-column: 4;\n",
       "}\n",
       "\n",
       ".xr-index-preview {\n",
       "  grid-column: 2 / 5;\n",
       "  color: var(--xr-font-color2);\n",
       "}\n",
       "\n",
       ".xr-var-name,\n",
       ".xr-var-dims,\n",
       ".xr-var-dtype,\n",
       ".xr-preview,\n",
       ".xr-attrs dt {\n",
       "  white-space: nowrap;\n",
       "  overflow: hidden;\n",
       "  text-overflow: ellipsis;\n",
       "  padding-right: 10px;\n",
       "}\n",
       "\n",
       ".xr-var-name:hover,\n",
       ".xr-var-dims:hover,\n",
       ".xr-var-dtype:hover,\n",
       ".xr-attrs dt:hover {\n",
       "  overflow: visible;\n",
       "  width: auto;\n",
       "  z-index: 1;\n",
       "}\n",
       "\n",
       ".xr-var-attrs,\n",
       ".xr-var-data,\n",
       ".xr-index-data {\n",
       "  display: none;\n",
       "  background-color: var(--xr-background-color) !important;\n",
       "  padding-bottom: 5px !important;\n",
       "}\n",
       "\n",
       ".xr-var-attrs-in:checked ~ .xr-var-attrs,\n",
       ".xr-var-data-in:checked ~ .xr-var-data,\n",
       ".xr-index-data-in:checked ~ .xr-index-data {\n",
       "  display: block;\n",
       "}\n",
       "\n",
       ".xr-var-data > table {\n",
       "  float: right;\n",
       "}\n",
       "\n",
       ".xr-var-name span,\n",
       ".xr-var-data,\n",
       ".xr-index-name div,\n",
       ".xr-index-data,\n",
       ".xr-attrs {\n",
       "  padding-left: 25px !important;\n",
       "}\n",
       "\n",
       ".xr-attrs,\n",
       ".xr-var-attrs,\n",
       ".xr-var-data,\n",
       ".xr-index-data {\n",
       "  grid-column: 1 / -1;\n",
       "}\n",
       "\n",
       "dl.xr-attrs {\n",
       "  padding: 0;\n",
       "  margin: 0;\n",
       "  display: grid;\n",
       "  grid-template-columns: 125px auto;\n",
       "}\n",
       "\n",
       ".xr-attrs dt,\n",
       ".xr-attrs dd {\n",
       "  padding: 0;\n",
       "  margin: 0;\n",
       "  float: left;\n",
       "  padding-right: 10px;\n",
       "  width: auto;\n",
       "}\n",
       "\n",
       ".xr-attrs dt {\n",
       "  font-weight: normal;\n",
       "  grid-column: 1;\n",
       "}\n",
       "\n",
       ".xr-attrs dt:hover span {\n",
       "  display: inline-block;\n",
       "  background: var(--xr-background-color);\n",
       "  padding-right: 10px;\n",
       "}\n",
       "\n",
       ".xr-attrs dd {\n",
       "  grid-column: 2;\n",
       "  white-space: pre-wrap;\n",
       "  word-break: break-all;\n",
       "}\n",
       "\n",
       ".xr-icon-database,\n",
       ".xr-icon-file-text2,\n",
       ".xr-no-icon {\n",
       "  display: inline-block;\n",
       "  vertical-align: middle;\n",
       "  width: 1em;\n",
       "  height: 1.5em !important;\n",
       "  stroke-width: 0;\n",
       "  stroke: currentColor;\n",
       "  fill: currentColor;\n",
       "}\n",
       "</style><pre class='xr-text-repr-fallback'>&lt;xarray.DataArray &#x27;atts&#x27; (team: 38)&gt; Size: 304B\n",
       "array([-0.11078164, -0.09395681, -0.11096062,  0.02474903,  0.01787722,\n",
       "        0.02743543, -0.00522798, -0.06725774,  0.22481516, -0.02480894,\n",
       "       -0.03119164, -0.07489236, -0.10429315,  0.04481422,  0.04156057,\n",
       "       -0.04694444,  0.09476186, -0.07132072,  0.07921777,  0.00637871,\n",
       "        0.09471191,  0.03987945, -0.03195078, -0.12399504, -0.03354785,\n",
       "       -0.08073518,  0.15989003,  0.18645038,  0.01380013,  0.05432301,\n",
       "       -0.00506725, -0.00840475, -0.12249381,  0.05537452, -0.15828965,\n",
       "        0.06800429, -0.03974665,  0.12637365])\n",
       "Coordinates:\n",
       "  * team     (team) &lt;U17 3kB &#x27;Aldosivi&#x27; &#x27;All Boys&#x27; ... &#x27;Union&#x27; &#x27;Velez&#x27;</pre><div class='xr-wrap' style='display:none'><div class='xr-header'><div class='xr-obj-type'>xarray.DataArray</div><div class='xr-array-name'>'atts'</div><ul class='xr-dim-list'><li><span class='xr-has-index'>team</span>: 38</li></ul></div><ul class='xr-sections'><li class='xr-section-item'><div class='xr-array-wrap'><input id='section-d8465298-b83f-47a2-b11e-315ad00b96c4' class='xr-array-in' type='checkbox' checked><label for='section-d8465298-b83f-47a2-b11e-315ad00b96c4' title='Show/hide data repr'><svg class='icon xr-icon-database'><use xlink:href='#icon-database'></use></svg></label><div class='xr-array-preview xr-preview'><span>-0.1108 -0.09396 -0.111 0.02475 ... -0.1583 0.068 -0.03975 0.1264</span></div><div class='xr-array-data'><pre>array([-0.11078164, -0.09395681, -0.11096062,  0.02474903,  0.01787722,\n",
       "        0.02743543, -0.00522798, -0.06725774,  0.22481516, -0.02480894,\n",
       "       -0.03119164, -0.07489236, -0.10429315,  0.04481422,  0.04156057,\n",
       "       -0.04694444,  0.09476186, -0.07132072,  0.07921777,  0.00637871,\n",
       "        0.09471191,  0.03987945, -0.03195078, -0.12399504, -0.03354785,\n",
       "       -0.08073518,  0.15989003,  0.18645038,  0.01380013,  0.05432301,\n",
       "       -0.00506725, -0.00840475, -0.12249381,  0.05537452, -0.15828965,\n",
       "        0.06800429, -0.03974665,  0.12637365])</pre></div></div></li><li class='xr-section-item'><input id='section-773cf7c6-1564-4907-a32b-5c6dd47e66b7' class='xr-section-summary-in' type='checkbox'  checked><label for='section-773cf7c6-1564-4907-a32b-5c6dd47e66b7' class='xr-section-summary' >Coordinates: <span>(1)</span></label><div class='xr-section-inline-details'></div><div class='xr-section-details'><ul class='xr-var-list'><li class='xr-var-item'><div class='xr-var-name'><span class='xr-has-index'>team</span></div><div class='xr-var-dims'>(team)</div><div class='xr-var-dtype'>&lt;U17</div><div class='xr-var-preview xr-preview'>&#x27;Aldosivi&#x27; &#x27;All Boys&#x27; ... &#x27;Velez&#x27;</div><input id='attrs-449fbc70-a92a-49ec-830e-8cebd08c2308' class='xr-var-attrs-in' type='checkbox' disabled><label for='attrs-449fbc70-a92a-49ec-830e-8cebd08c2308' title='Show/Hide attributes'><svg class='icon xr-icon-file-text2'><use xlink:href='#icon-file-text2'></use></svg></label><input id='data-fdcc3961-e384-4308-9972-b3b85024ccef' class='xr-var-data-in' type='checkbox'><label for='data-fdcc3961-e384-4308-9972-b3b85024ccef' title='Show/Hide data repr'><svg class='icon xr-icon-database'><use xlink:href='#icon-database'></use></svg></label><div class='xr-var-attrs'><dl class='xr-attrs'></dl></div><div class='xr-var-data'><pre>array([&#x27;Aldosivi&#x27;, &#x27;All Boys&#x27;, &#x27;Argentinos&#x27;, &#x27;Arsenal&#x27;, &#x27;Atl Rafaela&#x27;,\n",
       "       &#x27;Atl Tucuman&#x27;, &#x27;Banfield&#x27;, &#x27;Belgrano&#x27;, &#x27;Boca Juniors&#x27;,\n",
       "       &#x27;Central Cba (SdE)&#x27;, &#x27;Chacarita&#x27;, &#x27;Colon&#x27;, &#x27;Crucero (M)&#x27;,\n",
       "       &#x27;Def y Justicia&#x27;, &#x27;Estudiantes (LP)&#x27;, &#x27;Gimnasia (LP)&#x27;, &#x27;Godoy Cruz&#x27;,\n",
       "       &#x27;Huracan&#x27;, &#x27;Independiente&#x27;, &#x27;Instituto&#x27;, &#x27;Lanus&#x27;, &#x27;Newells&#x27;,\n",
       "       &#x27;Nueva Chicago&#x27;, &#x27;Olimpo&#x27;, &#x27;Patronato&#x27;, &#x27;Quilmes&#x27;, &#x27;Racing Club&#x27;,\n",
       "       &#x27;River Plate&#x27;, &#x27;Rosario Central&#x27;, &#x27;San Lorenzo&#x27;, &#x27;San Martin (SJ)&#x27;,\n",
       "       &#x27;San Martin (T)&#x27;, &#x27;Sarmiento (J)&#x27;, &#x27;Talleres (C)&#x27;, &#x27;Temperley&#x27;, &#x27;Tigre&#x27;,\n",
       "       &#x27;Union&#x27;, &#x27;Velez&#x27;], dtype=&#x27;&lt;U17&#x27;)</pre></div></li></ul></div></li><li class='xr-section-item'><input id='section-eb34af2f-d1b5-4c18-9952-36e1f2b2c382' class='xr-section-summary-in' type='checkbox'  ><label for='section-eb34af2f-d1b5-4c18-9952-36e1f2b2c382' class='xr-section-summary' >Indexes: <span>(1)</span></label><div class='xr-section-inline-details'></div><div class='xr-section-details'><ul class='xr-var-list'><li class='xr-var-item'><div class='xr-index-name'><div>team</div></div><div class='xr-index-preview'>PandasIndex</div><input type='checkbox' disabled/><label></label><input id='index-9d093f3d-d6c4-4e61-a6da-968a9ef3ca02' class='xr-index-data-in' type='checkbox'/><label for='index-9d093f3d-d6c4-4e61-a6da-968a9ef3ca02' title='Show/Hide index repr'><svg class='icon xr-icon-database'><use xlink:href='#icon-database'></use></svg></label><div class='xr-index-data'><pre>PandasIndex(Index([&#x27;Aldosivi&#x27;, &#x27;All Boys&#x27;, &#x27;Argentinos&#x27;, &#x27;Arsenal&#x27;, &#x27;Atl Rafaela&#x27;,\n",
       "       &#x27;Atl Tucuman&#x27;, &#x27;Banfield&#x27;, &#x27;Belgrano&#x27;, &#x27;Boca Juniors&#x27;,\n",
       "       &#x27;Central Cba (SdE)&#x27;, &#x27;Chacarita&#x27;, &#x27;Colon&#x27;, &#x27;Crucero (M)&#x27;,\n",
       "       &#x27;Def y Justicia&#x27;, &#x27;Estudiantes (LP)&#x27;, &#x27;Gimnasia (LP)&#x27;, &#x27;Godoy Cruz&#x27;,\n",
       "       &#x27;Huracan&#x27;, &#x27;Independiente&#x27;, &#x27;Instituto&#x27;, &#x27;Lanus&#x27;, &#x27;Newells&#x27;,\n",
       "       &#x27;Nueva Chicago&#x27;, &#x27;Olimpo&#x27;, &#x27;Patronato&#x27;, &#x27;Quilmes&#x27;, &#x27;Racing Club&#x27;,\n",
       "       &#x27;River Plate&#x27;, &#x27;Rosario Central&#x27;, &#x27;San Lorenzo&#x27;, &#x27;San Martin (SJ)&#x27;,\n",
       "       &#x27;San Martin (T)&#x27;, &#x27;Sarmiento (J)&#x27;, &#x27;Talleres (C)&#x27;, &#x27;Temperley&#x27;, &#x27;Tigre&#x27;,\n",
       "       &#x27;Union&#x27;, &#x27;Velez&#x27;],\n",
       "      dtype=&#x27;object&#x27;, name=&#x27;team&#x27;))</pre></div></li></ul></div></li><li class='xr-section-item'><input id='section-2b1ad3d3-0ec9-4afe-8dd0-7086db556357' class='xr-section-summary-in' type='checkbox' disabled ><label for='section-2b1ad3d3-0ec9-4afe-8dd0-7086db556357' class='xr-section-summary'  title='Expand/collapse section'>Attributes: <span>(0)</span></label><div class='xr-section-inline-details'></div><div class='xr-section-details'><dl class='xr-attrs'></dl></div></li></ul></div></div>"
      ],
      "text/plain": [
       "<xarray.DataArray 'atts' (team: 38)> Size: 304B\n",
       "array([-0.11078164, -0.09395681, -0.11096062,  0.02474903,  0.01787722,\n",
       "        0.02743543, -0.00522798, -0.06725774,  0.22481516, -0.02480894,\n",
       "       -0.03119164, -0.07489236, -0.10429315,  0.04481422,  0.04156057,\n",
       "       -0.04694444,  0.09476186, -0.07132072,  0.07921777,  0.00637871,\n",
       "        0.09471191,  0.03987945, -0.03195078, -0.12399504, -0.03354785,\n",
       "       -0.08073518,  0.15989003,  0.18645038,  0.01380013,  0.05432301,\n",
       "       -0.00506725, -0.00840475, -0.12249381,  0.05537452, -0.15828965,\n",
       "        0.06800429, -0.03974665,  0.12637365])\n",
       "Coordinates:\n",
       "  * team     (team) <U17 3kB 'Aldosivi' 'All Boys' ... 'Union' 'Velez'"
      ]
     },
     "execution_count": 31,
     "metadata": {},
     "output_type": "execute_result"
    }
   ],
   "source": [
    "trace.posterior[\"atts\"].median((\"chain\", \"draw\"))"
   ]
  },
  {
   "cell_type": "code",
   "execution_count": 32,
   "metadata": {},
   "outputs": [
    {
     "data": {
      "application/vnd.plotly.v1+json": {
       "config": {
        "plotlyServerURL": "https://plot.ly"
       },
       "data": [
        {
         "error_y": {
          "array": {
           "bdata": "m12daoRAwD8bWs9ksn6+P4S7QHiEN7k/KOX/6RZCtz/CXEz7+VG6P/me+wsLhb8/7I2sIdMYuD+Q4ZxtRx64P1CiNqZKHrU/7jfeZCZDxz/CrSi9uRbFPwP7nnWSSrc/oZlA1Gazxj9EVUOgJhq9P5Yf7jukP7Y/WqGMHZi4uD9DqHV+lAa1P65vQVb6dbo/dEuvrR+9tj97LXPEwavLP+XLf1q9ULU/brbNU28wtz8yrcUUCzrGP9q/qWVfJLo/jjozC5Z+wD/pRrfSWLa7P86x/RR2bbU/bISKLraBtj80p0GY3Ri6P9R4124oQLY/uzFwW5X8uj88VoRTq9TFP4Begsl08MI/bKuzNsm9wD9sMFMvjZLCP2L9EYPmtbY/9Iuc+Yq0uj++9H5EsjS2Pw==",
           "dtype": "f8"
          },
          "arrayminus": {
           "bdata": "EMUrAr2lwT/svsqIOYy/Py7IhrRm/rg/TiWF3sWNtj/KJeWm9wi7P9V+85tZ+L4/VEU13d6ZuD9WRB3ERLO4P6YHxlRiCrU/eHtE/KP+xz/ytSO55gHFP/YIgwA+Lbc/1Z28FaGxxz8WjiQ7R3+8P4nMsT6tkbU/PMAL1AtluD+f8RPXKmG2PwDlAEtw+bw/Nsc1apLPtj/oVbTBpN7JP2Snkkeuc7Y/uuc47ygvtT9gy9JOKdPGP3ZplHui6bs/+DnBFB+lwD+MnsMiX6W8P400Jm6UarU/49IFKLmstz+P/wlSKmC5P/XpAOOTPLY/R+2M4TQbuz8luJiLxb/HPzSW7cBqucM/QUu1eEfcwD/9PJZAYGLCP2w1UmXd4rU/nhS0smyuuT88tNl/v+e1Pw==",
           "dtype": "f8"
          },
          "color": "blue",
          "symmetric": false,
          "thickness": 6,
          "type": "data"
         },
         "marker": {
          "color": "blue",
          "size": 10
         },
         "mode": "markers",
         "name": "Attack Strength",
         "type": "scatter",
         "x": [
          "Aldosivi",
          "All Boys",
          "Argentinos",
          "Arsenal",
          "Atl Rafaela",
          "Atl Tucuman",
          "Banfield",
          "Belgrano",
          "Boca Juniors",
          "Central Cba (SdE)",
          "Chacarita",
          "Colon",
          "Crucero (M)",
          "Def y Justicia",
          "Estudiantes (LP)",
          "Gimnasia (LP)",
          "Godoy Cruz",
          "Huracan",
          "Independiente",
          "Instituto",
          "Lanus",
          "Newells",
          "Nueva Chicago",
          "Olimpo",
          "Patronato",
          "Quilmes",
          "Racing Club",
          "River Plate",
          "Rosario Central",
          "San Lorenzo",
          "San Martin (SJ)",
          "San Martin (T)",
          "Sarmiento (J)",
          "Talleres (C)",
          "Temperley",
          "Tigre",
          "Union",
          "Velez"
         ],
         "y": {
          "bdata": "CGvviS9cvL+qaQWrjQ24v4gdRETqZ7y/6A/2O89XmT+KpzEBaE6SP2Qew44IGJw/RXt/4+9pdb9mX4egzTexv4BoaEG+xsw/EwUcooNnmb+ymUlos/Cfv5qxMUclLLO/2u0yyfSyur8tGujH4/GmPzUieVdtR6U/iCgiHBoJqL81slI1UEK4P+aW+CYTQrK/aCKkrp1HtD++6VsCjyB6P0Xm2zsKP7g/UB9YRRRrpD8WzJxW2lugv3YkqoMjvr+/RHilIy8tob++OHx9D6u0v66uedBGd8Q/5tBvHJvdxz++P+gpPkOMP8mLCcI50Ks/58Z+HGXBdL+G7YuPgjaBv8jhvybBW7+/k8WEZgxarD89kNzR1ULEv1KvWpm6aLE/13qpMaxZpL+0MYUNAy3APw==",
          "dtype": "f8"
         }
        }
       ],
       "layout": {
        "height": 500,
        "template": {
         "data": {
          "bar": [
           {
            "error_x": {
             "color": "#2a3f5f"
            },
            "error_y": {
             "color": "#2a3f5f"
            },
            "marker": {
             "line": {
              "color": "#E5ECF6",
              "width": 0.5
             },
             "pattern": {
              "fillmode": "overlay",
              "size": 10,
              "solidity": 0.2
             }
            },
            "type": "bar"
           }
          ],
          "barpolar": [
           {
            "marker": {
             "line": {
              "color": "#E5ECF6",
              "width": 0.5
             },
             "pattern": {
              "fillmode": "overlay",
              "size": 10,
              "solidity": 0.2
             }
            },
            "type": "barpolar"
           }
          ],
          "carpet": [
           {
            "aaxis": {
             "endlinecolor": "#2a3f5f",
             "gridcolor": "white",
             "linecolor": "white",
             "minorgridcolor": "white",
             "startlinecolor": "#2a3f5f"
            },
            "baxis": {
             "endlinecolor": "#2a3f5f",
             "gridcolor": "white",
             "linecolor": "white",
             "minorgridcolor": "white",
             "startlinecolor": "#2a3f5f"
            },
            "type": "carpet"
           }
          ],
          "choropleth": [
           {
            "colorbar": {
             "outlinewidth": 0,
             "ticks": ""
            },
            "type": "choropleth"
           }
          ],
          "contour": [
           {
            "colorbar": {
             "outlinewidth": 0,
             "ticks": ""
            },
            "colorscale": [
             [
              0,
              "#0d0887"
             ],
             [
              0.1111111111111111,
              "#46039f"
             ],
             [
              0.2222222222222222,
              "#7201a8"
             ],
             [
              0.3333333333333333,
              "#9c179e"
             ],
             [
              0.4444444444444444,
              "#bd3786"
             ],
             [
              0.5555555555555556,
              "#d8576b"
             ],
             [
              0.6666666666666666,
              "#ed7953"
             ],
             [
              0.7777777777777778,
              "#fb9f3a"
             ],
             [
              0.8888888888888888,
              "#fdca26"
             ],
             [
              1,
              "#f0f921"
             ]
            ],
            "type": "contour"
           }
          ],
          "contourcarpet": [
           {
            "colorbar": {
             "outlinewidth": 0,
             "ticks": ""
            },
            "type": "contourcarpet"
           }
          ],
          "heatmap": [
           {
            "colorbar": {
             "outlinewidth": 0,
             "ticks": ""
            },
            "colorscale": [
             [
              0,
              "#0d0887"
             ],
             [
              0.1111111111111111,
              "#46039f"
             ],
             [
              0.2222222222222222,
              "#7201a8"
             ],
             [
              0.3333333333333333,
              "#9c179e"
             ],
             [
              0.4444444444444444,
              "#bd3786"
             ],
             [
              0.5555555555555556,
              "#d8576b"
             ],
             [
              0.6666666666666666,
              "#ed7953"
             ],
             [
              0.7777777777777778,
              "#fb9f3a"
             ],
             [
              0.8888888888888888,
              "#fdca26"
             ],
             [
              1,
              "#f0f921"
             ]
            ],
            "type": "heatmap"
           }
          ],
          "histogram": [
           {
            "marker": {
             "pattern": {
              "fillmode": "overlay",
              "size": 10,
              "solidity": 0.2
             }
            },
            "type": "histogram"
           }
          ],
          "histogram2d": [
           {
            "colorbar": {
             "outlinewidth": 0,
             "ticks": ""
            },
            "colorscale": [
             [
              0,
              "#0d0887"
             ],
             [
              0.1111111111111111,
              "#46039f"
             ],
             [
              0.2222222222222222,
              "#7201a8"
             ],
             [
              0.3333333333333333,
              "#9c179e"
             ],
             [
              0.4444444444444444,
              "#bd3786"
             ],
             [
              0.5555555555555556,
              "#d8576b"
             ],
             [
              0.6666666666666666,
              "#ed7953"
             ],
             [
              0.7777777777777778,
              "#fb9f3a"
             ],
             [
              0.8888888888888888,
              "#fdca26"
             ],
             [
              1,
              "#f0f921"
             ]
            ],
            "type": "histogram2d"
           }
          ],
          "histogram2dcontour": [
           {
            "colorbar": {
             "outlinewidth": 0,
             "ticks": ""
            },
            "colorscale": [
             [
              0,
              "#0d0887"
             ],
             [
              0.1111111111111111,
              "#46039f"
             ],
             [
              0.2222222222222222,
              "#7201a8"
             ],
             [
              0.3333333333333333,
              "#9c179e"
             ],
             [
              0.4444444444444444,
              "#bd3786"
             ],
             [
              0.5555555555555556,
              "#d8576b"
             ],
             [
              0.6666666666666666,
              "#ed7953"
             ],
             [
              0.7777777777777778,
              "#fb9f3a"
             ],
             [
              0.8888888888888888,
              "#fdca26"
             ],
             [
              1,
              "#f0f921"
             ]
            ],
            "type": "histogram2dcontour"
           }
          ],
          "mesh3d": [
           {
            "colorbar": {
             "outlinewidth": 0,
             "ticks": ""
            },
            "type": "mesh3d"
           }
          ],
          "parcoords": [
           {
            "line": {
             "colorbar": {
              "outlinewidth": 0,
              "ticks": ""
             }
            },
            "type": "parcoords"
           }
          ],
          "pie": [
           {
            "automargin": true,
            "type": "pie"
           }
          ],
          "scatter": [
           {
            "fillpattern": {
             "fillmode": "overlay",
             "size": 10,
             "solidity": 0.2
            },
            "type": "scatter"
           }
          ],
          "scatter3d": [
           {
            "line": {
             "colorbar": {
              "outlinewidth": 0,
              "ticks": ""
             }
            },
            "marker": {
             "colorbar": {
              "outlinewidth": 0,
              "ticks": ""
             }
            },
            "type": "scatter3d"
           }
          ],
          "scattercarpet": [
           {
            "marker": {
             "colorbar": {
              "outlinewidth": 0,
              "ticks": ""
             }
            },
            "type": "scattercarpet"
           }
          ],
          "scattergeo": [
           {
            "marker": {
             "colorbar": {
              "outlinewidth": 0,
              "ticks": ""
             }
            },
            "type": "scattergeo"
           }
          ],
          "scattergl": [
           {
            "marker": {
             "colorbar": {
              "outlinewidth": 0,
              "ticks": ""
             }
            },
            "type": "scattergl"
           }
          ],
          "scattermap": [
           {
            "marker": {
             "colorbar": {
              "outlinewidth": 0,
              "ticks": ""
             }
            },
            "type": "scattermap"
           }
          ],
          "scattermapbox": [
           {
            "marker": {
             "colorbar": {
              "outlinewidth": 0,
              "ticks": ""
             }
            },
            "type": "scattermapbox"
           }
          ],
          "scatterpolar": [
           {
            "marker": {
             "colorbar": {
              "outlinewidth": 0,
              "ticks": ""
             }
            },
            "type": "scatterpolar"
           }
          ],
          "scatterpolargl": [
           {
            "marker": {
             "colorbar": {
              "outlinewidth": 0,
              "ticks": ""
             }
            },
            "type": "scatterpolargl"
           }
          ],
          "scatterternary": [
           {
            "marker": {
             "colorbar": {
              "outlinewidth": 0,
              "ticks": ""
             }
            },
            "type": "scatterternary"
           }
          ],
          "surface": [
           {
            "colorbar": {
             "outlinewidth": 0,
             "ticks": ""
            },
            "colorscale": [
             [
              0,
              "#0d0887"
             ],
             [
              0.1111111111111111,
              "#46039f"
             ],
             [
              0.2222222222222222,
              "#7201a8"
             ],
             [
              0.3333333333333333,
              "#9c179e"
             ],
             [
              0.4444444444444444,
              "#bd3786"
             ],
             [
              0.5555555555555556,
              "#d8576b"
             ],
             [
              0.6666666666666666,
              "#ed7953"
             ],
             [
              0.7777777777777778,
              "#fb9f3a"
             ],
             [
              0.8888888888888888,
              "#fdca26"
             ],
             [
              1,
              "#f0f921"
             ]
            ],
            "type": "surface"
           }
          ],
          "table": [
           {
            "cells": {
             "fill": {
              "color": "#EBF0F8"
             },
             "line": {
              "color": "white"
             }
            },
            "header": {
             "fill": {
              "color": "#C8D4E3"
             },
             "line": {
              "color": "white"
             }
            },
            "type": "table"
           }
          ]
         },
         "layout": {
          "annotationdefaults": {
           "arrowcolor": "#2a3f5f",
           "arrowhead": 0,
           "arrowwidth": 1
          },
          "autotypenumbers": "strict",
          "coloraxis": {
           "colorbar": {
            "outlinewidth": 0,
            "ticks": ""
           }
          },
          "colorscale": {
           "diverging": [
            [
             0,
             "#8e0152"
            ],
            [
             0.1,
             "#c51b7d"
            ],
            [
             0.2,
             "#de77ae"
            ],
            [
             0.3,
             "#f1b6da"
            ],
            [
             0.4,
             "#fde0ef"
            ],
            [
             0.5,
             "#f7f7f7"
            ],
            [
             0.6,
             "#e6f5d0"
            ],
            [
             0.7,
             "#b8e186"
            ],
            [
             0.8,
             "#7fbc41"
            ],
            [
             0.9,
             "#4d9221"
            ],
            [
             1,
             "#276419"
            ]
           ],
           "sequential": [
            [
             0,
             "#0d0887"
            ],
            [
             0.1111111111111111,
             "#46039f"
            ],
            [
             0.2222222222222222,
             "#7201a8"
            ],
            [
             0.3333333333333333,
             "#9c179e"
            ],
            [
             0.4444444444444444,
             "#bd3786"
            ],
            [
             0.5555555555555556,
             "#d8576b"
            ],
            [
             0.6666666666666666,
             "#ed7953"
            ],
            [
             0.7777777777777778,
             "#fb9f3a"
            ],
            [
             0.8888888888888888,
             "#fdca26"
            ],
            [
             1,
             "#f0f921"
            ]
           ],
           "sequentialminus": [
            [
             0,
             "#0d0887"
            ],
            [
             0.1111111111111111,
             "#46039f"
            ],
            [
             0.2222222222222222,
             "#7201a8"
            ],
            [
             0.3333333333333333,
             "#9c179e"
            ],
            [
             0.4444444444444444,
             "#bd3786"
            ],
            [
             0.5555555555555556,
             "#d8576b"
            ],
            [
             0.6666666666666666,
             "#ed7953"
            ],
            [
             0.7777777777777778,
             "#fb9f3a"
            ],
            [
             0.8888888888888888,
             "#fdca26"
            ],
            [
             1,
             "#f0f921"
            ]
           ]
          },
          "colorway": [
           "#636efa",
           "#EF553B",
           "#00cc96",
           "#ab63fa",
           "#FFA15A",
           "#19d3f3",
           "#FF6692",
           "#B6E880",
           "#FF97FF",
           "#FECB52"
          ],
          "font": {
           "color": "#2a3f5f"
          },
          "geo": {
           "bgcolor": "white",
           "lakecolor": "white",
           "landcolor": "#E5ECF6",
           "showlakes": true,
           "showland": true,
           "subunitcolor": "white"
          },
          "hoverlabel": {
           "align": "left"
          },
          "hovermode": "closest",
          "mapbox": {
           "style": "light"
          },
          "paper_bgcolor": "white",
          "plot_bgcolor": "#E5ECF6",
          "polar": {
           "angularaxis": {
            "gridcolor": "white",
            "linecolor": "white",
            "ticks": ""
           },
           "bgcolor": "#E5ECF6",
           "radialaxis": {
            "gridcolor": "white",
            "linecolor": "white",
            "ticks": ""
           }
          },
          "scene": {
           "xaxis": {
            "backgroundcolor": "#E5ECF6",
            "gridcolor": "white",
            "gridwidth": 2,
            "linecolor": "white",
            "showbackground": true,
            "ticks": "",
            "zerolinecolor": "white"
           },
           "yaxis": {
            "backgroundcolor": "#E5ECF6",
            "gridcolor": "white",
            "gridwidth": 2,
            "linecolor": "white",
            "showbackground": true,
            "ticks": "",
            "zerolinecolor": "white"
           },
           "zaxis": {
            "backgroundcolor": "#E5ECF6",
            "gridcolor": "white",
            "gridwidth": 2,
            "linecolor": "white",
            "showbackground": true,
            "ticks": "",
            "zerolinecolor": "white"
           }
          },
          "shapedefaults": {
           "line": {
            "color": "#2a3f5f"
           }
          },
          "ternary": {
           "aaxis": {
            "gridcolor": "white",
            "linecolor": "white",
            "ticks": ""
           },
           "baxis": {
            "gridcolor": "white",
            "linecolor": "white",
            "ticks": ""
           },
           "bgcolor": "#E5ECF6",
           "caxis": {
            "gridcolor": "white",
            "linecolor": "white",
            "ticks": ""
           }
          },
          "title": {
           "x": 0.05
          },
          "xaxis": {
           "automargin": true,
           "gridcolor": "white",
           "linecolor": "white",
           "ticks": "",
           "title": {
            "standoff": 15
           },
           "zerolinecolor": "white",
           "zerolinewidth": 2
          },
          "yaxis": {
           "automargin": true,
           "gridcolor": "white",
           "linecolor": "white",
           "ticks": "",
           "title": {
            "standoff": 15
           },
           "zerolinecolor": "white",
           "zerolinewidth": 2
          }
         }
        },
        "title": {
         "text": "HDI of Team-wise Attack Strength"
        },
        "width": 1000,
        "xaxis": {
         "tickangle": -90,
         "title": {
          "text": "Teams"
         }
        },
        "yaxis": {
         "title": {
          "text": "Posterior Attack Strength"
         }
        }
       }
      }
     },
     "metadata": {},
     "output_type": "display_data"
    }
   ],
   "source": [
    "'''\n",
    "_, ax = plt.subplots(figsize=(12, 6))\n",
    "\n",
    "ax.scatter(teams, trace.posterior[\"atts\"].median(dim=(\"chain\", \"draw\")), color=\"C0\", alpha=1, s=100)\n",
    "ax.vlines(\n",
    "    teams,\n",
    "    trace_hdi[\"atts\"].sel({\"hdi\": \"lower\"}),\n",
    "    trace_hdi[\"atts\"].sel({\"hdi\": \"higher\"}),\n",
    "    alpha=0.6,\n",
    "    lw=5,\n",
    "    color=\"C0\",\n",
    ")\n",
    "ax.set_xlabel(\"Teams\")\n",
    "ax.set_ylabel(\"Posterior Attack Strength\")\n",
    "ax.set_title(\"HDI of Team-wise Attack Strength\");\n",
    "ax.tick_params(axis='x', labelrotation=90)\n",
    "''' \n",
    "import plotly.graph_objects as go\n",
    "\n",
    "# Prepare data\n",
    "df_plot = pd.DataFrame({\n",
    "    \"Team\": teams,\n",
    "    \"Median\": trace.posterior[\"atts\"].median(dim=(\"chain\", \"draw\")).values,\n",
    "    \"Lower\": trace_hdi[\"atts\"].sel(hdi=\"lower\").values,\n",
    "    \"Upper\": trace_hdi[\"atts\"].sel(hdi=\"higher\").values\n",
    "})\n",
    "\n",
    "# Create figure\n",
    "fig = go.Figure()\n",
    "\n",
    "# Add HDI error bars as line segments\n",
    "fig.add_trace(go.Scatter(\n",
    "    x=df_plot[\"Team\"],\n",
    "    y=df_plot[\"Median\"],\n",
    "    mode='markers',\n",
    "    marker=dict(size=10, color='blue'),\n",
    "    error_y=dict(\n",
    "        type='data',\n",
    "        symmetric=False,\n",
    "        array=df_plot[\"Upper\"] - df_plot[\"Median\"],\n",
    "        arrayminus=df_plot[\"Median\"] - df_plot[\"Lower\"],\n",
    "        thickness=6,\n",
    "        color='blue',\n",
    "    ),\n",
    "    name=\"Attack Strength\"\n",
    "))\n",
    "\n",
    "# Update layout\n",
    "fig.update_layout(\n",
    "    title=\"HDI of Team-wise Attack Strength\",\n",
    "    xaxis_title=\"Teams\",\n",
    "    yaxis_title=\"Posterior Attack Strength\",\n",
    "    xaxis_tickangle=-90,\n",
    "    width=1000,\n",
    "    height=500\n",
    ")\n",
    "\n",
    "fig.show()\n"
   ]
  },
  {
   "cell_type": "code",
   "execution_count": null,
   "metadata": {},
   "outputs": [],
   "source": [
    "trace.pos"
   ]
  },
  {
   "cell_type": "code",
   "execution_count": 33,
   "metadata": {},
   "outputs": [
    {
     "data": {
      "application/vnd.plotly.v1+json": {
       "config": {
        "plotlyServerURL": "https://plot.ly"
       },
       "data": [
        {
         "error_y": {
          "array": {
           "bdata": "h/zgXAECwD9Yiz330Ma9P+Uo7CIKf7c/xDl/TCJ2tj8ExSKgiGS4P4usFCnHnb4/kmg0B3M+uD8IO7nn0Wi5P6gGrg/jkbc/ZnM6niVgyT/c+iV6HIbGP1oIv8GJqbY/lgF7rLMdyT/IyceXqCy+Pw/ypcRxDrg/qgydYrXDtz+uW8Tgymq1P2oONTAANbs/wrpnGAejuD/KXO/RJnrOP85fuLt+frg/KWsL5Jwptj+khiyOW7vHP6TSycQGbbk/uoUuaZUxwD8BoWS3jaS5PzZ5BC3Jz7Y/c21c3KXnuD/2RRRz+qy5P6Cf+zLKKrY/qfPcc+2uuD/vhrbsvbzJP6bQwsj8NsM/aHyQptrYwT/4cuo4WqTAP3pEX2Wgy7Y/7JZ7xAvCuj++lEgWtQq3Pw==",
           "dtype": "f8"
          },
          "arrayminus": {
           "bdata": "M2Rip3xsvj8yTVX8OuC+P47Y8pYC0rg/TqQIv1HEtT/MQtIxGW66P6/PF34/fb8/cdUgDIjxtz8O+bi/+XW6PwxQq7gYh7k/OExzq5+byj+a1674lXPFPwS48SEqlrY/TqLufjzByD8tUJq2rS3AP9K0DEGrG7o/JZx0djItuT8mcJaQFSq1P74Tnj6a57k/QNQpmM+puT8raCtDk2XOP8Rhq/HRTLc/iJEqlw7QuD8v4DpGNKPIP/jCbbqvlLk/9CMVcxsmwD91nQdL6TK5Px6KNufPAbc/nqiS8aQ4uj/XmQUYbFi7P+ZyIc2bCLg/MpkCwsMtuz9mUBo25TbIPxToht70YcI/ClO+SSiqwj+UzgxBs4HBP0wZbpkkJLY/TAwNXdMWuT/yvw0Fdra3Pw==",
           "dtype": "f8"
          },
          "color": "red",
          "symmetric": false,
          "thickness": 6,
          "type": "data"
         },
         "marker": {
          "color": "red",
          "size": 10
         },
         "mode": "markers",
         "name": "Defense Strength",
         "type": "scatter",
         "x": [
          "Aldosivi",
          "All Boys",
          "Argentinos",
          "Arsenal",
          "Atl Rafaela",
          "Atl Tucuman",
          "Banfield",
          "Belgrano",
          "Boca Juniors",
          "Central Cba (SdE)",
          "Chacarita",
          "Colon",
          "Crucero (M)",
          "Def y Justicia",
          "Estudiantes (LP)",
          "Gimnasia (LP)",
          "Godoy Cruz",
          "Huracan",
          "Independiente",
          "Instituto",
          "Lanus",
          "Newells",
          "Nueva Chicago",
          "Olimpo",
          "Patronato",
          "Quilmes",
          "Racing Club",
          "River Plate",
          "Rosario Central",
          "San Lorenzo",
          "San Martin (SJ)",
          "San Martin (T)",
          "Sarmiento (J)",
          "Talleres (C)",
          "Temperley",
          "Tigre",
          "Union",
          "Velez"
         ],
         "y": {
          "bdata": "oh8VnCiUvD/SKM4B2XqZv3CasAul+ai/GIK2wtWEsT8KKgl7/BXEP5Zkv+nmnXw/KvRWj0Lcgz/ZtEE4Wp7AvyJmurEDbcW/0GlHip/RoD+kwPJ5atvEP8NoYxaZBaA/nAB4jJf+yz/UeADYX7m8v6VEUqRf4su/gNW0hvFMVz+o02UwBzakP2NA0cxmPac/LmpWHqHAvb+nd7VsjgqhP1CjZtSSMsC/bBpJU2MdvL9AKsX0srapP5IfzGa/0bA/AIv9ffd+vj/HzwDPBFu9P4Y7IZ7EDLq/A97WYTCrx7/gX7bkyCCRv57TS0UcFb6/xdFzTFQosz+uzHo3h5y7P+Sp2+24p7o/AnFIQUQtub9OHOD1FvC0P7g03xYfTaU/nBV2BQhxoj8sKSwvw0DBvw==",
          "dtype": "f8"
         }
        }
       ],
       "layout": {
        "height": 500,
        "template": {
         "data": {
          "bar": [
           {
            "error_x": {
             "color": "#2a3f5f"
            },
            "error_y": {
             "color": "#2a3f5f"
            },
            "marker": {
             "line": {
              "color": "#E5ECF6",
              "width": 0.5
             },
             "pattern": {
              "fillmode": "overlay",
              "size": 10,
              "solidity": 0.2
             }
            },
            "type": "bar"
           }
          ],
          "barpolar": [
           {
            "marker": {
             "line": {
              "color": "#E5ECF6",
              "width": 0.5
             },
             "pattern": {
              "fillmode": "overlay",
              "size": 10,
              "solidity": 0.2
             }
            },
            "type": "barpolar"
           }
          ],
          "carpet": [
           {
            "aaxis": {
             "endlinecolor": "#2a3f5f",
             "gridcolor": "white",
             "linecolor": "white",
             "minorgridcolor": "white",
             "startlinecolor": "#2a3f5f"
            },
            "baxis": {
             "endlinecolor": "#2a3f5f",
             "gridcolor": "white",
             "linecolor": "white",
             "minorgridcolor": "white",
             "startlinecolor": "#2a3f5f"
            },
            "type": "carpet"
           }
          ],
          "choropleth": [
           {
            "colorbar": {
             "outlinewidth": 0,
             "ticks": ""
            },
            "type": "choropleth"
           }
          ],
          "contour": [
           {
            "colorbar": {
             "outlinewidth": 0,
             "ticks": ""
            },
            "colorscale": [
             [
              0,
              "#0d0887"
             ],
             [
              0.1111111111111111,
              "#46039f"
             ],
             [
              0.2222222222222222,
              "#7201a8"
             ],
             [
              0.3333333333333333,
              "#9c179e"
             ],
             [
              0.4444444444444444,
              "#bd3786"
             ],
             [
              0.5555555555555556,
              "#d8576b"
             ],
             [
              0.6666666666666666,
              "#ed7953"
             ],
             [
              0.7777777777777778,
              "#fb9f3a"
             ],
             [
              0.8888888888888888,
              "#fdca26"
             ],
             [
              1,
              "#f0f921"
             ]
            ],
            "type": "contour"
           }
          ],
          "contourcarpet": [
           {
            "colorbar": {
             "outlinewidth": 0,
             "ticks": ""
            },
            "type": "contourcarpet"
           }
          ],
          "heatmap": [
           {
            "colorbar": {
             "outlinewidth": 0,
             "ticks": ""
            },
            "colorscale": [
             [
              0,
              "#0d0887"
             ],
             [
              0.1111111111111111,
              "#46039f"
             ],
             [
              0.2222222222222222,
              "#7201a8"
             ],
             [
              0.3333333333333333,
              "#9c179e"
             ],
             [
              0.4444444444444444,
              "#bd3786"
             ],
             [
              0.5555555555555556,
              "#d8576b"
             ],
             [
              0.6666666666666666,
              "#ed7953"
             ],
             [
              0.7777777777777778,
              "#fb9f3a"
             ],
             [
              0.8888888888888888,
              "#fdca26"
             ],
             [
              1,
              "#f0f921"
             ]
            ],
            "type": "heatmap"
           }
          ],
          "histogram": [
           {
            "marker": {
             "pattern": {
              "fillmode": "overlay",
              "size": 10,
              "solidity": 0.2
             }
            },
            "type": "histogram"
           }
          ],
          "histogram2d": [
           {
            "colorbar": {
             "outlinewidth": 0,
             "ticks": ""
            },
            "colorscale": [
             [
              0,
              "#0d0887"
             ],
             [
              0.1111111111111111,
              "#46039f"
             ],
             [
              0.2222222222222222,
              "#7201a8"
             ],
             [
              0.3333333333333333,
              "#9c179e"
             ],
             [
              0.4444444444444444,
              "#bd3786"
             ],
             [
              0.5555555555555556,
              "#d8576b"
             ],
             [
              0.6666666666666666,
              "#ed7953"
             ],
             [
              0.7777777777777778,
              "#fb9f3a"
             ],
             [
              0.8888888888888888,
              "#fdca26"
             ],
             [
              1,
              "#f0f921"
             ]
            ],
            "type": "histogram2d"
           }
          ],
          "histogram2dcontour": [
           {
            "colorbar": {
             "outlinewidth": 0,
             "ticks": ""
            },
            "colorscale": [
             [
              0,
              "#0d0887"
             ],
             [
              0.1111111111111111,
              "#46039f"
             ],
             [
              0.2222222222222222,
              "#7201a8"
             ],
             [
              0.3333333333333333,
              "#9c179e"
             ],
             [
              0.4444444444444444,
              "#bd3786"
             ],
             [
              0.5555555555555556,
              "#d8576b"
             ],
             [
              0.6666666666666666,
              "#ed7953"
             ],
             [
              0.7777777777777778,
              "#fb9f3a"
             ],
             [
              0.8888888888888888,
              "#fdca26"
             ],
             [
              1,
              "#f0f921"
             ]
            ],
            "type": "histogram2dcontour"
           }
          ],
          "mesh3d": [
           {
            "colorbar": {
             "outlinewidth": 0,
             "ticks": ""
            },
            "type": "mesh3d"
           }
          ],
          "parcoords": [
           {
            "line": {
             "colorbar": {
              "outlinewidth": 0,
              "ticks": ""
             }
            },
            "type": "parcoords"
           }
          ],
          "pie": [
           {
            "automargin": true,
            "type": "pie"
           }
          ],
          "scatter": [
           {
            "fillpattern": {
             "fillmode": "overlay",
             "size": 10,
             "solidity": 0.2
            },
            "type": "scatter"
           }
          ],
          "scatter3d": [
           {
            "line": {
             "colorbar": {
              "outlinewidth": 0,
              "ticks": ""
             }
            },
            "marker": {
             "colorbar": {
              "outlinewidth": 0,
              "ticks": ""
             }
            },
            "type": "scatter3d"
           }
          ],
          "scattercarpet": [
           {
            "marker": {
             "colorbar": {
              "outlinewidth": 0,
              "ticks": ""
             }
            },
            "type": "scattercarpet"
           }
          ],
          "scattergeo": [
           {
            "marker": {
             "colorbar": {
              "outlinewidth": 0,
              "ticks": ""
             }
            },
            "type": "scattergeo"
           }
          ],
          "scattergl": [
           {
            "marker": {
             "colorbar": {
              "outlinewidth": 0,
              "ticks": ""
             }
            },
            "type": "scattergl"
           }
          ],
          "scattermap": [
           {
            "marker": {
             "colorbar": {
              "outlinewidth": 0,
              "ticks": ""
             }
            },
            "type": "scattermap"
           }
          ],
          "scattermapbox": [
           {
            "marker": {
             "colorbar": {
              "outlinewidth": 0,
              "ticks": ""
             }
            },
            "type": "scattermapbox"
           }
          ],
          "scatterpolar": [
           {
            "marker": {
             "colorbar": {
              "outlinewidth": 0,
              "ticks": ""
             }
            },
            "type": "scatterpolar"
           }
          ],
          "scatterpolargl": [
           {
            "marker": {
             "colorbar": {
              "outlinewidth": 0,
              "ticks": ""
             }
            },
            "type": "scatterpolargl"
           }
          ],
          "scatterternary": [
           {
            "marker": {
             "colorbar": {
              "outlinewidth": 0,
              "ticks": ""
             }
            },
            "type": "scatterternary"
           }
          ],
          "surface": [
           {
            "colorbar": {
             "outlinewidth": 0,
             "ticks": ""
            },
            "colorscale": [
             [
              0,
              "#0d0887"
             ],
             [
              0.1111111111111111,
              "#46039f"
             ],
             [
              0.2222222222222222,
              "#7201a8"
             ],
             [
              0.3333333333333333,
              "#9c179e"
             ],
             [
              0.4444444444444444,
              "#bd3786"
             ],
             [
              0.5555555555555556,
              "#d8576b"
             ],
             [
              0.6666666666666666,
              "#ed7953"
             ],
             [
              0.7777777777777778,
              "#fb9f3a"
             ],
             [
              0.8888888888888888,
              "#fdca26"
             ],
             [
              1,
              "#f0f921"
             ]
            ],
            "type": "surface"
           }
          ],
          "table": [
           {
            "cells": {
             "fill": {
              "color": "#EBF0F8"
             },
             "line": {
              "color": "white"
             }
            },
            "header": {
             "fill": {
              "color": "#C8D4E3"
             },
             "line": {
              "color": "white"
             }
            },
            "type": "table"
           }
          ]
         },
         "layout": {
          "annotationdefaults": {
           "arrowcolor": "#2a3f5f",
           "arrowhead": 0,
           "arrowwidth": 1
          },
          "autotypenumbers": "strict",
          "coloraxis": {
           "colorbar": {
            "outlinewidth": 0,
            "ticks": ""
           }
          },
          "colorscale": {
           "diverging": [
            [
             0,
             "#8e0152"
            ],
            [
             0.1,
             "#c51b7d"
            ],
            [
             0.2,
             "#de77ae"
            ],
            [
             0.3,
             "#f1b6da"
            ],
            [
             0.4,
             "#fde0ef"
            ],
            [
             0.5,
             "#f7f7f7"
            ],
            [
             0.6,
             "#e6f5d0"
            ],
            [
             0.7,
             "#b8e186"
            ],
            [
             0.8,
             "#7fbc41"
            ],
            [
             0.9,
             "#4d9221"
            ],
            [
             1,
             "#276419"
            ]
           ],
           "sequential": [
            [
             0,
             "#0d0887"
            ],
            [
             0.1111111111111111,
             "#46039f"
            ],
            [
             0.2222222222222222,
             "#7201a8"
            ],
            [
             0.3333333333333333,
             "#9c179e"
            ],
            [
             0.4444444444444444,
             "#bd3786"
            ],
            [
             0.5555555555555556,
             "#d8576b"
            ],
            [
             0.6666666666666666,
             "#ed7953"
            ],
            [
             0.7777777777777778,
             "#fb9f3a"
            ],
            [
             0.8888888888888888,
             "#fdca26"
            ],
            [
             1,
             "#f0f921"
            ]
           ],
           "sequentialminus": [
            [
             0,
             "#0d0887"
            ],
            [
             0.1111111111111111,
             "#46039f"
            ],
            [
             0.2222222222222222,
             "#7201a8"
            ],
            [
             0.3333333333333333,
             "#9c179e"
            ],
            [
             0.4444444444444444,
             "#bd3786"
            ],
            [
             0.5555555555555556,
             "#d8576b"
            ],
            [
             0.6666666666666666,
             "#ed7953"
            ],
            [
             0.7777777777777778,
             "#fb9f3a"
            ],
            [
             0.8888888888888888,
             "#fdca26"
            ],
            [
             1,
             "#f0f921"
            ]
           ]
          },
          "colorway": [
           "#636efa",
           "#EF553B",
           "#00cc96",
           "#ab63fa",
           "#FFA15A",
           "#19d3f3",
           "#FF6692",
           "#B6E880",
           "#FF97FF",
           "#FECB52"
          ],
          "font": {
           "color": "#2a3f5f"
          },
          "geo": {
           "bgcolor": "white",
           "lakecolor": "white",
           "landcolor": "#E5ECF6",
           "showlakes": true,
           "showland": true,
           "subunitcolor": "white"
          },
          "hoverlabel": {
           "align": "left"
          },
          "hovermode": "closest",
          "mapbox": {
           "style": "light"
          },
          "paper_bgcolor": "white",
          "plot_bgcolor": "#E5ECF6",
          "polar": {
           "angularaxis": {
            "gridcolor": "white",
            "linecolor": "white",
            "ticks": ""
           },
           "bgcolor": "#E5ECF6",
           "radialaxis": {
            "gridcolor": "white",
            "linecolor": "white",
            "ticks": ""
           }
          },
          "scene": {
           "xaxis": {
            "backgroundcolor": "#E5ECF6",
            "gridcolor": "white",
            "gridwidth": 2,
            "linecolor": "white",
            "showbackground": true,
            "ticks": "",
            "zerolinecolor": "white"
           },
           "yaxis": {
            "backgroundcolor": "#E5ECF6",
            "gridcolor": "white",
            "gridwidth": 2,
            "linecolor": "white",
            "showbackground": true,
            "ticks": "",
            "zerolinecolor": "white"
           },
           "zaxis": {
            "backgroundcolor": "#E5ECF6",
            "gridcolor": "white",
            "gridwidth": 2,
            "linecolor": "white",
            "showbackground": true,
            "ticks": "",
            "zerolinecolor": "white"
           }
          },
          "shapedefaults": {
           "line": {
            "color": "#2a3f5f"
           }
          },
          "ternary": {
           "aaxis": {
            "gridcolor": "white",
            "linecolor": "white",
            "ticks": ""
           },
           "baxis": {
            "gridcolor": "white",
            "linecolor": "white",
            "ticks": ""
           },
           "bgcolor": "#E5ECF6",
           "caxis": {
            "gridcolor": "white",
            "linecolor": "white",
            "ticks": ""
           }
          },
          "title": {
           "x": 0.05
          },
          "xaxis": {
           "automargin": true,
           "gridcolor": "white",
           "linecolor": "white",
           "ticks": "",
           "title": {
            "standoff": 15
           },
           "zerolinecolor": "white",
           "zerolinewidth": 2
          },
          "yaxis": {
           "automargin": true,
           "gridcolor": "white",
           "linecolor": "white",
           "ticks": "",
           "title": {
            "standoff": 15
           },
           "zerolinecolor": "white",
           "zerolinewidth": 2
          }
         }
        },
        "title": {
         "text": "HDI of Team-wise Defense Strength"
        },
        "width": 1000,
        "xaxis": {
         "tickangle": -90,
         "title": {
          "text": "Teams"
         }
        },
        "yaxis": {
         "title": {
          "text": "Posterior Defense Strength"
         }
        }
       }
      }
     },
     "metadata": {},
     "output_type": "display_data"
    }
   ],
   "source": [
    "import plotly.graph_objects as go\n",
    "\n",
    "# Prepare data\n",
    "df_plot = pd.DataFrame({\n",
    "    \"Team\": teams,\n",
    "    \"Median\": trace.posterior[\"defs\"].median(dim=(\"chain\", \"draw\")).values,\n",
    "    \"Lower\": trace_hdi[\"defs\"].sel(hdi=\"lower\").values,\n",
    "    \"Upper\": trace_hdi[\"defs\"].sel(hdi=\"higher\").values\n",
    "})\n",
    "\n",
    "# Create figure\n",
    "fig = go.Figure()\n",
    "\n",
    "# Add HDI error bars as line segments\n",
    "fig.add_trace(go.Scatter(\n",
    "    x=df_plot[\"Team\"],\n",
    "    y=df_plot[\"Median\"],\n",
    "    mode='markers',\n",
    "    marker=dict(size=10, color='red'),\n",
    "    error_y=dict(\n",
    "        type='data',\n",
    "        symmetric=False,\n",
    "        array=df_plot[\"Upper\"] - df_plot[\"Median\"],\n",
    "        arrayminus=df_plot[\"Median\"] - df_plot[\"Lower\"],\n",
    "        thickness=6,\n",
    "        color='red',\n",
    "    ),\n",
    "    name=\"Defense Strength\"\n",
    "))\n",
    "\n",
    "# Update layout\n",
    "fig.update_layout(\n",
    "    title=\"HDI of Team-wise Defense Strength\",\n",
    "    xaxis_title=\"Teams\",\n",
    "    yaxis_title=\"Posterior Defense Strength\",\n",
    "    xaxis_tickangle=-90,\n",
    "    width=1000,\n",
    "    height=500\n",
    ")\n",
    "\n",
    "fig.show()\n"
   ]
  },
  {
   "cell_type": "markdown",
   "metadata": {},
   "source": [
    "scatter ataque vs defensa"
   ]
  },
  {
   "cell_type": "code",
   "execution_count": 34,
   "metadata": {},
   "outputs": [
    {
     "data": {
      "text/plain": [
       "'\\n# Sample data\\nx = df_plot_d.Median\\ny = df_plot_a.Median\\n\\n# Asymmetrical error values for x-axis\\nxerr_neg = df_plot_d.Median-df_plot_d.Lower\\nxerr_pos = df_plot_d.Upper-df_plot_d.Median\\nxerr = np.array([xerr_neg, xerr_pos])\\n\\n# Asymmetrical error values for y-axis\\nyerr_neg = df_plot_a.Median-df_plot_a.Lower\\nyerr_pos = df_plot_a.Upper-df_plot_a.Median\\nyerr = np.array([yerr_neg, yerr_pos])\\n\\n# Create the errorbar plot\\nplt.errorbar(x, y, xerr=xerr, yerr=yerr, fmt=\\'o\\', capsize=5, label=df_plot_a.Team, color=\\'blue\\')\\n\\n# Add labels and title\\nplt.xlabel(\"X-axis\")\\nplt.ylabel(\"Y-axis\")\\nplt.legend()\\nplt.title(\"Asymmetrical Error Bars\")\\n'"
      ]
     },
     "execution_count": 34,
     "metadata": {},
     "output_type": "execute_result"
    }
   ],
   "source": [
    "\n",
    "df_plot_a = pd.DataFrame({\n",
    "    \"Team\": teams,\n",
    "    \"Median\": trace.posterior[\"atts\"].median(dim=(\"chain\", \"draw\")).values,\n",
    "    \"Lower\": trace_hdi[\"atts\"].sel(hdi=\"lower\").values,\n",
    "    \"Upper\": trace_hdi[\"atts\"].sel(hdi=\"higher\").values\n",
    "})\n",
    "\n",
    "df_plot_d = pd.DataFrame({\n",
    "    \"Team\": teams,\n",
    "    \"Median\": trace.posterior[\"defs\"].median(dim=(\"chain\", \"draw\")).values,\n",
    "    \"Lower\": trace_hdi[\"defs\"].sel(hdi=\"lower\").values,\n",
    "    \"Upper\": trace_hdi[\"defs\"].sel(hdi=\"higher\").values\n",
    "})\n",
    "\n",
    "'''\n",
    "# Sample data\n",
    "x = df_plot_d.Median\n",
    "y = df_plot_a.Median\n",
    "\n",
    "# Asymmetrical error values for x-axis\n",
    "xerr_neg = df_plot_d.Median-df_plot_d.Lower\n",
    "xerr_pos = df_plot_d.Upper-df_plot_d.Median\n",
    "xerr = np.array([xerr_neg, xerr_pos])\n",
    "\n",
    "# Asymmetrical error values for y-axis\n",
    "yerr_neg = df_plot_a.Median-df_plot_a.Lower\n",
    "yerr_pos = df_plot_a.Upper-df_plot_a.Median\n",
    "yerr = np.array([yerr_neg, yerr_pos])\n",
    "\n",
    "# Create the errorbar plot\n",
    "plt.errorbar(x, y, xerr=xerr, yerr=yerr, fmt='o', capsize=5, label=df_plot_a.Team, color='blue')\n",
    "\n",
    "# Add labels and title\n",
    "plt.xlabel(\"X-axis\")\n",
    "plt.ylabel(\"Y-axis\")\n",
    "plt.legend()\n",
    "plt.title(\"Asymmetrical Error Bars\")\n",
    "'''"
   ]
  },
  {
   "cell_type": "code",
   "execution_count": 35,
   "metadata": {},
   "outputs": [
    {
     "data": {
      "application/vnd.plotly.v1+json": {
       "config": {
        "plotlyServerURL": "https://plot.ly"
       },
       "data": [
        {
         "error_x": {
          "array": {
           "bdata": "h/zgXAECwD9Yiz330Ma9P+Uo7CIKf7c/xDl/TCJ2tj8ExSKgiGS4P4usFCnHnb4/kmg0B3M+uD8IO7nn0Wi5P6gGrg/jkbc/ZnM6niVgyT/c+iV6HIbGP1oIv8GJqbY/lgF7rLMdyT/IyceXqCy+Pw/ypcRxDrg/qgydYrXDtz+uW8Tgymq1P2oONTAANbs/wrpnGAejuD/KXO/RJnrOP85fuLt+frg/KWsL5Jwptj+khiyOW7vHP6TSycQGbbk/uoUuaZUxwD8BoWS3jaS5PzZ5BC3Jz7Y/c21c3KXnuD/2RRRz+qy5P6Cf+zLKKrY/qfPcc+2uuD/vhrbsvbzJP6bQwsj8NsM/aHyQptrYwT/4cuo4WqTAP3pEX2Wgy7Y/7JZ7xAvCuj++lEgWtQq3Pw==",
           "dtype": "f8"
          },
          "arrayminus": {
           "bdata": "M2Rip3xsvj8yTVX8OuC+P47Y8pYC0rg/TqQIv1HEtT/MQtIxGW66P6/PF34/fb8/cdUgDIjxtz8O+bi/+XW6PwxQq7gYh7k/OExzq5+byj+a1674lXPFPwS48SEqlrY/TqLufjzByD8tUJq2rS3AP9K0DEGrG7o/JZx0djItuT8mcJaQFSq1P74Tnj6a57k/QNQpmM+puT8raCtDk2XOP8Rhq/HRTLc/iJEqlw7QuD8v4DpGNKPIP/jCbbqvlLk/9CMVcxsmwD91nQdL6TK5Px6KNufPAbc/nqiS8aQ4uj/XmQUYbFi7P+ZyIc2bCLg/MpkCwsMtuz9mUBo25TbIPxToht70YcI/ClO+SSiqwj+UzgxBs4HBP0wZbpkkJLY/TAwNXdMWuT/yvw0Fdra3Pw==",
           "dtype": "f8"
          },
          "color": "blue",
          "symmetric": false,
          "thickness": 2,
          "type": "data",
          "width": 5
         },
         "error_y": {
          "array": {
           "bdata": "m12daoRAwD8bWs9ksn6+P4S7QHiEN7k/KOX/6RZCtz/CXEz7+VG6P/me+wsLhb8/7I2sIdMYuD+Q4ZxtRx64P1CiNqZKHrU/7jfeZCZDxz/CrSi9uRbFPwP7nnWSSrc/oZlA1Gazxj9EVUOgJhq9P5Yf7jukP7Y/WqGMHZi4uD9DqHV+lAa1P65vQVb6dbo/dEuvrR+9tj97LXPEwavLP+XLf1q9ULU/brbNU28wtz8yrcUUCzrGP9q/qWVfJLo/jjozC5Z+wD/pRrfSWLa7P86x/RR2bbU/bISKLraBtj80p0GY3Ri6P9R4124oQLY/uzFwW5X8uj88VoRTq9TFP4Begsl08MI/bKuzNsm9wD9sMFMvjZLCP2L9EYPmtbY/9Iuc+Yq0uj++9H5EsjS2Pw==",
           "dtype": "f8"
          },
          "arrayminus": {
           "bdata": "EMUrAr2lwT/svsqIOYy/Py7IhrRm/rg/TiWF3sWNtj/KJeWm9wi7P9V+85tZ+L4/VEU13d6ZuD9WRB3ERLO4P6YHxlRiCrU/eHtE/KP+xz/ytSO55gHFP/YIgwA+Lbc/1Z28FaGxxz8WjiQ7R3+8P4nMsT6tkbU/PMAL1AtluD+f8RPXKmG2PwDlAEtw+bw/Nsc1apLPtj/oVbTBpN7JP2Snkkeuc7Y/uuc47ygvtT9gy9JOKdPGP3ZplHui6bs/+DnBFB+lwD+MnsMiX6W8P400Jm6UarU/49IFKLmstz+P/wlSKmC5P/XpAOOTPLY/R+2M4TQbuz8luJiLxb/HPzSW7cBqucM/QUu1eEfcwD/9PJZAYGLCP2w1UmXd4rU/nhS0smyuuT88tNl/v+e1Pw==",
           "dtype": "f8"
          },
          "color": "blue",
          "symmetric": false,
          "thickness": 2,
          "type": "data",
          "width": 5
         },
         "hovertemplate": "Team: %{text}<br>X: %{x:.2f}<br>Y: %{y:.2f}<extra></extra>",
         "marker": {
          "color": "blue",
          "size": 10
         },
         "mode": "markers+text",
         "text": [
          "Aldosivi",
          "All Boys",
          "Argentinos",
          "Arsenal",
          "Atl Rafaela",
          "Atl Tucuman",
          "Banfield",
          "Belgrano",
          "Boca Juniors",
          "Central Cba (SdE)",
          "Chacarita",
          "Colon",
          "Crucero (M)",
          "Def y Justicia",
          "Estudiantes (LP)",
          "Gimnasia (LP)",
          "Godoy Cruz",
          "Huracan",
          "Independiente",
          "Instituto",
          "Lanus",
          "Newells",
          "Nueva Chicago",
          "Olimpo",
          "Patronato",
          "Quilmes",
          "Racing Club",
          "River Plate",
          "Rosario Central",
          "San Lorenzo",
          "San Martin (SJ)",
          "San Martin (T)",
          "Sarmiento (J)",
          "Talleres (C)",
          "Temperley",
          "Tigre",
          "Union",
          "Velez"
         ],
         "textposition": "top center",
         "type": "scatter",
         "x": {
          "bdata": "oh8VnCiUvD/SKM4B2XqZv3CasAul+ai/GIK2wtWEsT8KKgl7/BXEP5Zkv+nmnXw/KvRWj0Lcgz/ZtEE4Wp7AvyJmurEDbcW/0GlHip/RoD+kwPJ5atvEP8NoYxaZBaA/nAB4jJf+yz/UeADYX7m8v6VEUqRf4su/gNW0hvFMVz+o02UwBzakP2NA0cxmPac/LmpWHqHAvb+nd7VsjgqhP1CjZtSSMsC/bBpJU2MdvL9AKsX0srapP5IfzGa/0bA/AIv9ffd+vj/HzwDPBFu9P4Y7IZ7EDLq/A97WYTCrx7/gX7bkyCCRv57TS0UcFb6/xdFzTFQosz+uzHo3h5y7P+Sp2+24p7o/AnFIQUQtub9OHOD1FvC0P7g03xYfTaU/nBV2BQhxoj8sKSwvw0DBvw==",
          "dtype": "f8"
         },
         "y": {
          "bdata": "CGvviS9cvL+qaQWrjQ24v4gdRETqZ7y/6A/2O89XmT+KpzEBaE6SP2Qew44IGJw/RXt/4+9pdb9mX4egzTexv4BoaEG+xsw/EwUcooNnmb+ymUlos/Cfv5qxMUclLLO/2u0yyfSyur8tGujH4/GmPzUieVdtR6U/iCgiHBoJqL81slI1UEK4P+aW+CYTQrK/aCKkrp1HtD++6VsCjyB6P0Xm2zsKP7g/UB9YRRRrpD8WzJxW2lugv3YkqoMjvr+/RHilIy8tob++OHx9D6u0v66uedBGd8Q/5tBvHJvdxz++P+gpPkOMP8mLCcI50Ks/58Z+HGXBdL+G7YuPgjaBv8jhvybBW7+/k8WEZgxarD89kNzR1ULEv1KvWpm6aLE/13qpMaxZpL+0MYUNAy3APw==",
          "dtype": "f8"
         }
        }
       ],
       "layout": {
        "height": 600,
        "template": {
         "data": {
          "bar": [
           {
            "error_x": {
             "color": "#2a3f5f"
            },
            "error_y": {
             "color": "#2a3f5f"
            },
            "marker": {
             "line": {
              "color": "#E5ECF6",
              "width": 0.5
             },
             "pattern": {
              "fillmode": "overlay",
              "size": 10,
              "solidity": 0.2
             }
            },
            "type": "bar"
           }
          ],
          "barpolar": [
           {
            "marker": {
             "line": {
              "color": "#E5ECF6",
              "width": 0.5
             },
             "pattern": {
              "fillmode": "overlay",
              "size": 10,
              "solidity": 0.2
             }
            },
            "type": "barpolar"
           }
          ],
          "carpet": [
           {
            "aaxis": {
             "endlinecolor": "#2a3f5f",
             "gridcolor": "white",
             "linecolor": "white",
             "minorgridcolor": "white",
             "startlinecolor": "#2a3f5f"
            },
            "baxis": {
             "endlinecolor": "#2a3f5f",
             "gridcolor": "white",
             "linecolor": "white",
             "minorgridcolor": "white",
             "startlinecolor": "#2a3f5f"
            },
            "type": "carpet"
           }
          ],
          "choropleth": [
           {
            "colorbar": {
             "outlinewidth": 0,
             "ticks": ""
            },
            "type": "choropleth"
           }
          ],
          "contour": [
           {
            "colorbar": {
             "outlinewidth": 0,
             "ticks": ""
            },
            "colorscale": [
             [
              0,
              "#0d0887"
             ],
             [
              0.1111111111111111,
              "#46039f"
             ],
             [
              0.2222222222222222,
              "#7201a8"
             ],
             [
              0.3333333333333333,
              "#9c179e"
             ],
             [
              0.4444444444444444,
              "#bd3786"
             ],
             [
              0.5555555555555556,
              "#d8576b"
             ],
             [
              0.6666666666666666,
              "#ed7953"
             ],
             [
              0.7777777777777778,
              "#fb9f3a"
             ],
             [
              0.8888888888888888,
              "#fdca26"
             ],
             [
              1,
              "#f0f921"
             ]
            ],
            "type": "contour"
           }
          ],
          "contourcarpet": [
           {
            "colorbar": {
             "outlinewidth": 0,
             "ticks": ""
            },
            "type": "contourcarpet"
           }
          ],
          "heatmap": [
           {
            "colorbar": {
             "outlinewidth": 0,
             "ticks": ""
            },
            "colorscale": [
             [
              0,
              "#0d0887"
             ],
             [
              0.1111111111111111,
              "#46039f"
             ],
             [
              0.2222222222222222,
              "#7201a8"
             ],
             [
              0.3333333333333333,
              "#9c179e"
             ],
             [
              0.4444444444444444,
              "#bd3786"
             ],
             [
              0.5555555555555556,
              "#d8576b"
             ],
             [
              0.6666666666666666,
              "#ed7953"
             ],
             [
              0.7777777777777778,
              "#fb9f3a"
             ],
             [
              0.8888888888888888,
              "#fdca26"
             ],
             [
              1,
              "#f0f921"
             ]
            ],
            "type": "heatmap"
           }
          ],
          "histogram": [
           {
            "marker": {
             "pattern": {
              "fillmode": "overlay",
              "size": 10,
              "solidity": 0.2
             }
            },
            "type": "histogram"
           }
          ],
          "histogram2d": [
           {
            "colorbar": {
             "outlinewidth": 0,
             "ticks": ""
            },
            "colorscale": [
             [
              0,
              "#0d0887"
             ],
             [
              0.1111111111111111,
              "#46039f"
             ],
             [
              0.2222222222222222,
              "#7201a8"
             ],
             [
              0.3333333333333333,
              "#9c179e"
             ],
             [
              0.4444444444444444,
              "#bd3786"
             ],
             [
              0.5555555555555556,
              "#d8576b"
             ],
             [
              0.6666666666666666,
              "#ed7953"
             ],
             [
              0.7777777777777778,
              "#fb9f3a"
             ],
             [
              0.8888888888888888,
              "#fdca26"
             ],
             [
              1,
              "#f0f921"
             ]
            ],
            "type": "histogram2d"
           }
          ],
          "histogram2dcontour": [
           {
            "colorbar": {
             "outlinewidth": 0,
             "ticks": ""
            },
            "colorscale": [
             [
              0,
              "#0d0887"
             ],
             [
              0.1111111111111111,
              "#46039f"
             ],
             [
              0.2222222222222222,
              "#7201a8"
             ],
             [
              0.3333333333333333,
              "#9c179e"
             ],
             [
              0.4444444444444444,
              "#bd3786"
             ],
             [
              0.5555555555555556,
              "#d8576b"
             ],
             [
              0.6666666666666666,
              "#ed7953"
             ],
             [
              0.7777777777777778,
              "#fb9f3a"
             ],
             [
              0.8888888888888888,
              "#fdca26"
             ],
             [
              1,
              "#f0f921"
             ]
            ],
            "type": "histogram2dcontour"
           }
          ],
          "mesh3d": [
           {
            "colorbar": {
             "outlinewidth": 0,
             "ticks": ""
            },
            "type": "mesh3d"
           }
          ],
          "parcoords": [
           {
            "line": {
             "colorbar": {
              "outlinewidth": 0,
              "ticks": ""
             }
            },
            "type": "parcoords"
           }
          ],
          "pie": [
           {
            "automargin": true,
            "type": "pie"
           }
          ],
          "scatter": [
           {
            "fillpattern": {
             "fillmode": "overlay",
             "size": 10,
             "solidity": 0.2
            },
            "type": "scatter"
           }
          ],
          "scatter3d": [
           {
            "line": {
             "colorbar": {
              "outlinewidth": 0,
              "ticks": ""
             }
            },
            "marker": {
             "colorbar": {
              "outlinewidth": 0,
              "ticks": ""
             }
            },
            "type": "scatter3d"
           }
          ],
          "scattercarpet": [
           {
            "marker": {
             "colorbar": {
              "outlinewidth": 0,
              "ticks": ""
             }
            },
            "type": "scattercarpet"
           }
          ],
          "scattergeo": [
           {
            "marker": {
             "colorbar": {
              "outlinewidth": 0,
              "ticks": ""
             }
            },
            "type": "scattergeo"
           }
          ],
          "scattergl": [
           {
            "marker": {
             "colorbar": {
              "outlinewidth": 0,
              "ticks": ""
             }
            },
            "type": "scattergl"
           }
          ],
          "scattermap": [
           {
            "marker": {
             "colorbar": {
              "outlinewidth": 0,
              "ticks": ""
             }
            },
            "type": "scattermap"
           }
          ],
          "scattermapbox": [
           {
            "marker": {
             "colorbar": {
              "outlinewidth": 0,
              "ticks": ""
             }
            },
            "type": "scattermapbox"
           }
          ],
          "scatterpolar": [
           {
            "marker": {
             "colorbar": {
              "outlinewidth": 0,
              "ticks": ""
             }
            },
            "type": "scatterpolar"
           }
          ],
          "scatterpolargl": [
           {
            "marker": {
             "colorbar": {
              "outlinewidth": 0,
              "ticks": ""
             }
            },
            "type": "scatterpolargl"
           }
          ],
          "scatterternary": [
           {
            "marker": {
             "colorbar": {
              "outlinewidth": 0,
              "ticks": ""
             }
            },
            "type": "scatterternary"
           }
          ],
          "surface": [
           {
            "colorbar": {
             "outlinewidth": 0,
             "ticks": ""
            },
            "colorscale": [
             [
              0,
              "#0d0887"
             ],
             [
              0.1111111111111111,
              "#46039f"
             ],
             [
              0.2222222222222222,
              "#7201a8"
             ],
             [
              0.3333333333333333,
              "#9c179e"
             ],
             [
              0.4444444444444444,
              "#bd3786"
             ],
             [
              0.5555555555555556,
              "#d8576b"
             ],
             [
              0.6666666666666666,
              "#ed7953"
             ],
             [
              0.7777777777777778,
              "#fb9f3a"
             ],
             [
              0.8888888888888888,
              "#fdca26"
             ],
             [
              1,
              "#f0f921"
             ]
            ],
            "type": "surface"
           }
          ],
          "table": [
           {
            "cells": {
             "fill": {
              "color": "#EBF0F8"
             },
             "line": {
              "color": "white"
             }
            },
            "header": {
             "fill": {
              "color": "#C8D4E3"
             },
             "line": {
              "color": "white"
             }
            },
            "type": "table"
           }
          ]
         },
         "layout": {
          "annotationdefaults": {
           "arrowcolor": "#2a3f5f",
           "arrowhead": 0,
           "arrowwidth": 1
          },
          "autotypenumbers": "strict",
          "coloraxis": {
           "colorbar": {
            "outlinewidth": 0,
            "ticks": ""
           }
          },
          "colorscale": {
           "diverging": [
            [
             0,
             "#8e0152"
            ],
            [
             0.1,
             "#c51b7d"
            ],
            [
             0.2,
             "#de77ae"
            ],
            [
             0.3,
             "#f1b6da"
            ],
            [
             0.4,
             "#fde0ef"
            ],
            [
             0.5,
             "#f7f7f7"
            ],
            [
             0.6,
             "#e6f5d0"
            ],
            [
             0.7,
             "#b8e186"
            ],
            [
             0.8,
             "#7fbc41"
            ],
            [
             0.9,
             "#4d9221"
            ],
            [
             1,
             "#276419"
            ]
           ],
           "sequential": [
            [
             0,
             "#0d0887"
            ],
            [
             0.1111111111111111,
             "#46039f"
            ],
            [
             0.2222222222222222,
             "#7201a8"
            ],
            [
             0.3333333333333333,
             "#9c179e"
            ],
            [
             0.4444444444444444,
             "#bd3786"
            ],
            [
             0.5555555555555556,
             "#d8576b"
            ],
            [
             0.6666666666666666,
             "#ed7953"
            ],
            [
             0.7777777777777778,
             "#fb9f3a"
            ],
            [
             0.8888888888888888,
             "#fdca26"
            ],
            [
             1,
             "#f0f921"
            ]
           ],
           "sequentialminus": [
            [
             0,
             "#0d0887"
            ],
            [
             0.1111111111111111,
             "#46039f"
            ],
            [
             0.2222222222222222,
             "#7201a8"
            ],
            [
             0.3333333333333333,
             "#9c179e"
            ],
            [
             0.4444444444444444,
             "#bd3786"
            ],
            [
             0.5555555555555556,
             "#d8576b"
            ],
            [
             0.6666666666666666,
             "#ed7953"
            ],
            [
             0.7777777777777778,
             "#fb9f3a"
            ],
            [
             0.8888888888888888,
             "#fdca26"
            ],
            [
             1,
             "#f0f921"
            ]
           ]
          },
          "colorway": [
           "#636efa",
           "#EF553B",
           "#00cc96",
           "#ab63fa",
           "#FFA15A",
           "#19d3f3",
           "#FF6692",
           "#B6E880",
           "#FF97FF",
           "#FECB52"
          ],
          "font": {
           "color": "#2a3f5f"
          },
          "geo": {
           "bgcolor": "white",
           "lakecolor": "white",
           "landcolor": "#E5ECF6",
           "showlakes": true,
           "showland": true,
           "subunitcolor": "white"
          },
          "hoverlabel": {
           "align": "left"
          },
          "hovermode": "closest",
          "mapbox": {
           "style": "light"
          },
          "paper_bgcolor": "white",
          "plot_bgcolor": "#E5ECF6",
          "polar": {
           "angularaxis": {
            "gridcolor": "white",
            "linecolor": "white",
            "ticks": ""
           },
           "bgcolor": "#E5ECF6",
           "radialaxis": {
            "gridcolor": "white",
            "linecolor": "white",
            "ticks": ""
           }
          },
          "scene": {
           "xaxis": {
            "backgroundcolor": "#E5ECF6",
            "gridcolor": "white",
            "gridwidth": 2,
            "linecolor": "white",
            "showbackground": true,
            "ticks": "",
            "zerolinecolor": "white"
           },
           "yaxis": {
            "backgroundcolor": "#E5ECF6",
            "gridcolor": "white",
            "gridwidth": 2,
            "linecolor": "white",
            "showbackground": true,
            "ticks": "",
            "zerolinecolor": "white"
           },
           "zaxis": {
            "backgroundcolor": "#E5ECF6",
            "gridcolor": "white",
            "gridwidth": 2,
            "linecolor": "white",
            "showbackground": true,
            "ticks": "",
            "zerolinecolor": "white"
           }
          },
          "shapedefaults": {
           "line": {
            "color": "#2a3f5f"
           }
          },
          "ternary": {
           "aaxis": {
            "gridcolor": "white",
            "linecolor": "white",
            "ticks": ""
           },
           "baxis": {
            "gridcolor": "white",
            "linecolor": "white",
            "ticks": ""
           },
           "bgcolor": "#E5ECF6",
           "caxis": {
            "gridcolor": "white",
            "linecolor": "white",
            "ticks": ""
           }
          },
          "title": {
           "x": 0.05
          },
          "xaxis": {
           "automargin": true,
           "gridcolor": "white",
           "linecolor": "white",
           "ticks": "",
           "title": {
            "standoff": 15
           },
           "zerolinecolor": "white",
           "zerolinewidth": 2
          },
          "yaxis": {
           "automargin": true,
           "gridcolor": "white",
           "linecolor": "white",
           "ticks": "",
           "title": {
            "standoff": 15
           },
           "zerolinecolor": "white",
           "zerolinewidth": 2
          }
         }
        },
        "title": {
         "text": "Estadisticas equipos Liga Argentina 2010-2020"
        },
        "width": 800,
        "xaxis": {
         "title": {
          "text": "Defense Strength"
         }
        },
        "yaxis": {
         "title": {
          "text": "Attack Strength"
         }
        }
       }
      }
     },
     "metadata": {},
     "output_type": "display_data"
    }
   ],
   "source": [
    "import plotly.graph_objects as go\n",
    "import pandas as pd\n",
    "import numpy as np\n",
    "\n",
    "# Prepare data (from your existing DataFrames)\n",
    "x = df_plot_d[\"Median\"]\n",
    "y = df_plot_a[\"Median\"]\n",
    "\n",
    "xerr_pos = df_plot_d[\"Upper\"] - df_plot_d[\"Median\"]\n",
    "xerr_neg = df_plot_d[\"Median\"] - df_plot_d[\"Lower\"]\n",
    "\n",
    "yerr_pos = df_plot_a[\"Upper\"] - df_plot_a[\"Median\"]\n",
    "yerr_neg = df_plot_a[\"Median\"] - df_plot_a[\"Lower\"]\n",
    "\n",
    "# Create scatter plot with asymmetric error bars\n",
    "fig = go.Figure()\n",
    "\n",
    "fig.add_trace(go.Scatter(\n",
    "    x=x,\n",
    "    y=y,\n",
    "    mode='markers+text',\n",
    "    text=df_plot_a[\"Team\"],\n",
    "    textposition=\"top center\",\n",
    "    marker=dict(size=10, color='blue'),\n",
    "    error_x=dict(\n",
    "        type='data',\n",
    "        symmetric=False,\n",
    "        array=xerr_pos,\n",
    "        arrayminus=xerr_neg,\n",
    "        thickness=2,\n",
    "        width=5,\n",
    "        color='blue',\n",
    "    ),\n",
    "    error_y=dict(\n",
    "        type='data',\n",
    "        symmetric=False,\n",
    "        array=yerr_pos,\n",
    "        arrayminus=yerr_neg,\n",
    "        thickness=2,\n",
    "        width=5,\n",
    "        color='blue',\n",
    "    ),\n",
    "    hovertemplate=\"Team: %{text}<br>X: %{x:.2f}<br>Y: %{y:.2f}<extra></extra>\"\n",
    "))\n",
    "\n",
    "# Update layout\n",
    "fig.update_layout(\n",
    "    title=\"Estadisticas equipos Liga Argentina 2010-2020\",\n",
    "    xaxis_title=\"Defense Strength\",\n",
    "    yaxis_title=\"Attack Strength\",\n",
    "    width=800,\n",
    "    height=600\n",
    ")\n",
    "\n",
    "fig.show()\n"
   ]
  },
  {
   "cell_type": "code",
   "execution_count": null,
   "metadata": {},
   "outputs": [],
   "source": []
  },
  {
   "cell_type": "code",
   "execution_count": null,
   "metadata": {},
   "outputs": [],
   "source": []
  },
  {
   "cell_type": "code",
   "execution_count": 36,
   "metadata": {},
   "outputs": [],
   "source": [
    "# subclass arviz labeller to omit the variable name\n",
    "class TeamLabeller(az.labels.BaseLabeller):\n",
    "    def make_label_flat(self, var_name, sel, isel):\n",
    "        sel_str = self.sel_to_str(sel, isel)\n",
    "        return sel_str"
   ]
  },
  {
   "cell_type": "code",
   "execution_count": 37,
   "metadata": {},
   "outputs": [
    {
     "data": {
      "image/png": "[encoded data removed]",
      "text/plain": [
       "<Figure size 600x1920 with 1 Axes>"
      ]
     },
     "metadata": {},
     "output_type": "display_data"
    }
   ],
   "source": [
    "ax = az.plot_forest(trace, var_names=[\"atts\"], labeller=TeamLabeller())\n",
    "ax[0].set_title(\"Team Offense\");"
   ]
  },
  {
   "cell_type": "code",
   "execution_count": 38,
   "metadata": {},
   "outputs": [
    {
     "data": {
      "image/png": "[encoded data removed]",
      "text/plain": [
       "<Figure size 600x1920 with 1 Axes>"
      ]
     },
     "metadata": {},
     "output_type": "display_data"
    }
   ],
   "source": [
    "ax = az.plot_forest(trace, var_names=[\"defs\"], labeller=TeamLabeller())\n",
    "ax[0].set_title(\"Team Defense\");"
   ]
  },
  {
   "cell_type": "code",
   "execution_count": null,
   "metadata": {},
   "outputs": [],
   "source": [
    "#az.plot_posterior(trace, var_names=[\"defs\"]);"
   ]
  },
  {
   "cell_type": "code",
   "execution_count": null,
   "metadata": {},
   "outputs": [],
   "source": []
  },
  {
   "cell_type": "markdown",
   "metadata": {},
   "source": [
    "Calculo probabilidad de quedar en un puesto dado"
   ]
  },
  {
   "cell_type": "code",
   "execution_count": 39,
   "metadata": {},
   "outputs": [
    {
     "name": "stderr",
     "output_type": "stream",
     "text": [
      "Sampling: [away_points, home_points]\n"
     ]
    },
    {
     "data": {
      "application/vnd.jupyter.widget-view+json": {
       "model_id": "800c070b7d8c4766b4d57b51cf43b17e",
       "version_major": 2,
       "version_minor": 0
      },
      "text/plain": [
       "Output()"
      ]
     },
     "metadata": {},
     "output_type": "display_data"
    },
    {
     "data": {
      "text/html": [
       "<pre style=\"white-space:pre;overflow-x:auto;line-height:normal;font-family:Menlo,'DejaVu Sans Mono',consolas,'Courier New',monospace\"></pre>\n"
      ],
      "text/plain": []
     },
     "metadata": {},
     "output_type": "display_data"
    }
   ],
   "source": [
    "with model:\n",
    "    pm.sample_posterior_predictive(trace, extend_inferencedata=True)\n",
    "    \n",
    "pp = trace.posterior_predictive\n",
    "const = trace.constant_data\n",
    "team_da = trace.posterior.team"
   ]
  },
  {
   "cell_type": "code",
   "execution_count": 40,
   "metadata": {},
   "outputs": [
    {
     "data": {
      "text/html": [
       "<div><svg style=\"position: absolute; width: 0; height: 0; overflow: hidden\">\n",
       "<defs>\n",
       "<symbol id=\"icon-database\" viewBox=\"0 0 32 32\">\n",
       "<path d=\"M16 0c-8.837 0-16 2.239-16 5v4c0 2.761 7.163 5 16 5s16-2.239 16-5v-4c0-2.761-7.163-5-16-5z\"></path>\n",
       "<path d=\"M16 17c-8.837 0-16-2.239-16-5v6c0 2.761 7.163 5 16 5s16-2.239 16-5v-6c0 2.761-7.163 5-16 5z\"></path>\n",
       "<path d=\"M16 26c-8.837 0-16-2.239-16-5v6c0 2.761 7.163 5 16 5s16-2.239 16-5v-6c0 2.761-7.163 5-16 5z\"></path>\n",
       "</symbol>\n",
       "<symbol id=\"icon-file-text2\" viewBox=\"0 0 32 32\">\n",
       "<path d=\"M28.681 7.159c-0.694-0.947-1.662-2.053-2.724-3.116s-2.169-2.030-3.116-2.724c-1.612-1.182-2.393-1.319-2.841-1.319h-15.5c-1.378 0-2.5 1.121-2.5 2.5v27c0 1.378 1.122 2.5 2.5 2.5h23c1.378 0 2.5-1.122 2.5-2.5v-19.5c0-0.448-0.137-1.23-1.319-2.841zM24.543 5.457c0.959 0.959 1.712 1.825 2.268 2.543h-4.811v-4.811c0.718 0.556 1.584 1.309 2.543 2.268zM28 29.5c0 0.271-0.229 0.5-0.5 0.5h-23c-0.271 0-0.5-0.229-0.5-0.5v-27c0-0.271 0.229-0.5 0.5-0.5 0 0 15.499-0 15.5 0v7c0 0.552 0.448 1 1 1h7v19.5z\"></path>\n",
       "<path d=\"M23 26h-14c-0.552 0-1-0.448-1-1s0.448-1 1-1h14c0.552 0 1 0.448 1 1s-0.448 1-1 1z\"></path>\n",
       "<path d=\"M23 22h-14c-0.552 0-1-0.448-1-1s0.448-1 1-1h14c0.552 0 1 0.448 1 1s-0.448 1-1 1z\"></path>\n",
       "<path d=\"M23 18h-14c-0.552 0-1-0.448-1-1s0.448-1 1-1h14c0.552 0 1 0.448 1 1s-0.448 1-1 1z\"></path>\n",
       "</symbol>\n",
       "</defs>\n",
       "</svg>\n",
       "<style>/* CSS stylesheet for displaying xarray objects in jupyterlab.\n",
       " *\n",
       " */\n",
       "\n",
       ":root {\n",
       "  --xr-font-color0: var(--jp-content-font-color0, rgba(0, 0, 0, 1));\n",
       "  --xr-font-color2: var(--jp-content-font-color2, rgba(0, 0, 0, 0.54));\n",
       "  --xr-font-color3: var(--jp-content-font-color3, rgba(0, 0, 0, 0.38));\n",
       "  --xr-border-color: var(--jp-border-color2, #e0e0e0);\n",
       "  --xr-disabled-color: var(--jp-layout-color3, #bdbdbd);\n",
       "  --xr-background-color: var(--jp-layout-color0, white);\n",
       "  --xr-background-color-row-even: var(--jp-layout-color1, white);\n",
       "  --xr-background-color-row-odd: var(--jp-layout-color2, #eeeeee);\n",
       "}\n",
       "\n",
       "html[theme=\"dark\"],\n",
       "html[data-theme=\"dark\"],\n",
       "body[data-theme=\"dark\"],\n",
       "body.vscode-dark {\n",
       "  --xr-font-color0: rgba(255, 255, 255, 1);\n",
       "  --xr-font-color2: rgba(255, 255, 255, 0.54);\n",
       "  --xr-font-color3: rgba(255, 255, 255, 0.38);\n",
       "  --xr-border-color: #1f1f1f;\n",
       "  --xr-disabled-color: #515151;\n",
       "  --xr-background-color: #111111;\n",
       "  --xr-background-color-row-even: #111111;\n",
       "  --xr-background-color-row-odd: #313131;\n",
       "}\n",
       "\n",
       ".xr-wrap {\n",
       "  display: block !important;\n",
       "  min-width: 300px;\n",
       "  max-width: 700px;\n",
       "}\n",
       "\n",
       ".xr-text-repr-fallback {\n",
       "  /* fallback to plain text repr when CSS is not injected (untrusted notebook) */\n",
       "  display: none;\n",
       "}\n",
       "\n",
       ".xr-header {\n",
       "  padding-top: 6px;\n",
       "  padding-bottom: 6px;\n",
       "  margin-bottom: 4px;\n",
       "  border-bottom: solid 1px var(--xr-border-color);\n",
       "}\n",
       "\n",
       ".xr-header > div,\n",
       ".xr-header > ul {\n",
       "  display: inline;\n",
       "  margin-top: 0;\n",
       "  margin-bottom: 0;\n",
       "}\n",
       "\n",
       ".xr-obj-type,\n",
       ".xr-array-name {\n",
       "  margin-left: 2px;\n",
       "  margin-right: 10px;\n",
       "}\n",
       "\n",
       ".xr-obj-type {\n",
       "  color: var(--xr-font-color2);\n",
       "}\n",
       "\n",
       ".xr-sections {\n",
       "  padding-left: 0 !important;\n",
       "  display: grid;\n",
       "  grid-template-columns: 150px auto auto 1fr 0 20px 0 20px;\n",
       "}\n",
       "\n",
       ".xr-section-item {\n",
       "  display: contents;\n",
       "}\n",
       "\n",
       ".xr-section-item input {\n",
       "  display: inline-block;\n",
       "  opacity: 0;\n",
       "  height: 0;\n",
       "}\n",
       "\n",
       ".xr-section-item input + label {\n",
       "  color: var(--xr-disabled-color);\n",
       "}\n",
       "\n",
       ".xr-section-item input:enabled + label {\n",
       "  cursor: pointer;\n",
       "  color: var(--xr-font-color2);\n",
       "}\n",
       "\n",
       ".xr-section-item input:focus + label {\n",
       "  border: 2px solid var(--xr-font-color0);\n",
       "}\n",
       "\n",
       ".xr-section-item input:enabled + label:hover {\n",
       "  color: var(--xr-font-color0);\n",
       "}\n",
       "\n",
       ".xr-section-summary {\n",
       "  grid-column: 1;\n",
       "  color: var(--xr-font-color2);\n",
       "  font-weight: 500;\n",
       "}\n",
       "\n",
       ".xr-section-summary > span {\n",
       "  display: inline-block;\n",
       "  padding-left: 0.5em;\n",
       "}\n",
       "\n",
       ".xr-section-summary-in:disabled + label {\n",
       "  color: var(--xr-font-color2);\n",
       "}\n",
       "\n",
       ".xr-section-summary-in + label:before {\n",
       "  display: inline-block;\n",
       "  content: \"►\";\n",
       "  font-size: 11px;\n",
       "  width: 15px;\n",
       "  text-align: center;\n",
       "}\n",
       "\n",
       ".xr-section-summary-in:disabled + label:before {\n",
       "  color: var(--xr-disabled-color);\n",
       "}\n",
       "\n",
       ".xr-section-summary-in:checked + label:before {\n",
       "  content: \"▼\";\n",
       "}\n",
       "\n",
       ".xr-section-summary-in:checked + label > span {\n",
       "  display: none;\n",
       "}\n",
       "\n",
       ".xr-section-summary,\n",
       ".xr-section-inline-details {\n",
       "  padding-top: 4px;\n",
       "  padding-bottom: 4px;\n",
       "}\n",
       "\n",
       ".xr-section-inline-details {\n",
       "  grid-column: 2 / -1;\n",
       "}\n",
       "\n",
       ".xr-section-details {\n",
       "  display: none;\n",
       "  grid-column: 1 / -1;\n",
       "  margin-bottom: 5px;\n",
       "}\n",
       "\n",
       ".xr-section-summary-in:checked ~ .xr-section-details {\n",
       "  display: contents;\n",
       "}\n",
       "\n",
       ".xr-array-wrap {\n",
       "  grid-column: 1 / -1;\n",
       "  display: grid;\n",
       "  grid-template-columns: 20px auto;\n",
       "}\n",
       "\n",
       ".xr-array-wrap > label {\n",
       "  grid-column: 1;\n",
       "  vertical-align: top;\n",
       "}\n",
       "\n",
       ".xr-preview {\n",
       "  color: var(--xr-font-color3);\n",
       "}\n",
       "\n",
       ".xr-array-preview,\n",
       ".xr-array-data {\n",
       "  padding: 0 5px !important;\n",
       "  grid-column: 2;\n",
       "}\n",
       "\n",
       ".xr-array-data,\n",
       ".xr-array-in:checked ~ .xr-array-preview {\n",
       "  display: none;\n",
       "}\n",
       "\n",
       ".xr-array-in:checked ~ .xr-array-data,\n",
       ".xr-array-preview {\n",
       "  display: inline-block;\n",
       "}\n",
       "\n",
       ".xr-dim-list {\n",
       "  display: inline-block !important;\n",
       "  list-style: none;\n",
       "  padding: 0 !important;\n",
       "  margin: 0;\n",
       "}\n",
       "\n",
       ".xr-dim-list li {\n",
       "  display: inline-block;\n",
       "  padding: 0;\n",
       "  margin: 0;\n",
       "}\n",
       "\n",
       ".xr-dim-list:before {\n",
       "  content: \"(\";\n",
       "}\n",
       "\n",
       ".xr-dim-list:after {\n",
       "  content: \")\";\n",
       "}\n",
       "\n",
       ".xr-dim-list li:not(:last-child):after {\n",
       "  content: \",\";\n",
       "  padding-right: 5px;\n",
       "}\n",
       "\n",
       ".xr-has-index {\n",
       "  font-weight: bold;\n",
       "}\n",
       "\n",
       ".xr-var-list,\n",
       ".xr-var-item {\n",
       "  display: contents;\n",
       "}\n",
       "\n",
       ".xr-var-item > div,\n",
       ".xr-var-item label,\n",
       ".xr-var-item > .xr-var-name span {\n",
       "  background-color: var(--xr-background-color-row-even);\n",
       "  margin-bottom: 0;\n",
       "}\n",
       "\n",
       ".xr-var-item > .xr-var-name:hover span {\n",
       "  padding-right: 5px;\n",
       "}\n",
       "\n",
       ".xr-var-list > li:nth-child(odd) > div,\n",
       ".xr-var-list > li:nth-child(odd) > label,\n",
       ".xr-var-list > li:nth-child(odd) > .xr-var-name span {\n",
       "  background-color: var(--xr-background-color-row-odd);\n",
       "}\n",
       "\n",
       ".xr-var-name {\n",
       "  grid-column: 1;\n",
       "}\n",
       "\n",
       ".xr-var-dims {\n",
       "  grid-column: 2;\n",
       "}\n",
       "\n",
       ".xr-var-dtype {\n",
       "  grid-column: 3;\n",
       "  text-align: right;\n",
       "  color: var(--xr-font-color2);\n",
       "}\n",
       "\n",
       ".xr-var-preview {\n",
       "  grid-column: 4;\n",
       "}\n",
       "\n",
       ".xr-index-preview {\n",
       "  grid-column: 2 / 5;\n",
       "  color: var(--xr-font-color2);\n",
       "}\n",
       "\n",
       ".xr-var-name,\n",
       ".xr-var-dims,\n",
       ".xr-var-dtype,\n",
       ".xr-preview,\n",
       ".xr-attrs dt {\n",
       "  white-space: nowrap;\n",
       "  overflow: hidden;\n",
       "  text-overflow: ellipsis;\n",
       "  padding-right: 10px;\n",
       "}\n",
       "\n",
       ".xr-var-name:hover,\n",
       ".xr-var-dims:hover,\n",
       ".xr-var-dtype:hover,\n",
       ".xr-attrs dt:hover {\n",
       "  overflow: visible;\n",
       "  width: auto;\n",
       "  z-index: 1;\n",
       "}\n",
       "\n",
       ".xr-var-attrs,\n",
       ".xr-var-data,\n",
       ".xr-index-data {\n",
       "  display: none;\n",
       "  background-color: var(--xr-background-color) !important;\n",
       "  padding-bottom: 5px !important;\n",
       "}\n",
       "\n",
       ".xr-var-attrs-in:checked ~ .xr-var-attrs,\n",
       ".xr-var-data-in:checked ~ .xr-var-data,\n",
       ".xr-index-data-in:checked ~ .xr-index-data {\n",
       "  display: block;\n",
       "}\n",
       "\n",
       ".xr-var-data > table {\n",
       "  float: right;\n",
       "}\n",
       "\n",
       ".xr-var-name span,\n",
       ".xr-var-data,\n",
       ".xr-index-name div,\n",
       ".xr-index-data,\n",
       ".xr-attrs {\n",
       "  padding-left: 25px !important;\n",
       "}\n",
       "\n",
       ".xr-attrs,\n",
       ".xr-var-attrs,\n",
       ".xr-var-data,\n",
       ".xr-index-data {\n",
       "  grid-column: 1 / -1;\n",
       "}\n",
       "\n",
       "dl.xr-attrs {\n",
       "  padding: 0;\n",
       "  margin: 0;\n",
       "  display: grid;\n",
       "  grid-template-columns: 125px auto;\n",
       "}\n",
       "\n",
       ".xr-attrs dt,\n",
       ".xr-attrs dd {\n",
       "  padding: 0;\n",
       "  margin: 0;\n",
       "  float: left;\n",
       "  padding-right: 10px;\n",
       "  width: auto;\n",
       "}\n",
       "\n",
       ".xr-attrs dt {\n",
       "  font-weight: normal;\n",
       "  grid-column: 1;\n",
       "}\n",
       "\n",
       ".xr-attrs dt:hover span {\n",
       "  display: inline-block;\n",
       "  background: var(--xr-background-color);\n",
       "  padding-right: 10px;\n",
       "}\n",
       "\n",
       ".xr-attrs dd {\n",
       "  grid-column: 2;\n",
       "  white-space: pre-wrap;\n",
       "  word-break: break-all;\n",
       "}\n",
       "\n",
       ".xr-icon-database,\n",
       ".xr-icon-file-text2,\n",
       ".xr-no-icon {\n",
       "  display: inline-block;\n",
       "  vertical-align: middle;\n",
       "  width: 1em;\n",
       "  height: 1.5em !important;\n",
       "  stroke-width: 0;\n",
       "  stroke: currentColor;\n",
       "  fill: currentColor;\n",
       "}\n",
       "</style><pre class='xr-text-repr-fallback'>&lt;xarray.Dataset&gt; Size: 778MB\n",
       "Dimensions:      (chain: 4, draw: 3000, match: 4053)\n",
       "Coordinates:\n",
       "  * chain        (chain) int64 32B 0 1 2 3\n",
       "  * draw         (draw) int64 24kB 0 1 2 3 4 5 ... 2994 2995 2996 2997 2998 2999\n",
       "  * match        (match) int64 32kB 0 1 2 3 4 5 ... 4048 4049 4050 4051 4052\n",
       "Data variables:\n",
       "    home_points  (chain, draw, match) int64 389MB 0 0 2 1 2 0 0 ... 0 2 3 0 1 0\n",
       "    away_points  (chain, draw, match) int64 389MB 1 0 1 3 0 0 0 ... 2 2 1 1 1 2\n",
       "Attributes:\n",
       "    created_at:                 2025-06-06T16:46:51.090664+00:00\n",
       "    arviz_version:              0.21.0\n",
       "    inference_library:          pymc\n",
       "    inference_library_version:  5.22.0</pre><div class='xr-wrap' style='display:none'><div class='xr-header'><div class='xr-obj-type'>xarray.Dataset</div></div><ul class='xr-sections'><li class='xr-section-item'><input id='section-8fdd3686-99c3-4f89-a305-452e8bc13a42' class='xr-section-summary-in' type='checkbox' disabled ><label for='section-8fdd3686-99c3-4f89-a305-452e8bc13a42' class='xr-section-summary'  title='Expand/collapse section'>Dimensions:</label><div class='xr-section-inline-details'><ul class='xr-dim-list'><li><span class='xr-has-index'>chain</span>: 4</li><li><span class='xr-has-index'>draw</span>: 3000</li><li><span class='xr-has-index'>match</span>: 4053</li></ul></div><div class='xr-section-details'></div></li><li class='xr-section-item'><input id='section-6719566e-8f22-427e-8c30-f860705cadb3' class='xr-section-summary-in' type='checkbox'  checked><label for='section-6719566e-8f22-427e-8c30-f860705cadb3' class='xr-section-summary' >Coordinates: <span>(3)</span></label><div class='xr-section-inline-details'></div><div class='xr-section-details'><ul class='xr-var-list'><li class='xr-var-item'><div class='xr-var-name'><span class='xr-has-index'>chain</span></div><div class='xr-var-dims'>(chain)</div><div class='xr-var-dtype'>int64</div><div class='xr-var-preview xr-preview'>0 1 2 3</div><input id='attrs-388e90e7-4037-4b3b-bdf9-46415f3e8a4a' class='xr-var-attrs-in' type='checkbox' disabled><label for='attrs-388e90e7-4037-4b3b-bdf9-46415f3e8a4a' title='Show/Hide attributes'><svg class='icon xr-icon-file-text2'><use xlink:href='#icon-file-text2'></use></svg></label><input id='data-1b767741-d04d-462b-ba1d-7fac7eea7bb9' class='xr-var-data-in' type='checkbox'><label for='data-1b767741-d04d-462b-ba1d-7fac7eea7bb9' title='Show/Hide data repr'><svg class='icon xr-icon-database'><use xlink:href='#icon-database'></use></svg></label><div class='xr-var-attrs'><dl class='xr-attrs'></dl></div><div class='xr-var-data'><pre>array([0, 1, 2, 3])</pre></div></li><li class='xr-var-item'><div class='xr-var-name'><span class='xr-has-index'>draw</span></div><div class='xr-var-dims'>(draw)</div><div class='xr-var-dtype'>int64</div><div class='xr-var-preview xr-preview'>0 1 2 3 4 ... 2996 2997 2998 2999</div><input id='attrs-44128c3a-c34b-4ac8-9fef-06ee4325ccff' class='xr-var-attrs-in' type='checkbox' disabled><label for='attrs-44128c3a-c34b-4ac8-9fef-06ee4325ccff' title='Show/Hide attributes'><svg class='icon xr-icon-file-text2'><use xlink:href='#icon-file-text2'></use></svg></label><input id='data-c9cf6367-a3a6-401b-a319-f98488f9f6b5' class='xr-var-data-in' type='checkbox'><label for='data-c9cf6367-a3a6-401b-a319-f98488f9f6b5' title='Show/Hide data repr'><svg class='icon xr-icon-database'><use xlink:href='#icon-database'></use></svg></label><div class='xr-var-attrs'><dl class='xr-attrs'></dl></div><div class='xr-var-data'><pre>array([   0,    1,    2, ..., 2997, 2998, 2999], shape=(3000,))</pre></div></li><li class='xr-var-item'><div class='xr-var-name'><span class='xr-has-index'>match</span></div><div class='xr-var-dims'>(match)</div><div class='xr-var-dtype'>int64</div><div class='xr-var-preview xr-preview'>0 1 2 3 4 ... 4049 4050 4051 4052</div><input id='attrs-6aa45fb5-9897-4417-b4a2-f6f503a762f0' class='xr-var-attrs-in' type='checkbox' disabled><label for='attrs-6aa45fb5-9897-4417-b4a2-f6f503a762f0' title='Show/Hide attributes'><svg class='icon xr-icon-file-text2'><use xlink:href='#icon-file-text2'></use></svg></label><input id='data-e2945c6b-ba71-4ddf-802e-0baac94c18a4' class='xr-var-data-in' type='checkbox'><label for='data-e2945c6b-ba71-4ddf-802e-0baac94c18a4' title='Show/Hide data repr'><svg class='icon xr-icon-database'><use xlink:href='#icon-database'></use></svg></label><div class='xr-var-attrs'><dl class='xr-attrs'></dl></div><div class='xr-var-data'><pre>array([   0,    1,    2, ..., 4050, 4051, 4052], shape=(4053,))</pre></div></li></ul></div></li><li class='xr-section-item'><input id='section-0e73ec4a-3ee7-4da7-adeb-1d71afac6f91' class='xr-section-summary-in' type='checkbox'  checked><label for='section-0e73ec4a-3ee7-4da7-adeb-1d71afac6f91' class='xr-section-summary' >Data variables: <span>(2)</span></label><div class='xr-section-inline-details'></div><div class='xr-section-details'><ul class='xr-var-list'><li class='xr-var-item'><div class='xr-var-name'><span>home_points</span></div><div class='xr-var-dims'>(chain, draw, match)</div><div class='xr-var-dtype'>int64</div><div class='xr-var-preview xr-preview'>0 0 2 1 2 0 0 0 ... 1 2 0 2 3 0 1 0</div><input id='attrs-b0e1147e-61a6-4bd7-9802-9e5b22a61a63' class='xr-var-attrs-in' type='checkbox' disabled><label for='attrs-b0e1147e-61a6-4bd7-9802-9e5b22a61a63' title='Show/Hide attributes'><svg class='icon xr-icon-file-text2'><use xlink:href='#icon-file-text2'></use></svg></label><input id='data-aeb3c422-2b08-4237-b0c6-5e6346ea5c1a' class='xr-var-data-in' type='checkbox'><label for='data-aeb3c422-2b08-4237-b0c6-5e6346ea5c1a' title='Show/Hide data repr'><svg class='icon xr-icon-database'><use xlink:href='#icon-database'></use></svg></label><div class='xr-var-attrs'><dl class='xr-attrs'></dl></div><div class='xr-var-data'><pre>array([[[0, 0, 2, ..., 0, 2, 2],\n",
       "        [0, 0, 0, ..., 1, 1, 1],\n",
       "        [0, 1, 0, ..., 0, 2, 1],\n",
       "        ...,\n",
       "        [0, 2, 0, ..., 1, 0, 0],\n",
       "        [0, 2, 1, ..., 2, 3, 0],\n",
       "        [2, 0, 0, ..., 0, 1, 0]],\n",
       "\n",
       "       [[1, 1, 2, ..., 3, 2, 4],\n",
       "        [0, 0, 2, ..., 1, 1, 1],\n",
       "        [2, 0, 0, ..., 0, 1, 0],\n",
       "        ...,\n",
       "        [1, 1, 0, ..., 2, 2, 1],\n",
       "        [1, 1, 5, ..., 2, 2, 2],\n",
       "        [2, 1, 2, ..., 3, 2, 1]],\n",
       "\n",
       "       [[2, 1, 5, ..., 2, 1, 3],\n",
       "        [2, 4, 0, ..., 0, 1, 0],\n",
       "        [0, 0, 0, ..., 1, 2, 0],\n",
       "        ...,\n",
       "        [2, 2, 1, ..., 1, 0, 0],\n",
       "        [1, 1, 0, ..., 1, 0, 1],\n",
       "        [2, 0, 2, ..., 1, 2, 0]],\n",
       "\n",
       "       [[1, 1, 1, ..., 1, 2, 1],\n",
       "        [1, 2, 0, ..., 0, 0, 1],\n",
       "        [0, 0, 2, ..., 1, 2, 0],\n",
       "        ...,\n",
       "        [1, 1, 2, ..., 3, 0, 1],\n",
       "        [0, 2, 0, ..., 1, 2, 1],\n",
       "        [3, 2, 2, ..., 0, 1, 0]]], shape=(4, 3000, 4053))</pre></div></li><li class='xr-var-item'><div class='xr-var-name'><span>away_points</span></div><div class='xr-var-dims'>(chain, draw, match)</div><div class='xr-var-dtype'>int64</div><div class='xr-var-preview xr-preview'>1 0 1 3 0 0 0 0 ... 1 3 2 2 1 1 1 2</div><input id='attrs-80cd3b18-3b27-4252-9896-d2521be7b816' class='xr-var-attrs-in' type='checkbox' disabled><label for='attrs-80cd3b18-3b27-4252-9896-d2521be7b816' title='Show/Hide attributes'><svg class='icon xr-icon-file-text2'><use xlink:href='#icon-file-text2'></use></svg></label><input id='data-ec388376-bf22-4054-9f54-92654728b8c9' class='xr-var-data-in' type='checkbox'><label for='data-ec388376-bf22-4054-9f54-92654728b8c9' title='Show/Hide data repr'><svg class='icon xr-icon-database'><use xlink:href='#icon-database'></use></svg></label><div class='xr-var-attrs'><dl class='xr-attrs'></dl></div><div class='xr-var-data'><pre>array([[[1, 0, 1, ..., 0, 3, 1],\n",
       "        [0, 0, 1, ..., 1, 3, 0],\n",
       "        [1, 0, 2, ..., 1, 0, 0],\n",
       "        ...,\n",
       "        [2, 0, 0, ..., 2, 1, 1],\n",
       "        [1, 4, 2, ..., 1, 2, 1],\n",
       "        [0, 2, 2, ..., 1, 1, 1]],\n",
       "\n",
       "       [[1, 2, 0, ..., 1, 1, 0],\n",
       "        [0, 2, 1, ..., 1, 2, 2],\n",
       "        [0, 0, 0, ..., 1, 1, 1],\n",
       "        ...,\n",
       "        [0, 0, 2, ..., 1, 0, 2],\n",
       "        [1, 1, 1, ..., 1, 1, 4],\n",
       "        [2, 2, 1, ..., 2, 0, 1]],\n",
       "\n",
       "       [[2, 2, 3, ..., 0, 0, 0],\n",
       "        [2, 1, 5, ..., 0, 0, 1],\n",
       "        [0, 0, 1, ..., 1, 1, 2],\n",
       "        ...,\n",
       "        [1, 0, 1, ..., 0, 0, 1],\n",
       "        [1, 3, 1, ..., 3, 4, 3],\n",
       "        [0, 0, 0, ..., 0, 1, 1]],\n",
       "\n",
       "       [[0, 2, 1, ..., 0, 2, 1],\n",
       "        [1, 2, 2, ..., 0, 0, 3],\n",
       "        [1, 1, 1, ..., 1, 1, 3],\n",
       "        ...,\n",
       "        [0, 0, 0, ..., 0, 0, 0],\n",
       "        [0, 0, 0, ..., 0, 1, 1],\n",
       "        [1, 0, 2, ..., 1, 1, 2]]], shape=(4, 3000, 4053))</pre></div></li></ul></div></li><li class='xr-section-item'><input id='section-b315d06a-143f-4ff1-977e-76d690159077' class='xr-section-summary-in' type='checkbox'  ><label for='section-b315d06a-143f-4ff1-977e-76d690159077' class='xr-section-summary' >Indexes: <span>(3)</span></label><div class='xr-section-inline-details'></div><div class='xr-section-details'><ul class='xr-var-list'><li class='xr-var-item'><div class='xr-index-name'><div>chain</div></div><div class='xr-index-preview'>PandasIndex</div><input type='checkbox' disabled/><label></label><input id='index-c8c4c679-07cb-468c-ba9e-bec4950c2277' class='xr-index-data-in' type='checkbox'/><label for='index-c8c4c679-07cb-468c-ba9e-bec4950c2277' title='Show/Hide index repr'><svg class='icon xr-icon-database'><use xlink:href='#icon-database'></use></svg></label><div class='xr-index-data'><pre>PandasIndex(Index([0, 1, 2, 3], dtype=&#x27;int64&#x27;, name=&#x27;chain&#x27;))</pre></div></li><li class='xr-var-item'><div class='xr-index-name'><div>draw</div></div><div class='xr-index-preview'>PandasIndex</div><input type='checkbox' disabled/><label></label><input id='index-d079f70a-40ab-4900-9938-3e60e0061c18' class='xr-index-data-in' type='checkbox'/><label for='index-d079f70a-40ab-4900-9938-3e60e0061c18' title='Show/Hide index repr'><svg class='icon xr-icon-database'><use xlink:href='#icon-database'></use></svg></label><div class='xr-index-data'><pre>PandasIndex(Index([   0,    1,    2,    3,    4,    5,    6,    7,    8,    9,\n",
       "       ...\n",
       "       2990, 2991, 2992, 2993, 2994, 2995, 2996, 2997, 2998, 2999],\n",
       "      dtype=&#x27;int64&#x27;, name=&#x27;draw&#x27;, length=3000))</pre></div></li><li class='xr-var-item'><div class='xr-index-name'><div>match</div></div><div class='xr-index-preview'>PandasIndex</div><input type='checkbox' disabled/><label></label><input id='index-8e290cff-b12b-4960-b6cb-328460e8119e' class='xr-index-data-in' type='checkbox'/><label for='index-8e290cff-b12b-4960-b6cb-328460e8119e' title='Show/Hide index repr'><svg class='icon xr-icon-database'><use xlink:href='#icon-database'></use></svg></label><div class='xr-index-data'><pre>PandasIndex(Index([   0,    1,    2,    3,    4,    5,    6,    7,    8,    9,\n",
       "       ...\n",
       "       4043, 4044, 4045, 4046, 4047, 4048, 4049, 4050, 4051, 4052],\n",
       "      dtype=&#x27;int64&#x27;, name=&#x27;match&#x27;, length=4053))</pre></div></li></ul></div></li><li class='xr-section-item'><input id='section-45bf2239-d8b4-4640-9463-50a92a6d2111' class='xr-section-summary-in' type='checkbox'  checked><label for='section-45bf2239-d8b4-4640-9463-50a92a6d2111' class='xr-section-summary' >Attributes: <span>(4)</span></label><div class='xr-section-inline-details'></div><div class='xr-section-details'><dl class='xr-attrs'><dt><span>created_at :</span></dt><dd>2025-06-06T16:46:51.090664+00:00</dd><dt><span>arviz_version :</span></dt><dd>0.21.0</dd><dt><span>inference_library :</span></dt><dd>pymc</dd><dt><span>inference_library_version :</span></dt><dd>5.22.0</dd></dl></div></li></ul></div></div>"
      ],
      "text/plain": [
       "<xarray.Dataset> Size: 778MB\n",
       "Dimensions:      (chain: 4, draw: 3000, match: 4053)\n",
       "Coordinates:\n",
       "  * chain        (chain) int64 32B 0 1 2 3\n",
       "  * draw         (draw) int64 24kB 0 1 2 3 4 5 ... 2994 2995 2996 2997 2998 2999\n",
       "  * match        (match) int64 32kB 0 1 2 3 4 5 ... 4048 4049 4050 4051 4052\n",
       "Data variables:\n",
       "    home_points  (chain, draw, match) int64 389MB 0 0 2 1 2 0 0 ... 0 2 3 0 1 0\n",
       "    away_points  (chain, draw, match) int64 389MB 1 0 1 3 0 0 0 ... 2 2 1 1 1 2\n",
       "Attributes:\n",
       "    created_at:                 2025-06-06T16:46:51.090664+00:00\n",
       "    arviz_version:              0.21.0\n",
       "    inference_library:          pymc\n",
       "    inference_library_version:  5.22.0"
      ]
     },
     "execution_count": 40,
     "metadata": {},
     "output_type": "execute_result"
    }
   ],
   "source": [
    "pp"
   ]
  },
  {
   "cell_type": "code",
   "execution_count": 41,
   "metadata": {},
   "outputs": [],
   "source": [
    "# fmt: off\n",
    "\n",
    "''' Rugby\n",
    "pp[\"home_win\"] = (\n",
    "    (pp[\"home_points\"] > pp[\"away_points\"]) * 3     # home team wins and gets 3 points\n",
    "    + (pp[\"home_points\"] == pp[\"away_points\"]) * 2  # tie -> home team gets 2 points\n",
    ")\n",
    "pp[\"away_win\"] = (\n",
    "    (pp[\"home_points\"] < pp[\"away_points\"]) * 3\n",
    "    + (pp[\"home_points\"] == pp[\"away_points\"]) * 2\n",
    ")\n",
    "# fmt: on\n",
    "\n",
    "'''\n",
    "\n",
    "pp[\"home_win\"] = (\n",
    "    (pp[\"home_points\"] > pp[\"away_points\"]) * 3     # home team wins and gets 3 points\n",
    "    + (pp[\"home_points\"] == pp[\"away_points\"]) * 1  # tie -> home team gets 2 points\n",
    ")\n",
    "pp[\"away_win\"] = (\n",
    "    (pp[\"home_points\"] < pp[\"away_points\"]) * 3\n",
    "    + (pp[\"home_points\"] == pp[\"away_points\"]) * 1\n",
    ")"
   ]
  },
  {
   "cell_type": "code",
   "execution_count": 42,
   "metadata": {},
   "outputs": [],
   "source": [
    "groupby_sum_home = pp.home_win.groupby(team_da[const.home_team]).sum()\n",
    "groupby_sum_away = pp.away_win.groupby(team_da[const.away_team]).sum()\n",
    "\n",
    "pp[\"teamscores\"] = groupby_sum_home + groupby_sum_away"
   ]
  },
  {
   "cell_type": "code",
   "execution_count": 43,
   "metadata": {},
   "outputs": [
    {
     "data": {
      "text/plain": [
       "array([[439, 404, 452, ..., 434, 441, 384],\n",
       "       [426, 407, 395, ..., 433, 401, 398],\n",
       "       [415, 378, 413, ..., 443, 449, 417],\n",
       "       [448, 410, 413, ..., 421, 408, 427]], shape=(4, 3000))"
      ]
     },
     "execution_count": 43,
     "metadata": {},
     "output_type": "execute_result"
    }
   ],
   "source": [
    "pp[\"teamscores\"].sel(team=\"Tigre\").values"
   ]
  },
  {
   "cell_type": "code",
   "execution_count": 44,
   "metadata": {},
   "outputs": [
    {
     "data": {
      "text/html": [
       "<div><svg style=\"position: absolute; width: 0; height: 0; overflow: hidden\">\n",
       "<defs>\n",
       "<symbol id=\"icon-database\" viewBox=\"0 0 32 32\">\n",
       "<path d=\"M16 0c-8.837 0-16 2.239-16 5v4c0 2.761 7.163 5 16 5s16-2.239 16-5v-4c0-2.761-7.163-5-16-5z\"></path>\n",
       "<path d=\"M16 17c-8.837 0-16-2.239-16-5v6c0 2.761 7.163 5 16 5s16-2.239 16-5v-6c0 2.761-7.163 5-16 5z\"></path>\n",
       "<path d=\"M16 26c-8.837 0-16-2.239-16-5v6c0 2.761 7.163 5 16 5s16-2.239 16-5v-6c0 2.761-7.163 5-16 5z\"></path>\n",
       "</symbol>\n",
       "<symbol id=\"icon-file-text2\" viewBox=\"0 0 32 32\">\n",
       "<path d=\"M28.681 7.159c-0.694-0.947-1.662-2.053-2.724-3.116s-2.169-2.030-3.116-2.724c-1.612-1.182-2.393-1.319-2.841-1.319h-15.5c-1.378 0-2.5 1.121-2.5 2.5v27c0 1.378 1.122 2.5 2.5 2.5h23c1.378 0 2.5-1.122 2.5-2.5v-19.5c0-0.448-0.137-1.23-1.319-2.841zM24.543 5.457c0.959 0.959 1.712 1.825 2.268 2.543h-4.811v-4.811c0.718 0.556 1.584 1.309 2.543 2.268zM28 29.5c0 0.271-0.229 0.5-0.5 0.5h-23c-0.271 0-0.5-0.229-0.5-0.5v-27c0-0.271 0.229-0.5 0.5-0.5 0 0 15.499-0 15.5 0v7c0 0.552 0.448 1 1 1h7v19.5z\"></path>\n",
       "<path d=\"M23 26h-14c-0.552 0-1-0.448-1-1s0.448-1 1-1h14c0.552 0 1 0.448 1 1s-0.448 1-1 1z\"></path>\n",
       "<path d=\"M23 22h-14c-0.552 0-1-0.448-1-1s0.448-1 1-1h14c0.552 0 1 0.448 1 1s-0.448 1-1 1z\"></path>\n",
       "<path d=\"M23 18h-14c-0.552 0-1-0.448-1-1s0.448-1 1-1h14c0.552 0 1 0.448 1 1s-0.448 1-1 1z\"></path>\n",
       "</symbol>\n",
       "</defs>\n",
       "</svg>\n",
       "<style>/* CSS stylesheet for displaying xarray objects in jupyterlab.\n",
       " *\n",
       " */\n",
       "\n",
       ":root {\n",
       "  --xr-font-color0: var(--jp-content-font-color0, rgba(0, 0, 0, 1));\n",
       "  --xr-font-color2: var(--jp-content-font-color2, rgba(0, 0, 0, 0.54));\n",
       "  --xr-font-color3: var(--jp-content-font-color3, rgba(0, 0, 0, 0.38));\n",
       "  --xr-border-color: var(--jp-border-color2, #e0e0e0);\n",
       "  --xr-disabled-color: var(--jp-layout-color3, #bdbdbd);\n",
       "  --xr-background-color: var(--jp-layout-color0, white);\n",
       "  --xr-background-color-row-even: var(--jp-layout-color1, white);\n",
       "  --xr-background-color-row-odd: var(--jp-layout-color2, #eeeeee);\n",
       "}\n",
       "\n",
       "html[theme=\"dark\"],\n",
       "html[data-theme=\"dark\"],\n",
       "body[data-theme=\"dark\"],\n",
       "body.vscode-dark {\n",
       "  --xr-font-color0: rgba(255, 255, 255, 1);\n",
       "  --xr-font-color2: rgba(255, 255, 255, 0.54);\n",
       "  --xr-font-color3: rgba(255, 255, 255, 0.38);\n",
       "  --xr-border-color: #1f1f1f;\n",
       "  --xr-disabled-color: #515151;\n",
       "  --xr-background-color: #111111;\n",
       "  --xr-background-color-row-even: #111111;\n",
       "  --xr-background-color-row-odd: #313131;\n",
       "}\n",
       "\n",
       ".xr-wrap {\n",
       "  display: block !important;\n",
       "  min-width: 300px;\n",
       "  max-width: 700px;\n",
       "}\n",
       "\n",
       ".xr-text-repr-fallback {\n",
       "  /* fallback to plain text repr when CSS is not injected (untrusted notebook) */\n",
       "  display: none;\n",
       "}\n",
       "\n",
       ".xr-header {\n",
       "  padding-top: 6px;\n",
       "  padding-bottom: 6px;\n",
       "  margin-bottom: 4px;\n",
       "  border-bottom: solid 1px var(--xr-border-color);\n",
       "}\n",
       "\n",
       ".xr-header > div,\n",
       ".xr-header > ul {\n",
       "  display: inline;\n",
       "  margin-top: 0;\n",
       "  margin-bottom: 0;\n",
       "}\n",
       "\n",
       ".xr-obj-type,\n",
       ".xr-array-name {\n",
       "  margin-left: 2px;\n",
       "  margin-right: 10px;\n",
       "}\n",
       "\n",
       ".xr-obj-type {\n",
       "  color: var(--xr-font-color2);\n",
       "}\n",
       "\n",
       ".xr-sections {\n",
       "  padding-left: 0 !important;\n",
       "  display: grid;\n",
       "  grid-template-columns: 150px auto auto 1fr 0 20px 0 20px;\n",
       "}\n",
       "\n",
       ".xr-section-item {\n",
       "  display: contents;\n",
       "}\n",
       "\n",
       ".xr-section-item input {\n",
       "  display: inline-block;\n",
       "  opacity: 0;\n",
       "  height: 0;\n",
       "}\n",
       "\n",
       ".xr-section-item input + label {\n",
       "  color: var(--xr-disabled-color);\n",
       "}\n",
       "\n",
       ".xr-section-item input:enabled + label {\n",
       "  cursor: pointer;\n",
       "  color: var(--xr-font-color2);\n",
       "}\n",
       "\n",
       ".xr-section-item input:focus + label {\n",
       "  border: 2px solid var(--xr-font-color0);\n",
       "}\n",
       "\n",
       ".xr-section-item input:enabled + label:hover {\n",
       "  color: var(--xr-font-color0);\n",
       "}\n",
       "\n",
       ".xr-section-summary {\n",
       "  grid-column: 1;\n",
       "  color: var(--xr-font-color2);\n",
       "  font-weight: 500;\n",
       "}\n",
       "\n",
       ".xr-section-summary > span {\n",
       "  display: inline-block;\n",
       "  padding-left: 0.5em;\n",
       "}\n",
       "\n",
       ".xr-section-summary-in:disabled + label {\n",
       "  color: var(--xr-font-color2);\n",
       "}\n",
       "\n",
       ".xr-section-summary-in + label:before {\n",
       "  display: inline-block;\n",
       "  content: \"►\";\n",
       "  font-size: 11px;\n",
       "  width: 15px;\n",
       "  text-align: center;\n",
       "}\n",
       "\n",
       ".xr-section-summary-in:disabled + label:before {\n",
       "  color: var(--xr-disabled-color);\n",
       "}\n",
       "\n",
       ".xr-section-summary-in:checked + label:before {\n",
       "  content: \"▼\";\n",
       "}\n",
       "\n",
       ".xr-section-summary-in:checked + label > span {\n",
       "  display: none;\n",
       "}\n",
       "\n",
       ".xr-section-summary,\n",
       ".xr-section-inline-details {\n",
       "  padding-top: 4px;\n",
       "  padding-bottom: 4px;\n",
       "}\n",
       "\n",
       ".xr-section-inline-details {\n",
       "  grid-column: 2 / -1;\n",
       "}\n",
       "\n",
       ".xr-section-details {\n",
       "  display: none;\n",
       "  grid-column: 1 / -1;\n",
       "  margin-bottom: 5px;\n",
       "}\n",
       "\n",
       ".xr-section-summary-in:checked ~ .xr-section-details {\n",
       "  display: contents;\n",
       "}\n",
       "\n",
       ".xr-array-wrap {\n",
       "  grid-column: 1 / -1;\n",
       "  display: grid;\n",
       "  grid-template-columns: 20px auto;\n",
       "}\n",
       "\n",
       ".xr-array-wrap > label {\n",
       "  grid-column: 1;\n",
       "  vertical-align: top;\n",
       "}\n",
       "\n",
       ".xr-preview {\n",
       "  color: var(--xr-font-color3);\n",
       "}\n",
       "\n",
       ".xr-array-preview,\n",
       ".xr-array-data {\n",
       "  padding: 0 5px !important;\n",
       "  grid-column: 2;\n",
       "}\n",
       "\n",
       ".xr-array-data,\n",
       ".xr-array-in:checked ~ .xr-array-preview {\n",
       "  display: none;\n",
       "}\n",
       "\n",
       ".xr-array-in:checked ~ .xr-array-data,\n",
       ".xr-array-preview {\n",
       "  display: inline-block;\n",
       "}\n",
       "\n",
       ".xr-dim-list {\n",
       "  display: inline-block !important;\n",
       "  list-style: none;\n",
       "  padding: 0 !important;\n",
       "  margin: 0;\n",
       "}\n",
       "\n",
       ".xr-dim-list li {\n",
       "  display: inline-block;\n",
       "  padding: 0;\n",
       "  margin: 0;\n",
       "}\n",
       "\n",
       ".xr-dim-list:before {\n",
       "  content: \"(\";\n",
       "}\n",
       "\n",
       ".xr-dim-list:after {\n",
       "  content: \")\";\n",
       "}\n",
       "\n",
       ".xr-dim-list li:not(:last-child):after {\n",
       "  content: \",\";\n",
       "  padding-right: 5px;\n",
       "}\n",
       "\n",
       ".xr-has-index {\n",
       "  font-weight: bold;\n",
       "}\n",
       "\n",
       ".xr-var-list,\n",
       ".xr-var-item {\n",
       "  display: contents;\n",
       "}\n",
       "\n",
       ".xr-var-item > div,\n",
       ".xr-var-item label,\n",
       ".xr-var-item > .xr-var-name span {\n",
       "  background-color: var(--xr-background-color-row-even);\n",
       "  margin-bottom: 0;\n",
       "}\n",
       "\n",
       ".xr-var-item > .xr-var-name:hover span {\n",
       "  padding-right: 5px;\n",
       "}\n",
       "\n",
       ".xr-var-list > li:nth-child(odd) > div,\n",
       ".xr-var-list > li:nth-child(odd) > label,\n",
       ".xr-var-list > li:nth-child(odd) > .xr-var-name span {\n",
       "  background-color: var(--xr-background-color-row-odd);\n",
       "}\n",
       "\n",
       ".xr-var-name {\n",
       "  grid-column: 1;\n",
       "}\n",
       "\n",
       ".xr-var-dims {\n",
       "  grid-column: 2;\n",
       "}\n",
       "\n",
       ".xr-var-dtype {\n",
       "  grid-column: 3;\n",
       "  text-align: right;\n",
       "  color: var(--xr-font-color2);\n",
       "}\n",
       "\n",
       ".xr-var-preview {\n",
       "  grid-column: 4;\n",
       "}\n",
       "\n",
       ".xr-index-preview {\n",
       "  grid-column: 2 / 5;\n",
       "  color: var(--xr-font-color2);\n",
       "}\n",
       "\n",
       ".xr-var-name,\n",
       ".xr-var-dims,\n",
       ".xr-var-dtype,\n",
       ".xr-preview,\n",
       ".xr-attrs dt {\n",
       "  white-space: nowrap;\n",
       "  overflow: hidden;\n",
       "  text-overflow: ellipsis;\n",
       "  padding-right: 10px;\n",
       "}\n",
       "\n",
       ".xr-var-name:hover,\n",
       ".xr-var-dims:hover,\n",
       ".xr-var-dtype:hover,\n",
       ".xr-attrs dt:hover {\n",
       "  overflow: visible;\n",
       "  width: auto;\n",
       "  z-index: 1;\n",
       "}\n",
       "\n",
       ".xr-var-attrs,\n",
       ".xr-var-data,\n",
       ".xr-index-data {\n",
       "  display: none;\n",
       "  background-color: var(--xr-background-color) !important;\n",
       "  padding-bottom: 5px !important;\n",
       "}\n",
       "\n",
       ".xr-var-attrs-in:checked ~ .xr-var-attrs,\n",
       ".xr-var-data-in:checked ~ .xr-var-data,\n",
       ".xr-index-data-in:checked ~ .xr-index-data {\n",
       "  display: block;\n",
       "}\n",
       "\n",
       ".xr-var-data > table {\n",
       "  float: right;\n",
       "}\n",
       "\n",
       ".xr-var-name span,\n",
       ".xr-var-data,\n",
       ".xr-index-name div,\n",
       ".xr-index-data,\n",
       ".xr-attrs {\n",
       "  padding-left: 25px !important;\n",
       "}\n",
       "\n",
       ".xr-attrs,\n",
       ".xr-var-attrs,\n",
       ".xr-var-data,\n",
       ".xr-index-data {\n",
       "  grid-column: 1 / -1;\n",
       "}\n",
       "\n",
       "dl.xr-attrs {\n",
       "  padding: 0;\n",
       "  margin: 0;\n",
       "  display: grid;\n",
       "  grid-template-columns: 125px auto;\n",
       "}\n",
       "\n",
       ".xr-attrs dt,\n",
       ".xr-attrs dd {\n",
       "  padding: 0;\n",
       "  margin: 0;\n",
       "  float: left;\n",
       "  padding-right: 10px;\n",
       "  width: auto;\n",
       "}\n",
       "\n",
       ".xr-attrs dt {\n",
       "  font-weight: normal;\n",
       "  grid-column: 1;\n",
       "}\n",
       "\n",
       ".xr-attrs dt:hover span {\n",
       "  display: inline-block;\n",
       "  background: var(--xr-background-color);\n",
       "  padding-right: 10px;\n",
       "}\n",
       "\n",
       ".xr-attrs dd {\n",
       "  grid-column: 2;\n",
       "  white-space: pre-wrap;\n",
       "  word-break: break-all;\n",
       "}\n",
       "\n",
       ".xr-icon-database,\n",
       ".xr-icon-file-text2,\n",
       ".xr-no-icon {\n",
       "  display: inline-block;\n",
       "  vertical-align: middle;\n",
       "  width: 1em;\n",
       "  height: 1.5em !important;\n",
       "  stroke-width: 0;\n",
       "  stroke: currentColor;\n",
       "  fill: currentColor;\n",
       "}\n",
       "</style><pre class='xr-text-repr-fallback'>&lt;xarray.Dataset&gt; Size: 120kB\n",
       "Dimensions:  (chain: 4, draw: 3000)\n",
       "Coordinates:\n",
       "  * chain    (chain) int64 32B 0 1 2 3\n",
       "  * draw     (draw) int64 24kB 0 1 2 3 4 5 6 ... 2994 2995 2996 2997 2998 2999\n",
       "    team     &lt;U5 20B &#x27;Tigre&#x27;\n",
       "Data variables:\n",
       "    rank     (chain, draw) int64 96kB 11 11 10 11 11 11 11 ... 9 10 11 12 13 11\n",
       "Attributes:\n",
       "    created_at:                 2025-06-06T16:46:51.090664+00:00\n",
       "    arviz_version:              0.21.0\n",
       "    inference_library:          pymc\n",
       "    inference_library_version:  5.22.0</pre><div class='xr-wrap' style='display:none'><div class='xr-header'><div class='xr-obj-type'>xarray.Dataset</div></div><ul class='xr-sections'><li class='xr-section-item'><input id='section-792cfb59-5e48-42a0-a866-683f2818b726' class='xr-section-summary-in' type='checkbox' disabled ><label for='section-792cfb59-5e48-42a0-a866-683f2818b726' class='xr-section-summary'  title='Expand/collapse section'>Dimensions:</label><div class='xr-section-inline-details'><ul class='xr-dim-list'><li><span class='xr-has-index'>chain</span>: 4</li><li><span class='xr-has-index'>draw</span>: 3000</li></ul></div><div class='xr-section-details'></div></li><li class='xr-section-item'><input id='section-8e006eab-d1be-4f08-8cdc-e62321687628' class='xr-section-summary-in' type='checkbox'  checked><label for='section-8e006eab-d1be-4f08-8cdc-e62321687628' class='xr-section-summary' >Coordinates: <span>(3)</span></label><div class='xr-section-inline-details'></div><div class='xr-section-details'><ul class='xr-var-list'><li class='xr-var-item'><div class='xr-var-name'><span class='xr-has-index'>chain</span></div><div class='xr-var-dims'>(chain)</div><div class='xr-var-dtype'>int64</div><div class='xr-var-preview xr-preview'>0 1 2 3</div><input id='attrs-3b9b0e2e-f204-4004-b733-d5af3c98b3cf' class='xr-var-attrs-in' type='checkbox' disabled><label for='attrs-3b9b0e2e-f204-4004-b733-d5af3c98b3cf' title='Show/Hide attributes'><svg class='icon xr-icon-file-text2'><use xlink:href='#icon-file-text2'></use></svg></label><input id='data-984a3b15-01f2-40b0-8d62-017572ecc481' class='xr-var-data-in' type='checkbox'><label for='data-984a3b15-01f2-40b0-8d62-017572ecc481' title='Show/Hide data repr'><svg class='icon xr-icon-database'><use xlink:href='#icon-database'></use></svg></label><div class='xr-var-attrs'><dl class='xr-attrs'></dl></div><div class='xr-var-data'><pre>array([0, 1, 2, 3])</pre></div></li><li class='xr-var-item'><div class='xr-var-name'><span class='xr-has-index'>draw</span></div><div class='xr-var-dims'>(draw)</div><div class='xr-var-dtype'>int64</div><div class='xr-var-preview xr-preview'>0 1 2 3 4 ... 2996 2997 2998 2999</div><input id='attrs-3cc514d5-477d-4a3b-b4f3-78c7e7059461' class='xr-var-attrs-in' type='checkbox' disabled><label for='attrs-3cc514d5-477d-4a3b-b4f3-78c7e7059461' title='Show/Hide attributes'><svg class='icon xr-icon-file-text2'><use xlink:href='#icon-file-text2'></use></svg></label><input id='data-4001bb67-ef75-4afb-a2b5-617007aae301' class='xr-var-data-in' type='checkbox'><label for='data-4001bb67-ef75-4afb-a2b5-617007aae301' title='Show/Hide data repr'><svg class='icon xr-icon-database'><use xlink:href='#icon-database'></use></svg></label><div class='xr-var-attrs'><dl class='xr-attrs'></dl></div><div class='xr-var-data'><pre>array([   0,    1,    2, ..., 2997, 2998, 2999], shape=(3000,))</pre></div></li><li class='xr-var-item'><div class='xr-var-name'><span>team</span></div><div class='xr-var-dims'>()</div><div class='xr-var-dtype'>&lt;U5</div><div class='xr-var-preview xr-preview'>&#x27;Tigre&#x27;</div><input id='attrs-eb937d55-5b4a-4c4a-8a79-fed98ece5b20' class='xr-var-attrs-in' type='checkbox' disabled><label for='attrs-eb937d55-5b4a-4c4a-8a79-fed98ece5b20' title='Show/Hide attributes'><svg class='icon xr-icon-file-text2'><use xlink:href='#icon-file-text2'></use></svg></label><input id='data-e67a8600-d205-464b-94eb-143124489897' class='xr-var-data-in' type='checkbox'><label for='data-e67a8600-d205-464b-94eb-143124489897' title='Show/Hide data repr'><svg class='icon xr-icon-database'><use xlink:href='#icon-database'></use></svg></label><div class='xr-var-attrs'><dl class='xr-attrs'></dl></div><div class='xr-var-data'><pre>array(&#x27;Tigre&#x27;, dtype=&#x27;&lt;U5&#x27;)</pre></div></li></ul></div></li><li class='xr-section-item'><input id='section-ccb39bc2-9c2e-4b3d-9e65-4541bfbce90f' class='xr-section-summary-in' type='checkbox'  checked><label for='section-ccb39bc2-9c2e-4b3d-9e65-4541bfbce90f' class='xr-section-summary' >Data variables: <span>(1)</span></label><div class='xr-section-inline-details'></div><div class='xr-section-details'><ul class='xr-var-list'><li class='xr-var-item'><div class='xr-var-name'><span>rank</span></div><div class='xr-var-dims'>(chain, draw)</div><div class='xr-var-dtype'>int64</div><div class='xr-var-preview xr-preview'>11 11 10 11 11 ... 10 11 12 13 11</div><input id='attrs-d64dfda4-9b46-442f-9aa8-72c2ce08ad2e' class='xr-var-attrs-in' type='checkbox' disabled><label for='attrs-d64dfda4-9b46-442f-9aa8-72c2ce08ad2e' title='Show/Hide attributes'><svg class='icon xr-icon-file-text2'><use xlink:href='#icon-file-text2'></use></svg></label><input id='data-4b0afcc2-911f-40de-b5c9-25dc84841643' class='xr-var-data-in' type='checkbox'><label for='data-4b0afcc2-911f-40de-b5c9-25dc84841643' title='Show/Hide data repr'><svg class='icon xr-icon-database'><use xlink:href='#icon-database'></use></svg></label><div class='xr-var-attrs'><dl class='xr-attrs'></dl></div><div class='xr-var-data'><pre>array([[11, 11, 10, ..., 12, 10, 14],\n",
       "       [12, 12, 12, ..., 10, 12, 12],\n",
       "       [11, 16, 11, ...,  9,  9, 12],\n",
       "       [ 9, 11, 11, ..., 12, 13, 11]], shape=(4, 3000))</pre></div></li></ul></div></li><li class='xr-section-item'><input id='section-3804a601-23ef-4239-abca-f43a1414356e' class='xr-section-summary-in' type='checkbox'  ><label for='section-3804a601-23ef-4239-abca-f43a1414356e' class='xr-section-summary' >Indexes: <span>(2)</span></label><div class='xr-section-inline-details'></div><div class='xr-section-details'><ul class='xr-var-list'><li class='xr-var-item'><div class='xr-index-name'><div>chain</div></div><div class='xr-index-preview'>PandasIndex</div><input type='checkbox' disabled/><label></label><input id='index-f73a97c1-ab85-4215-94fb-53921d2f34ef' class='xr-index-data-in' type='checkbox'/><label for='index-f73a97c1-ab85-4215-94fb-53921d2f34ef' title='Show/Hide index repr'><svg class='icon xr-icon-database'><use xlink:href='#icon-database'></use></svg></label><div class='xr-index-data'><pre>PandasIndex(Index([0, 1, 2, 3], dtype=&#x27;int64&#x27;, name=&#x27;chain&#x27;))</pre></div></li><li class='xr-var-item'><div class='xr-index-name'><div>draw</div></div><div class='xr-index-preview'>PandasIndex</div><input type='checkbox' disabled/><label></label><input id='index-a1711f44-1e80-43f5-bfc3-91e2e5daefd5' class='xr-index-data-in' type='checkbox'/><label for='index-a1711f44-1e80-43f5-bfc3-91e2e5daefd5' title='Show/Hide index repr'><svg class='icon xr-icon-database'><use xlink:href='#icon-database'></use></svg></label><div class='xr-index-data'><pre>PandasIndex(Index([   0,    1,    2,    3,    4,    5,    6,    7,    8,    9,\n",
       "       ...\n",
       "       2990, 2991, 2992, 2993, 2994, 2995, 2996, 2997, 2998, 2999],\n",
       "      dtype=&#x27;int64&#x27;, name=&#x27;draw&#x27;, length=3000))</pre></div></li></ul></div></li><li class='xr-section-item'><input id='section-10824cd7-fa13-45be-9b33-61910c3dfcd0' class='xr-section-summary-in' type='checkbox'  checked><label for='section-10824cd7-fa13-45be-9b33-61910c3dfcd0' class='xr-section-summary' >Attributes: <span>(4)</span></label><div class='xr-section-inline-details'></div><div class='xr-section-details'><dl class='xr-attrs'><dt><span>created_at :</span></dt><dd>2025-06-06T16:46:51.090664+00:00</dd><dt><span>arviz_version :</span></dt><dd>0.21.0</dd><dt><span>inference_library :</span></dt><dd>pymc</dd><dt><span>inference_library_version :</span></dt><dd>5.22.0</dd></dl></div></li></ul></div></div>"
      ],
      "text/plain": [
       "<xarray.Dataset> Size: 120kB\n",
       "Dimensions:  (chain: 4, draw: 3000)\n",
       "Coordinates:\n",
       "  * chain    (chain) int64 32B 0 1 2 3\n",
       "  * draw     (draw) int64 24kB 0 1 2 3 4 5 6 ... 2994 2995 2996 2997 2998 2999\n",
       "    team     <U5 20B 'Tigre'\n",
       "Data variables:\n",
       "    rank     (chain, draw) int64 96kB 11 11 10 11 11 11 11 ... 9 10 11 12 13 11\n",
       "Attributes:\n",
       "    created_at:                 2025-06-06T16:46:51.090664+00:00\n",
       "    arviz_version:              0.21.0\n",
       "    inference_library:          pymc\n",
       "    inference_library_version:  5.22.0"
      ]
     },
     "execution_count": 44,
     "metadata": {},
     "output_type": "execute_result"
    }
   ],
   "source": [
    "from xarray_einstats.stats import rankdata\n",
    "\n",
    "pp[\"rank\"] = rankdata(-pp[\"teamscores\"], dims=\"team\", method=\"min\")\n",
    "pp[[\"rank\"]].sel(team=\"Tigre\")"
   ]
  },
  {
   "cell_type": "code",
   "execution_count": 45,
   "metadata": {},
   "outputs": [],
   "source": [
    "tt = pp[\"rank\"].sel(team=\"Tigre\")"
   ]
  },
  {
   "cell_type": "code",
   "execution_count": 46,
   "metadata": {},
   "outputs": [
    {
     "data": {
      "text/plain": [
       "(array([1.09375000e-03, 5.83333333e-03, 1.03645833e-02, 7.80729167e-02,\n",
       "        1.14166667e-01, 3.16406250e-01, 8.50000000e-02, 9.21875000e-03,\n",
       "        4.79166667e-03, 5.20833333e-05]),\n",
       " array([ 3. ,  4.6,  6.2,  7.8,  9.4, 11. , 12.6, 14.2, 15.8, 17.4, 19. ]),\n",
       " <BarContainer object of 10 artists>)"
      ]
     },
     "execution_count": 46,
     "metadata": {},
     "output_type": "execute_result"
    },
    {
     "data": {
      "image/png": "[encoded data removed]",
      "text/plain": [
       "<Figure size 640x480 with 1 Axes>"
      ]
     },
     "metadata": {},
     "output_type": "display_data"
    }
   ],
   "source": [
    "plt.hist(tt.values.flatten(), bins=10, density=True)"
   ]
  },
  {
   "cell_type": "code",
   "execution_count": null,
   "metadata": {},
   "outputs": [
    {
     "data": {
      "text/plain": [
       "38"
      ]
     },
     "execution_count": 50,
     "metadata": {},
     "output_type": "execute_result"
    }
   ],
   "source": [
    "\n"
   ]
  },
  {
   "cell_type": "code",
   "execution_count": 55,
   "metadata": {},
   "outputs": [
    {
     "name": "stderr",
     "output_type": "stream",
     "text": [
      "c:\\Users\\verde\\miniconda3\\envs\\pymc\\Lib\\site-packages\\xhistogram\\core.py:462: RuntimeWarning:\n",
      "\n",
      "invalid value encountered in divide\n",
      "\n"
     ]
    }
   ],
   "source": [
    "from xhistogram.xarray import histogram\n",
    "\n",
    "bin_edges = np.arange(len(pp.team)) + 0.5\n",
    "data_sim = (\n",
    "    histogram(pp[\"rank\"], dim=(\"chain\", \"draw\"), bins=bin_edges, density=True)\n",
    "    #.rename({\"bin\": \"rank\"})\n",
    "    #.assign_coords(rank=np.arange(6) + 1)\n",
    ")"
   ]
  },
  {
   "cell_type": "code",
   "execution_count": 56,
   "metadata": {},
   "outputs": [],
   "source": [
    "idx_dim, col_dim = data_sim.dims\n",
    "sim_table = pd.DataFrame(data_sim, index=data_sim[idx_dim], columns=data_sim[col_dim])"
   ]
  },
  {
   "cell_type": "code",
   "execution_count": 57,
   "metadata": {},
   "outputs": [],
   "source": [
    "from matplotlib.ticker import StrMethodFormatter"
   ]
  },
  {
   "cell_type": "code",
   "execution_count": 58,
   "metadata": {},
   "outputs": [
    {
     "data": {
      "image/png": "[encoded data removed]",
      "text/plain": [
       "<Figure size 1600x1000 with 1 Axes>"
      ]
     },
     "metadata": {},
     "output_type": "display_data"
    }
   ],
   "source": [
    "fig, ax = plt.subplots(figsize=(16, 10))\n",
    "ax = sim_table.T.plot(kind=\"barh\", ax=ax)\n",
    "ax.xaxis.set_major_formatter(StrMethodFormatter(\"{x:.1%}\"))\n",
    "ax.set_xlabel(\"Rank-wise Probability of results for all teams\")\n",
    "ax.set_yticklabels(np.arange(1, pp.team.shape[0]))\n",
    "ax.set_ylabel(\"Ranks\")\n",
    "ax.invert_yaxis()\n",
    "ax.legend(loc=\"best\", fontsize=\"medium\");"
   ]
  },
  {
   "cell_type": "code",
   "execution_count": null,
   "metadata": {},
   "outputs": [],
   "source": []
  },
  {
   "cell_type": "markdown",
   "metadata": {},
   "source": [
    "trato de predecir el resultado de un partido"
   ]
  },
  {
   "cell_type": "code",
   "execution_count": 72,
   "metadata": {},
   "outputs": [
    {
     "name": "stderr",
     "output_type": "stream",
     "text": [
      "Sampling: [away_points, home_points]\n"
     ]
    },
    {
     "data": {
      "application/vnd.jupyter.widget-view+json": {
       "model_id": "d3d434a483aa41df942dd98b8f27d9b5",
       "version_major": 2,
       "version_minor": 0
      },
      "text/plain": [
       "Output()"
      ]
     },
     "metadata": {},
     "output_type": "display_data"
    },
    {
     "data": {
      "text/html": [
       "<pre style=\"white-space:pre;overflow-x:auto;line-height:normal;font-family:Menlo,'DejaVu Sans Mono',consolas,'Courier New',monospace\"></pre>\n"
      ],
      "text/plain": []
     },
     "metadata": {},
     "output_type": "display_data"
    }
   ],
   "source": [
    "with model:\n",
    "    pp_ = pm.sample_posterior_predictive(trace)"
   ]
  },
  {
   "cell_type": "code",
   "execution_count": 179,
   "metadata": {},
   "outputs": [
    {
     "data": {
      "text/plain": [
       "(Index(['Aldosivi', 'All Boys', 'Argentinos', 'Arsenal', 'Atl Rafaela',\n",
       "        'Atl Tucuman', 'Banfield', 'Belgrano', 'Boca Juniors',\n",
       "        'Central Cba (SdE)', 'Chacarita', 'Colon', 'Crucero (M)',\n",
       "        'Def y Justicia', 'Estudiantes (LP)', 'Gimnasia (LP)', 'Godoy Cruz',\n",
       "        'Huracan', 'Independiente', 'Instituto', 'Lanus', 'Newells',\n",
       "        'Nueva Chicago', 'Olimpo', 'Patronato', 'Quilmes', 'Racing Club',\n",
       "        'River Plate', 'Rosario Central', 'San Lorenzo', 'San Martin (SJ)',\n",
       "        'San Martin (T)', 'Sarmiento (J)', 'Talleres (C)', 'Temperley', 'Tigre',\n",
       "        'Union', 'Velez'],\n",
       "       dtype='object'),\n",
       " array([ 2,  3,  1, ..., 33, 33, 36], shape=(4053,)))"
      ]
     },
     "execution_count": 179,
     "metadata": {},
     "output_type": "execute_result"
    }
   ],
   "source": [
    "teams, home_idx"
   ]
  },
  {
   "cell_type": "code",
   "execution_count": 168,
   "metadata": {},
   "outputs": [],
   "source": [
    "team_dics = dict(zip(list(teams), home_idx.astype(int)))"
   ]
  },
  {
   "cell_type": "code",
   "execution_count": 169,
   "metadata": {},
   "outputs": [
    {
     "data": {
      "text/plain": [
       "{'Aldosivi': np.int64(2),\n",
       " 'All Boys': np.int64(3),\n",
       " 'Argentinos': np.int64(1),\n",
       " 'Arsenal': np.int64(1),\n",
       " 'Atl Rafaela': np.int64(11),\n",
       " 'Atl Tucuman': np.int64(1),\n",
       " 'Banfield': np.int64(15),\n",
       " 'Belgrano': np.int64(1),\n",
       " 'Boca Juniors': np.int64(17),\n",
       " 'Central Cba (SdE)': np.int64(1),\n",
       " 'Chacarita': np.int64(20),\n",
       " 'Colon': np.int64(1),\n",
       " 'Crucero (M)': np.int64(1),\n",
       " 'Def y Justicia': np.int64(25),\n",
       " 'Estudiantes (LP)': np.int64(26),\n",
       " 'Gimnasia (LP)': np.int64(1),\n",
       " 'Godoy Cruz': np.int64(28),\n",
       " 'Huracan': np.int64(1),\n",
       " 'Independiente': np.int64(29),\n",
       " 'Instituto': np.int64(1),\n",
       " 'Lanus': np.int64(1),\n",
       " 'Newells': np.int64(3),\n",
       " 'Nueva Chicago': np.int64(3),\n",
       " 'Olimpo': np.int64(5),\n",
       " 'Patronato': np.int64(2),\n",
       " 'Quilmes': np.int64(6),\n",
       " 'Racing Club': np.int64(8),\n",
       " 'River Plate': np.int64(2),\n",
       " 'Rosario Central': np.int64(2),\n",
       " 'San Lorenzo': np.int64(2),\n",
       " 'San Martin (SJ)': np.int64(2),\n",
       " 'San Martin (T)': np.int64(14),\n",
       " 'Sarmiento (J)': np.int64(14),\n",
       " 'Talleres (C)': np.int64(15),\n",
       " 'Temperley': np.int64(2),\n",
       " 'Tigre': np.int64(2),\n",
       " 'Union': np.int64(2),\n",
       " 'Velez': np.int64(2)}"
      ]
     },
     "execution_count": 169,
     "metadata": {},
     "output_type": "execute_result"
    }
   ],
   "source": [
    "team_dics"
   ]
  },
  {
   "cell_type": "code",
   "execution_count": 147,
   "metadata": {},
   "outputs": [
    {
     "data": {
      "text/plain": [
       "'Nueva Chicago'"
      ]
     },
     "execution_count": 147,
     "metadata": {},
     "output_type": "execute_result"
    }
   ],
   "source": [
    "teams[22]"
   ]
  },
  {
   "cell_type": "code",
   "execution_count": 170,
   "metadata": {},
   "outputs": [],
   "source": [
    "local_ = pp_.constant_data.home_team == team_dics[\"Tigre\"]\n",
    "away_ = pp_.constant_data.away_team == team_dics[\"Boca Juniors\"]"
   ]
  },
  {
   "cell_type": "code",
   "execution_count": 171,
   "metadata": {},
   "outputs": [],
   "source": [
    "combinada = (local_ & away_) #.sum()"
   ]
  },
  {
   "cell_type": "markdown",
   "metadata": {},
   "source": [
    "cantidad de partidos que jugaron"
   ]
  },
  {
   "cell_type": "code",
   "execution_count": 172,
   "metadata": {},
   "outputs": [
    {
     "data": {
      "text/html": [
       "<div><svg style=\"position: absolute; width: 0; height: 0; overflow: hidden\">\n",
       "<defs>\n",
       "<symbol id=\"icon-database\" viewBox=\"0 0 32 32\">\n",
       "<path d=\"M16 0c-8.837 0-16 2.239-16 5v4c0 2.761 7.163 5 16 5s16-2.239 16-5v-4c0-2.761-7.163-5-16-5z\"></path>\n",
       "<path d=\"M16 17c-8.837 0-16-2.239-16-5v6c0 2.761 7.163 5 16 5s16-2.239 16-5v-6c0 2.761-7.163 5-16 5z\"></path>\n",
       "<path d=\"M16 26c-8.837 0-16-2.239-16-5v6c0 2.761 7.163 5 16 5s16-2.239 16-5v-6c0 2.761-7.163 5-16 5z\"></path>\n",
       "</symbol>\n",
       "<symbol id=\"icon-file-text2\" viewBox=\"0 0 32 32\">\n",
       "<path d=\"M28.681 7.159c-0.694-0.947-1.662-2.053-2.724-3.116s-2.169-2.030-3.116-2.724c-1.612-1.182-2.393-1.319-2.841-1.319h-15.5c-1.378 0-2.5 1.121-2.5 2.5v27c0 1.378 1.122 2.5 2.5 2.5h23c1.378 0 2.5-1.122 2.5-2.5v-19.5c0-0.448-0.137-1.23-1.319-2.841zM24.543 5.457c0.959 0.959 1.712 1.825 2.268 2.543h-4.811v-4.811c0.718 0.556 1.584 1.309 2.543 2.268zM28 29.5c0 0.271-0.229 0.5-0.5 0.5h-23c-0.271 0-0.5-0.229-0.5-0.5v-27c0-0.271 0.229-0.5 0.5-0.5 0 0 15.499-0 15.5 0v7c0 0.552 0.448 1 1 1h7v19.5z\"></path>\n",
       "<path d=\"M23 26h-14c-0.552 0-1-0.448-1-1s0.448-1 1-1h14c0.552 0 1 0.448 1 1s-0.448 1-1 1z\"></path>\n",
       "<path d=\"M23 22h-14c-0.552 0-1-0.448-1-1s0.448-1 1-1h14c0.552 0 1 0.448 1 1s-0.448 1-1 1z\"></path>\n",
       "<path d=\"M23 18h-14c-0.552 0-1-0.448-1-1s0.448-1 1-1h14c0.552 0 1 0.448 1 1s-0.448 1-1 1z\"></path>\n",
       "</symbol>\n",
       "</defs>\n",
       "</svg>\n",
       "<style>/* CSS stylesheet for displaying xarray objects in jupyterlab.\n",
       " *\n",
       " */\n",
       "\n",
       ":root {\n",
       "  --xr-font-color0: var(--jp-content-font-color0, rgba(0, 0, 0, 1));\n",
       "  --xr-font-color2: var(--jp-content-font-color2, rgba(0, 0, 0, 0.54));\n",
       "  --xr-font-color3: var(--jp-content-font-color3, rgba(0, 0, 0, 0.38));\n",
       "  --xr-border-color: var(--jp-border-color2, #e0e0e0);\n",
       "  --xr-disabled-color: var(--jp-layout-color3, #bdbdbd);\n",
       "  --xr-background-color: var(--jp-layout-color0, white);\n",
       "  --xr-background-color-row-even: var(--jp-layout-color1, white);\n",
       "  --xr-background-color-row-odd: var(--jp-layout-color2, #eeeeee);\n",
       "}\n",
       "\n",
       "html[theme=\"dark\"],\n",
       "html[data-theme=\"dark\"],\n",
       "body[data-theme=\"dark\"],\n",
       "body.vscode-dark {\n",
       "  --xr-font-color0: rgba(255, 255, 255, 1);\n",
       "  --xr-font-color2: rgba(255, 255, 255, 0.54);\n",
       "  --xr-font-color3: rgba(255, 255, 255, 0.38);\n",
       "  --xr-border-color: #1f1f1f;\n",
       "  --xr-disabled-color: #515151;\n",
       "  --xr-background-color: #111111;\n",
       "  --xr-background-color-row-even: #111111;\n",
       "  --xr-background-color-row-odd: #313131;\n",
       "}\n",
       "\n",
       ".xr-wrap {\n",
       "  display: block !important;\n",
       "  min-width: 300px;\n",
       "  max-width: 700px;\n",
       "}\n",
       "\n",
       ".xr-text-repr-fallback {\n",
       "  /* fallback to plain text repr when CSS is not injected (untrusted notebook) */\n",
       "  display: none;\n",
       "}\n",
       "\n",
       ".xr-header {\n",
       "  padding-top: 6px;\n",
       "  padding-bottom: 6px;\n",
       "  margin-bottom: 4px;\n",
       "  border-bottom: solid 1px var(--xr-border-color);\n",
       "}\n",
       "\n",
       ".xr-header > div,\n",
       ".xr-header > ul {\n",
       "  display: inline;\n",
       "  margin-top: 0;\n",
       "  margin-bottom: 0;\n",
       "}\n",
       "\n",
       ".xr-obj-type,\n",
       ".xr-array-name {\n",
       "  margin-left: 2px;\n",
       "  margin-right: 10px;\n",
       "}\n",
       "\n",
       ".xr-obj-type {\n",
       "  color: var(--xr-font-color2);\n",
       "}\n",
       "\n",
       ".xr-sections {\n",
       "  padding-left: 0 !important;\n",
       "  display: grid;\n",
       "  grid-template-columns: 150px auto auto 1fr 0 20px 0 20px;\n",
       "}\n",
       "\n",
       ".xr-section-item {\n",
       "  display: contents;\n",
       "}\n",
       "\n",
       ".xr-section-item input {\n",
       "  display: inline-block;\n",
       "  opacity: 0;\n",
       "  height: 0;\n",
       "}\n",
       "\n",
       ".xr-section-item input + label {\n",
       "  color: var(--xr-disabled-color);\n",
       "}\n",
       "\n",
       ".xr-section-item input:enabled + label {\n",
       "  cursor: pointer;\n",
       "  color: var(--xr-font-color2);\n",
       "}\n",
       "\n",
       ".xr-section-item input:focus + label {\n",
       "  border: 2px solid var(--xr-font-color0);\n",
       "}\n",
       "\n",
       ".xr-section-item input:enabled + label:hover {\n",
       "  color: var(--xr-font-color0);\n",
       "}\n",
       "\n",
       ".xr-section-summary {\n",
       "  grid-column: 1;\n",
       "  color: var(--xr-font-color2);\n",
       "  font-weight: 500;\n",
       "}\n",
       "\n",
       ".xr-section-summary > span {\n",
       "  display: inline-block;\n",
       "  padding-left: 0.5em;\n",
       "}\n",
       "\n",
       ".xr-section-summary-in:disabled + label {\n",
       "  color: var(--xr-font-color2);\n",
       "}\n",
       "\n",
       ".xr-section-summary-in + label:before {\n",
       "  display: inline-block;\n",
       "  content: \"►\";\n",
       "  font-size: 11px;\n",
       "  width: 15px;\n",
       "  text-align: center;\n",
       "}\n",
       "\n",
       ".xr-section-summary-in:disabled + label:before {\n",
       "  color: var(--xr-disabled-color);\n",
       "}\n",
       "\n",
       ".xr-section-summary-in:checked + label:before {\n",
       "  content: \"▼\";\n",
       "}\n",
       "\n",
       ".xr-section-summary-in:checked + label > span {\n",
       "  display: none;\n",
       "}\n",
       "\n",
       ".xr-section-summary,\n",
       ".xr-section-inline-details {\n",
       "  padding-top: 4px;\n",
       "  padding-bottom: 4px;\n",
       "}\n",
       "\n",
       ".xr-section-inline-details {\n",
       "  grid-column: 2 / -1;\n",
       "}\n",
       "\n",
       ".xr-section-details {\n",
       "  display: none;\n",
       "  grid-column: 1 / -1;\n",
       "  margin-bottom: 5px;\n",
       "}\n",
       "\n",
       ".xr-section-summary-in:checked ~ .xr-section-details {\n",
       "  display: contents;\n",
       "}\n",
       "\n",
       ".xr-array-wrap {\n",
       "  grid-column: 1 / -1;\n",
       "  display: grid;\n",
       "  grid-template-columns: 20px auto;\n",
       "}\n",
       "\n",
       ".xr-array-wrap > label {\n",
       "  grid-column: 1;\n",
       "  vertical-align: top;\n",
       "}\n",
       "\n",
       ".xr-preview {\n",
       "  color: var(--xr-font-color3);\n",
       "}\n",
       "\n",
       ".xr-array-preview,\n",
       ".xr-array-data {\n",
       "  padding: 0 5px !important;\n",
       "  grid-column: 2;\n",
       "}\n",
       "\n",
       ".xr-array-data,\n",
       ".xr-array-in:checked ~ .xr-array-preview {\n",
       "  display: none;\n",
       "}\n",
       "\n",
       ".xr-array-in:checked ~ .xr-array-data,\n",
       ".xr-array-preview {\n",
       "  display: inline-block;\n",
       "}\n",
       "\n",
       ".xr-dim-list {\n",
       "  display: inline-block !important;\n",
       "  list-style: none;\n",
       "  padding: 0 !important;\n",
       "  margin: 0;\n",
       "}\n",
       "\n",
       ".xr-dim-list li {\n",
       "  display: inline-block;\n",
       "  padding: 0;\n",
       "  margin: 0;\n",
       "}\n",
       "\n",
       ".xr-dim-list:before {\n",
       "  content: \"(\";\n",
       "}\n",
       "\n",
       ".xr-dim-list:after {\n",
       "  content: \")\";\n",
       "}\n",
       "\n",
       ".xr-dim-list li:not(:last-child):after {\n",
       "  content: \",\";\n",
       "  padding-right: 5px;\n",
       "}\n",
       "\n",
       ".xr-has-index {\n",
       "  font-weight: bold;\n",
       "}\n",
       "\n",
       ".xr-var-list,\n",
       ".xr-var-item {\n",
       "  display: contents;\n",
       "}\n",
       "\n",
       ".xr-var-item > div,\n",
       ".xr-var-item label,\n",
       ".xr-var-item > .xr-var-name span {\n",
       "  background-color: var(--xr-background-color-row-even);\n",
       "  margin-bottom: 0;\n",
       "}\n",
       "\n",
       ".xr-var-item > .xr-var-name:hover span {\n",
       "  padding-right: 5px;\n",
       "}\n",
       "\n",
       ".xr-var-list > li:nth-child(odd) > div,\n",
       ".xr-var-list > li:nth-child(odd) > label,\n",
       ".xr-var-list > li:nth-child(odd) > .xr-var-name span {\n",
       "  background-color: var(--xr-background-color-row-odd);\n",
       "}\n",
       "\n",
       ".xr-var-name {\n",
       "  grid-column: 1;\n",
       "}\n",
       "\n",
       ".xr-var-dims {\n",
       "  grid-column: 2;\n",
       "}\n",
       "\n",
       ".xr-var-dtype {\n",
       "  grid-column: 3;\n",
       "  text-align: right;\n",
       "  color: var(--xr-font-color2);\n",
       "}\n",
       "\n",
       ".xr-var-preview {\n",
       "  grid-column: 4;\n",
       "}\n",
       "\n",
       ".xr-index-preview {\n",
       "  grid-column: 2 / 5;\n",
       "  color: var(--xr-font-color2);\n",
       "}\n",
       "\n",
       ".xr-var-name,\n",
       ".xr-var-dims,\n",
       ".xr-var-dtype,\n",
       ".xr-preview,\n",
       ".xr-attrs dt {\n",
       "  white-space: nowrap;\n",
       "  overflow: hidden;\n",
       "  text-overflow: ellipsis;\n",
       "  padding-right: 10px;\n",
       "}\n",
       "\n",
       ".xr-var-name:hover,\n",
       ".xr-var-dims:hover,\n",
       ".xr-var-dtype:hover,\n",
       ".xr-attrs dt:hover {\n",
       "  overflow: visible;\n",
       "  width: auto;\n",
       "  z-index: 1;\n",
       "}\n",
       "\n",
       ".xr-var-attrs,\n",
       ".xr-var-data,\n",
       ".xr-index-data {\n",
       "  display: none;\n",
       "  background-color: var(--xr-background-color) !important;\n",
       "  padding-bottom: 5px !important;\n",
       "}\n",
       "\n",
       ".xr-var-attrs-in:checked ~ .xr-var-attrs,\n",
       ".xr-var-data-in:checked ~ .xr-var-data,\n",
       ".xr-index-data-in:checked ~ .xr-index-data {\n",
       "  display: block;\n",
       "}\n",
       "\n",
       ".xr-var-data > table {\n",
       "  float: right;\n",
       "}\n",
       "\n",
       ".xr-var-name span,\n",
       ".xr-var-data,\n",
       ".xr-index-name div,\n",
       ".xr-index-data,\n",
       ".xr-attrs {\n",
       "  padding-left: 25px !important;\n",
       "}\n",
       "\n",
       ".xr-attrs,\n",
       ".xr-var-attrs,\n",
       ".xr-var-data,\n",
       ".xr-index-data {\n",
       "  grid-column: 1 / -1;\n",
       "}\n",
       "\n",
       "dl.xr-attrs {\n",
       "  padding: 0;\n",
       "  margin: 0;\n",
       "  display: grid;\n",
       "  grid-template-columns: 125px auto;\n",
       "}\n",
       "\n",
       ".xr-attrs dt,\n",
       ".xr-attrs dd {\n",
       "  padding: 0;\n",
       "  margin: 0;\n",
       "  float: left;\n",
       "  padding-right: 10px;\n",
       "  width: auto;\n",
       "}\n",
       "\n",
       ".xr-attrs dt {\n",
       "  font-weight: normal;\n",
       "  grid-column: 1;\n",
       "}\n",
       "\n",
       ".xr-attrs dt:hover span {\n",
       "  display: inline-block;\n",
       "  background: var(--xr-background-color);\n",
       "  padding-right: 10px;\n",
       "}\n",
       "\n",
       ".xr-attrs dd {\n",
       "  grid-column: 2;\n",
       "  white-space: pre-wrap;\n",
       "  word-break: break-all;\n",
       "}\n",
       "\n",
       ".xr-icon-database,\n",
       ".xr-icon-file-text2,\n",
       ".xr-no-icon {\n",
       "  display: inline-block;\n",
       "  vertical-align: middle;\n",
       "  width: 1em;\n",
       "  height: 1.5em !important;\n",
       "  stroke-width: 0;\n",
       "  stroke: currentColor;\n",
       "  fill: currentColor;\n",
       "}\n",
       "</style><pre class='xr-text-repr-fallback'>&lt;xarray.DataArray ()&gt; Size: 8B\n",
       "array(2)</pre><div class='xr-wrap' style='display:none'><div class='xr-header'><div class='xr-obj-type'>xarray.DataArray</div><div class='xr-array-name'></div></div><ul class='xr-sections'><li class='xr-section-item'><div class='xr-array-wrap'><input id='section-65c7d406-26c9-435c-afdf-5e5c401af6c8' class='xr-array-in' type='checkbox' checked><label for='section-65c7d406-26c9-435c-afdf-5e5c401af6c8' title='Show/hide data repr'><svg class='icon xr-icon-database'><use xlink:href='#icon-database'></use></svg></label><div class='xr-array-preview xr-preview'><span>2</span></div><div class='xr-array-data'><pre>array(2)</pre></div></div></li><li class='xr-section-item'><input id='section-852b2a6c-1cb3-4323-9048-05aeba82aa72' class='xr-section-summary-in' type='checkbox' disabled ><label for='section-852b2a6c-1cb3-4323-9048-05aeba82aa72' class='xr-section-summary'  title='Expand/collapse section'>Coordinates: <span>(0)</span></label><div class='xr-section-inline-details'></div><div class='xr-section-details'><ul class='xr-var-list'></ul></div></li><li class='xr-section-item'><input id='section-024dd357-ee4a-4f97-9497-b0a4631cb30f' class='xr-section-summary-in' type='checkbox' disabled ><label for='section-024dd357-ee4a-4f97-9497-b0a4631cb30f' class='xr-section-summary'  title='Expand/collapse section'>Indexes: <span>(0)</span></label><div class='xr-section-inline-details'></div><div class='xr-section-details'><ul class='xr-var-list'></ul></div></li><li class='xr-section-item'><input id='section-e0075894-d706-46a3-9914-f29416acbe41' class='xr-section-summary-in' type='checkbox' disabled ><label for='section-e0075894-d706-46a3-9914-f29416acbe41' class='xr-section-summary'  title='Expand/collapse section'>Attributes: <span>(0)</span></label><div class='xr-section-inline-details'></div><div class='xr-section-details'><dl class='xr-attrs'></dl></div></li></ul></div></div>"
      ],
      "text/plain": [
       "<xarray.DataArray ()> Size: 8B\n",
       "array(2)"
      ]
     },
     "execution_count": 172,
     "metadata": {},
     "output_type": "execute_result"
    }
   ],
   "source": [
    "combinada.sum()"
   ]
  },
  {
   "cell_type": "code",
   "execution_count": 173,
   "metadata": {},
   "outputs": [],
   "source": [
    "golesLocal = pp_.posterior_predictive.home_points.sel(\n",
    "    {\"match\": combinada}\n",
    ").stack(desired=['chain', 'draw'])"
   ]
  },
  {
   "cell_type": "code",
   "execution_count": 174,
   "metadata": {},
   "outputs": [],
   "source": [
    "golesVisita = pp_.posterior_predictive.away_points.sel(\n",
    "    {\"match\": combinada}\n",
    ").stack(desired=['chain', 'draw'])"
   ]
  },
  {
   "cell_type": "code",
   "execution_count": 175,
   "metadata": {},
   "outputs": [
    {
     "data": {
      "text/plain": [
       "(array([2, 1, 2, 0, 1, 0, 0, 3, 1, 4]), array([1, 1, 0, 0, 0, 1, 2, 1, 2, 1]))"
      ]
     },
     "execution_count": 175,
     "metadata": {},
     "output_type": "execute_result"
    }
   ],
   "source": [
    "golesLocal.values[0,:10], golesVisita.values[0,:10]"
   ]
  },
  {
   "cell_type": "code",
   "execution_count": 176,
   "metadata": {},
   "outputs": [
    {
     "data": {
      "text/plain": [
       "[<matplotlib.lines.Line2D at 0x25676a04f50>]"
      ]
     },
     "execution_count": 176,
     "metadata": {},
     "output_type": "execute_result"
    },
    {
     "data": {
      "image/png": "[encoded data removed]",
      "text/plain": [
       "<Figure size 640x480 with 1 Axes>"
      ]
     },
     "metadata": {},
     "output_type": "display_data"
    }
   ],
   "source": [
    "plt.plot(golesLocal.values[0,:], golesVisita.values[0,:], 'o', alpha=0.5)"
   ]
  },
  {
   "cell_type": "code",
   "execution_count": 177,
   "metadata": {},
   "outputs": [
    {
     "data": {
      "text/plain": [
       "(array([2.50020835e-04, 1.00008334e-03, 3.41695141e-03, 1.78348196e-02,\n",
       "        6.78389866e-02, 1.77598133e-01, 3.01525127e-01, 2.39019918e-01,\n",
       "        1.25177098e-01, 4.85873823e-02, 1.36678057e-02, 4.08367364e-03]),\n",
       " array([-6., -5., -4., -3., -2., -1.,  0.,  1.,  2.,  3.,  4.,  5.,  6.]),\n",
       " <BarContainer object of 12 artists>)"
      ]
     },
     "execution_count": 177,
     "metadata": {},
     "output_type": "execute_result"
    },
    {
     "data": {
      "image/png": "[encoded data removed]",
      "text/plain": [
       "<Figure size 640x480 with 1 Axes>"
      ]
     },
     "metadata": {},
     "output_type": "display_data"
    }
   ],
   "source": [
    "plt.hist(golesLocal[0,:].values - golesVisita[0,:].values, bins=np.arange(-6, 7, 1), density=True)"
   ]
  },
  {
   "cell_type": "code",
   "execution_count": 183,
   "metadata": {},
   "outputs": [
    {
     "name": "stdout",
     "output_type": "stream",
     "text": [
      "Probabilidad de empate: 30.15%\n",
      "Probabilidad de que gane el local: 43.06%\n",
      "Probabilidad de que gane el visitante: 26.79%\n",
      "Probabilidad de empate sin goles: 12.65%\n",
      "Probabilidad de empate sin goles: 0.55%\n",
      "Probabilidad de empate sin goles: 0.32%\n"
     ]
    }
   ],
   "source": [
    "p_empate = (golesLocal[0,:].values == golesVisita[0,:].values).sum() / len(golesLocal[0,:].values)\n",
    "print(f\"Probabilidad de empate: {p_empate:.2%}\")\n",
    "p_ganaLocal = (golesLocal[0,:].values > golesVisita[0,:].values).sum() / len(golesLocal[0,:].values)\n",
    "print(f\"Probabilidad de que gane el local: {p_ganaLocal:.2%}\")\n",
    "p_ganaVisita = (golesLocal[0,:].values < golesVisita[0,:].values).sum() / len(golesLocal[0,:].values)\n",
    "print(f\"Probabilidad de que gane el visitante: {p_ganaVisita:.2%}\")\n",
    "p_empate_sg = ((golesLocal[0,:].values == 0) & (golesVisita[0,:].values == 0)).sum() / len(golesLocal[0,:].values)\n",
    "print(f\"Probabilidad de empate sin goles: {p_empate_sg:.2%}\")\n",
    "p_empate_33 = ((golesLocal[0,:].values == 3) & (golesVisita[0,:].values == 3)).sum() / len(golesLocal[0,:].values)\n",
    "print(f\"Probabilidad de empate sin goles: {p_empate_33:.2%}\")\n",
    "p_empate_50 = ((golesLocal[0,:].values == 5) & (golesVisita[0,:].values == 0)).sum() / len(golesLocal[0,:].values)\n",
    "print(f\"Probabilidad de empate sin goles: {p_empate_50:.2%}\")"
   ]
  }
 ],
 "metadata": {
  "kernelspec": {
   "display_name": "pymc",
   "language": "python",
   "name": "python3"
  },
  "language_info": {
   "codemirror_mode": {
    "name": "ipython",
    "version": 3
   },
   "file_extension": ".py",
   "mimetype": "text/x-python",
   "name": "python",
   "nbconvert_exporter": "python",
   "pygments_lexer": "ipython3",
   "version": "3.13.2"
  },
  "orig_nbformat": 4
 },
 "nbformat": 4,
 "nbformat_minor": 2
}
